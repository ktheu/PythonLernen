{
 "cells": [
  {
   "cell_type": "markdown",
   "id": "75466093-c1c5-41fb-aa6e-78d73578a55f",
   "metadata": {},
   "source": [
    "### Pandas\n",
    "\n",
    "**pandas** ist eine Python-Bibliothek für Datenanalyse und Datenmanipulation. pandas macht es sehr einfach, strukturierte Daten (wie Excel-Tabellen) in Python zu bearbeiten.\n",
    "\n"
   ]
  },
  {
   "cell_type": "code",
   "execution_count": 2,
   "id": "8ea1be8a-f6a3-4eae-83cb-b53169475484",
   "metadata": {},
   "outputs": [],
   "source": [
    "import pandas as pd"
   ]
  },
  {
   "cell_type": "markdown",
   "id": "5a2889a2-446d-42f3-8e23-0b2a764208a1",
   "metadata": {},
   "source": [
    "Die zwei wichtigsten Datenstrukturen sind\n",
    "\n",
    "- Series\n",
    "- Dataframes\n",
    "\n",
    "\n",
    "1. Series (eindimensional)\n",
    "Eine Series ist wie eine Spalte in Excel:\n",
    "python# Series erstellen\n",
    "noten = pd.Series([1.5, 2.0, 1.7, 2.3, 1.9])\n",
    "print(noten)"
   ]
  },
  {
   "cell_type": "markdown",
   "id": "98cf955c-b2f3-494d-b87a-8a5ddd907668",
   "metadata": {},
   "source": [
    "#### Series\n",
    "\n",
    "Eine Series ist wie eine Spalte in Excel"
   ]
  },
  {
   "cell_type": "code",
   "execution_count": 3,
   "id": "f3f80947-7bed-4df6-983b-21696004ff2c",
   "metadata": {},
   "outputs": [
    {
     "data": {
      "text/plain": [
       "0    1.5\n",
       "1    2.0\n",
       "2    1.7\n",
       "3    2.3\n",
       "4    1.9\n",
       "dtype: float64"
      ]
     },
     "execution_count": 3,
     "metadata": {},
     "output_type": "execute_result"
    }
   ],
   "source": [
    "noten = pd.Series([1.5, 2.0, 1.7, 2.3, 1.9])\n",
    "noten"
   ]
  },
  {
   "cell_type": "code",
   "execution_count": 4,
   "id": "2643aa6a-1d2d-48c9-a0d2-1744926d015b",
   "metadata": {},
   "outputs": [
    {
     "data": {
      "text/plain": [
       "Anna     1.5\n",
       "Ben      2.0\n",
       "Clara    1.7\n",
       "David    2.3\n",
       "Emma     1.9\n",
       "dtype: float64"
      ]
     },
     "execution_count": 4,
     "metadata": {},
     "output_type": "execute_result"
    }
   ],
   "source": [
    "noten_mit_namen = pd.Series([1.5, 2.0, 1.7, 2.3, 1.9], \n",
    "                           index=['Anna', 'Ben', 'Clara', 'David', 'Emma'])\n",
    "noten_mit_namen"
   ]
  },
  {
   "cell_type": "markdown",
   "id": "d43059de-8fde-412b-a044-f34117b536fd",
   "metadata": {},
   "source": [
    "Eine Series können wir uns vorstellen wie ein dictionary, das für die Datenanalyse zusätzliche Funktionen hat."
   ]
  },
  {
   "cell_type": "markdown",
   "id": "4e266593-5864-4ec7-9807-e523fa2df8d4",
   "metadata": {},
   "source": [
    "#### Dataframe\n",
    "\n",
    "Ein DataFrame ist wie eine komplette Excel-Tabelle."
   ]
  },
  {
   "cell_type": "code",
   "execution_count": 17,
   "id": "2cbe66f5-bc57-42e6-9357-0a4c5b102d45",
   "metadata": {},
   "outputs": [
    {
     "data": {
      "text/html": [
       "<div>\n",
       "<style scoped>\n",
       "    .dataframe tbody tr th:only-of-type {\n",
       "        vertical-align: middle;\n",
       "    }\n",
       "\n",
       "    .dataframe tbody tr th {\n",
       "        vertical-align: top;\n",
       "    }\n",
       "\n",
       "    .dataframe thead th {\n",
       "        text-align: right;\n",
       "    }\n",
       "</style>\n",
       "<table border=\"1\" class=\"dataframe\">\n",
       "  <thead>\n",
       "    <tr style=\"text-align: right;\">\n",
       "      <th></th>\n",
       "      <th>Name</th>\n",
       "      <th>Alter</th>\n",
       "      <th>Mathe_Note</th>\n",
       "      <th>Deutsch_Note</th>\n",
       "    </tr>\n",
       "  </thead>\n",
       "  <tbody>\n",
       "    <tr>\n",
       "      <th>0</th>\n",
       "      <td>Anna</td>\n",
       "      <td>16</td>\n",
       "      <td>1.5</td>\n",
       "      <td>2.1</td>\n",
       "    </tr>\n",
       "    <tr>\n",
       "      <th>1</th>\n",
       "      <td>Ben</td>\n",
       "      <td>17</td>\n",
       "      <td>2.0</td>\n",
       "      <td>1.8</td>\n",
       "    </tr>\n",
       "    <tr>\n",
       "      <th>2</th>\n",
       "      <td>Clara</td>\n",
       "      <td>16</td>\n",
       "      <td>1.7</td>\n",
       "      <td>1.5</td>\n",
       "    </tr>\n",
       "    <tr>\n",
       "      <th>3</th>\n",
       "      <td>David</td>\n",
       "      <td>17</td>\n",
       "      <td>2.3</td>\n",
       "      <td>2.0</td>\n",
       "    </tr>\n",
       "    <tr>\n",
       "      <th>4</th>\n",
       "      <td>Emma</td>\n",
       "      <td>16</td>\n",
       "      <td>1.9</td>\n",
       "      <td>1.7</td>\n",
       "    </tr>\n",
       "  </tbody>\n",
       "</table>\n",
       "</div>"
      ],
      "text/plain": [
       "    Name  Alter  Mathe_Note  Deutsch_Note\n",
       "0   Anna     16         1.5           2.1\n",
       "1    Ben     17         2.0           1.8\n",
       "2  Clara     16         1.7           1.5\n",
       "3  David     17         2.3           2.0\n",
       "4   Emma     16         1.9           1.7"
      ]
     },
     "execution_count": 17,
     "metadata": {},
     "output_type": "execute_result"
    }
   ],
   "source": [
    "# DataFrame aus Dictionary erstellen\n",
    "schuelerdaten = {\n",
    "    'Name': ['Anna', 'Ben', 'Clara', 'David', 'Emma'],\n",
    "    'Alter': [16, 17, 16, 17, 16],\n",
    "    'Mathe_Note': [1.5, 2.0, 1.7, 2.3, 1.9],\n",
    "    'Deutsch_Note': [2.1, 1.8, 1.5, 2.0, 1.7]\n",
    "}\n",
    "df = pd.DataFrame(schuelerdaten)\n",
    "df"
   ]
  },
  {
   "cell_type": "markdown",
   "id": "a7b6c99e-04dd-4633-ab5d-163d9f1d4f90",
   "metadata": {},
   "source": [
    "### Die wichtigsten Funktionen\n",
    "\n",
    "#### Dateien laden und speichern"
   ]
  },
  {
   "cell_type": "code",
   "execution_count": 18,
   "id": "139919e1-cf93-43bd-a39c-5a14370c3d29",
   "metadata": {},
   "outputs": [
    {
     "data": {
      "text/html": [
       "<div>\n",
       "<style scoped>\n",
       "    .dataframe tbody tr th:only-of-type {\n",
       "        vertical-align: middle;\n",
       "    }\n",
       "\n",
       "    .dataframe tbody tr th {\n",
       "        vertical-align: top;\n",
       "    }\n",
       "\n",
       "    .dataframe thead th {\n",
       "        text-align: right;\n",
       "    }\n",
       "</style>\n",
       "<table border=\"1\" class=\"dataframe\">\n",
       "  <thead>\n",
       "    <tr style=\"text-align: right;\">\n",
       "      <th></th>\n",
       "      <th>Name</th>\n",
       "      <th>Alter</th>\n",
       "      <th>Klasse</th>\n",
       "      <th>Mathe</th>\n",
       "      <th>Deutsch</th>\n",
       "      <th>Englisch</th>\n",
       "      <th>Lieblingsfach</th>\n",
       "    </tr>\n",
       "  </thead>\n",
       "  <tbody>\n",
       "    <tr>\n",
       "      <th>0</th>\n",
       "      <td>Anna</td>\n",
       "      <td>16</td>\n",
       "      <td>11a</td>\n",
       "      <td>1.5</td>\n",
       "      <td>2.1</td>\n",
       "      <td>1.8</td>\n",
       "      <td>Mathe</td>\n",
       "    </tr>\n",
       "    <tr>\n",
       "      <th>1</th>\n",
       "      <td>Ben</td>\n",
       "      <td>17</td>\n",
       "      <td>11a</td>\n",
       "      <td>2.0</td>\n",
       "      <td>1.8</td>\n",
       "      <td>2.2</td>\n",
       "      <td>Deutsch</td>\n",
       "    </tr>\n",
       "    <tr>\n",
       "      <th>2</th>\n",
       "      <td>Clara</td>\n",
       "      <td>16</td>\n",
       "      <td>11b</td>\n",
       "      <td>1.7</td>\n",
       "      <td>1.5</td>\n",
       "      <td>1.3</td>\n",
       "      <td>Englisch</td>\n",
       "    </tr>\n",
       "    <tr>\n",
       "      <th>3</th>\n",
       "      <td>David</td>\n",
       "      <td>17</td>\n",
       "      <td>11a</td>\n",
       "      <td>2.3</td>\n",
       "      <td>2.0</td>\n",
       "      <td>1.9</td>\n",
       "      <td>Sport</td>\n",
       "    </tr>\n",
       "    <tr>\n",
       "      <th>4</th>\n",
       "      <td>Emma</td>\n",
       "      <td>16</td>\n",
       "      <td>11b</td>\n",
       "      <td>1.9</td>\n",
       "      <td>1.7</td>\n",
       "      <td>2.0</td>\n",
       "      <td>Mathe</td>\n",
       "    </tr>\n",
       "    <tr>\n",
       "      <th>5</th>\n",
       "      <td>Felix</td>\n",
       "      <td>17</td>\n",
       "      <td>11b</td>\n",
       "      <td>2.8</td>\n",
       "      <td>2.2</td>\n",
       "      <td>2.5</td>\n",
       "      <td>Kunst</td>\n",
       "    </tr>\n",
       "    <tr>\n",
       "      <th>6</th>\n",
       "      <td>Greta</td>\n",
       "      <td>16</td>\n",
       "      <td>11a</td>\n",
       "      <td>1.3</td>\n",
       "      <td>1.9</td>\n",
       "      <td>1.6</td>\n",
       "      <td>Mathe</td>\n",
       "    </tr>\n",
       "    <tr>\n",
       "      <th>7</th>\n",
       "      <td>Hannah</td>\n",
       "      <td>17</td>\n",
       "      <td>11b</td>\n",
       "      <td>2.1</td>\n",
       "      <td>1.4</td>\n",
       "      <td>1.7</td>\n",
       "      <td>Deutsch</td>\n",
       "    </tr>\n",
       "    <tr>\n",
       "      <th>8</th>\n",
       "      <td>Igor</td>\n",
       "      <td>16</td>\n",
       "      <td>11a</td>\n",
       "      <td>1.8</td>\n",
       "      <td>2.3</td>\n",
       "      <td>2.1</td>\n",
       "      <td>Informatik</td>\n",
       "    </tr>\n",
       "    <tr>\n",
       "      <th>9</th>\n",
       "      <td>Julia</td>\n",
       "      <td>17</td>\n",
       "      <td>11b</td>\n",
       "      <td>2.4</td>\n",
       "      <td>1.6</td>\n",
       "      <td>1.9</td>\n",
       "      <td>Biologie</td>\n",
       "    </tr>\n",
       "  </tbody>\n",
       "</table>\n",
       "</div>"
      ],
      "text/plain": [
       "     Name  Alter Klasse  Mathe  Deutsch  Englisch Lieblingsfach\n",
       "0    Anna     16    11a    1.5      2.1       1.8         Mathe\n",
       "1     Ben     17    11a    2.0      1.8       2.2       Deutsch\n",
       "2   Clara     16    11b    1.7      1.5       1.3      Englisch\n",
       "3   David     17    11a    2.3      2.0       1.9         Sport\n",
       "4    Emma     16    11b    1.9      1.7       2.0         Mathe\n",
       "5   Felix     17    11b    2.8      2.2       2.5         Kunst\n",
       "6   Greta     16    11a    1.3      1.9       1.6         Mathe\n",
       "7  Hannah     17    11b    2.1      1.4       1.7       Deutsch\n",
       "8    Igor     16    11a    1.8      2.3       2.1    Informatik\n",
       "9   Julia     17    11b    2.4      1.6       1.9      Biologie"
      ]
     },
     "execution_count": 18,
     "metadata": {},
     "output_type": "execute_result"
    }
   ],
   "source": [
    "# csv-Datei laden\n",
    "df = pd.read_csv('noten.csv')\n",
    "df"
   ]
  },
  {
   "cell_type": "markdown",
   "id": "16599ffc-1556-426d-881b-cab49e56e33a",
   "metadata": {},
   "source": [
    "Die Ziffern in der ersten Spalte (den Index) wollen wir nicht speichern."
   ]
  },
  {
   "cell_type": "code",
   "execution_count": 19,
   "id": "b19a2e54-8ed0-432b-a329-8fd559dce06e",
   "metadata": {},
   "outputs": [],
   "source": [
    "df.to_csv('noten_neu.csv', index=False)"
   ]
  },
  {
   "cell_type": "markdown",
   "id": "021e70ee-d0cc-408f-80c9-87c911a5bcfd",
   "metadata": {},
   "source": [
    "#### Daten erkunden"
   ]
  },
  {
   "cell_type": "code",
   "execution_count": null,
   "id": "f72d4ae3-6303-41c8-81c5-5b4513f42d63",
   "metadata": {},
   "outputs": [],
   "source": [
    "# Erste/letzte Zeilen anzeigen\n",
    "df.head()        # Erste 5 Zeilen\n",
    "df.tail(3)       # Letzte 3 Zeilen\n",
    "\n",
    "# Grundlegende Informationen\n",
    "df.info()        # Datentypen und fehlende Werte\n",
    "df.describe()    # Statistische Zusammenfassung\n",
    "df.shape         # Anzahl Zeilen und Spalten\n",
    "df.columns       # Spaltennamen"
   ]
  },
  {
   "cell_type": "markdown",
   "id": "d27f108c-1b88-46a7-89a1-cdac69e1559a",
   "metadata": {},
   "source": [
    "#### Daten auswählen"
   ]
  },
  {
   "cell_type": "code",
   "execution_count": 43,
   "id": "8456bfe7-5686-4bf0-9a42-256d8933eeb5",
   "metadata": {},
   "outputs": [
    {
     "data": {
      "text/html": [
       "<div>\n",
       "<style scoped>\n",
       "    .dataframe tbody tr th:only-of-type {\n",
       "        vertical-align: middle;\n",
       "    }\n",
       "\n",
       "    .dataframe tbody tr th {\n",
       "        vertical-align: top;\n",
       "    }\n",
       "\n",
       "    .dataframe thead th {\n",
       "        text-align: right;\n",
       "    }\n",
       "</style>\n",
       "<table border=\"1\" class=\"dataframe\">\n",
       "  <thead>\n",
       "    <tr style=\"text-align: right;\">\n",
       "      <th></th>\n",
       "      <th>Name</th>\n",
       "      <th>Alter</th>\n",
       "      <th>Klasse</th>\n",
       "      <th>Mathe</th>\n",
       "      <th>Deutsch</th>\n",
       "      <th>Englisch</th>\n",
       "      <th>Lieblingsfach</th>\n",
       "    </tr>\n",
       "  </thead>\n",
       "  <tbody>\n",
       "    <tr>\n",
       "      <th>0</th>\n",
       "      <td>Anna</td>\n",
       "      <td>16</td>\n",
       "      <td>11a</td>\n",
       "      <td>1.5</td>\n",
       "      <td>2.1</td>\n",
       "      <td>1.8</td>\n",
       "      <td>Mathe</td>\n",
       "    </tr>\n",
       "    <tr>\n",
       "      <th>1</th>\n",
       "      <td>Ben</td>\n",
       "      <td>17</td>\n",
       "      <td>11a</td>\n",
       "      <td>2.0</td>\n",
       "      <td>1.8</td>\n",
       "      <td>2.2</td>\n",
       "      <td>Deutsch</td>\n",
       "    </tr>\n",
       "    <tr>\n",
       "      <th>2</th>\n",
       "      <td>Clara</td>\n",
       "      <td>16</td>\n",
       "      <td>11b</td>\n",
       "      <td>1.7</td>\n",
       "      <td>1.5</td>\n",
       "      <td>1.3</td>\n",
       "      <td>Englisch</td>\n",
       "    </tr>\n",
       "  </tbody>\n",
       "</table>\n",
       "</div>"
      ],
      "text/plain": [
       "    Name  Alter Klasse  Mathe  Deutsch  Englisch Lieblingsfach\n",
       "0   Anna     16    11a    1.5      2.1       1.8         Mathe\n",
       "1    Ben     17    11a    2.0      1.8       2.2       Deutsch\n",
       "2  Clara     16    11b    1.7      1.5       1.3      Englisch"
      ]
     },
     "execution_count": 43,
     "metadata": {},
     "output_type": "execute_result"
    }
   ],
   "source": [
    "# Spalte auswählen\n",
    "df['Name']                   # Eine Spalte\n",
    "df[['Name', 'Alter']]        # Mehrere Spalten\n",
    "\n",
    "# Zeilen auswählen\n",
    "df.iloc[0]                   # Erste Zeile (nach Position)\n",
    "df.loc[0]                    # Erste Zeile (nach Index)\n",
    "df.iloc[0:3]                 # Erste 3 Zeilen"
   ]
  },
  {
   "cell_type": "markdown",
   "id": "f2c6c142-6f16-4008-acbf-0a3692001261",
   "metadata": {},
   "source": [
    "#### Unterschied zwischen iloc und loc\n",
    "\n",
    "- iloc - Position wird ab 0 wie bei einer Liste bestimmt\n",
    "- loc - Position wird wie bei einem Dictionary über den Label des Index bestimmt. "
   ]
  },
  {
   "cell_type": "code",
   "execution_count": 35,
   "id": "1d66cb1a-5a8e-4d2f-880f-6f04bff340aa",
   "metadata": {},
   "outputs": [
    {
     "name": "stdout",
     "output_type": "stream",
     "text": [
      "    Name  Alter  Note\n",
      "A   Anna     16   1.5\n",
      "B    Ben     17   2.0\n",
      "C  Clara     16   1.7\n",
      "D  David     17   2.3\n"
     ]
    }
   ],
   "source": [
    "\n",
    "# DataFrame erstellen\n",
    "df = pd.DataFrame({\n",
    "    'Name': ['Anna', 'Ben', 'Clara', 'David'],\n",
    "    'Alter': [16, 17, 16, 17],\n",
    "    'Note': [1.5, 2.0, 1.7, 2.3]\n",
    "}, index=['A', 'B', 'C', 'D'])  # Index sind hier Buchstaben!\n",
    "\n",
    "print(df)\n",
    "#   Name  Alter  Note\n",
    "# A  Anna     16   1.5\n",
    "# B   Ben     17   2.0\n",
    "# C  Clara    16   1.7\n",
    "# D  David    17   2.3"
   ]
  },
  {
   "cell_type": "code",
   "execution_count": 38,
   "id": "b4eb15c2-e633-411c-999d-59e51c699181",
   "metadata": {},
   "outputs": [
    {
     "data": {
      "text/plain": [
       "Name     Ben\n",
       "Alter     17\n",
       "Note     2.0\n",
       "Name: B, dtype: object"
      ]
     },
     "execution_count": 38,
     "metadata": {},
     "output_type": "execute_result"
    }
   ],
   "source": [
    "df.iloc[1]"
   ]
  },
  {
   "cell_type": "code",
   "execution_count": 39,
   "id": "f184ff99-0a7b-411f-847d-950a450eee8b",
   "metadata": {},
   "outputs": [
    {
     "data": {
      "text/plain": [
       "Name     Ben\n",
       "Alter     17\n",
       "Note     2.0\n",
       "Name: B, dtype: object"
      ]
     },
     "execution_count": 39,
     "metadata": {},
     "output_type": "execute_result"
    }
   ],
   "source": [
    "df.loc['B']"
   ]
  },
  {
   "cell_type": "markdown",
   "id": "2ad8aacf-5a29-499c-9a8b-dbbbcb1db7b6",
   "metadata": {},
   "source": [
    "#### Daten filtern"
   ]
  },
  {
   "cell_type": "code",
   "execution_count": 42,
   "id": "7c706dc2-a806-4c59-8955-ea51f5f3d62a",
   "metadata": {},
   "outputs": [
    {
     "data": {
      "text/html": [
       "<div>\n",
       "<style scoped>\n",
       "    .dataframe tbody tr th:only-of-type {\n",
       "        vertical-align: middle;\n",
       "    }\n",
       "\n",
       "    .dataframe tbody tr th {\n",
       "        vertical-align: top;\n",
       "    }\n",
       "\n",
       "    .dataframe thead th {\n",
       "        text-align: right;\n",
       "    }\n",
       "</style>\n",
       "<table border=\"1\" class=\"dataframe\">\n",
       "  <thead>\n",
       "    <tr style=\"text-align: right;\">\n",
       "      <th></th>\n",
       "      <th>Name</th>\n",
       "      <th>Alter</th>\n",
       "      <th>Klasse</th>\n",
       "      <th>Mathe</th>\n",
       "      <th>Deutsch</th>\n",
       "      <th>Englisch</th>\n",
       "      <th>Lieblingsfach</th>\n",
       "    </tr>\n",
       "  </thead>\n",
       "  <tbody>\n",
       "    <tr>\n",
       "      <th>6</th>\n",
       "      <td>Greta</td>\n",
       "      <td>16</td>\n",
       "      <td>11a</td>\n",
       "      <td>1.3</td>\n",
       "      <td>1.9</td>\n",
       "      <td>1.6</td>\n",
       "      <td>Mathe</td>\n",
       "    </tr>\n",
       "    <tr>\n",
       "      <th>0</th>\n",
       "      <td>Anna</td>\n",
       "      <td>16</td>\n",
       "      <td>11a</td>\n",
       "      <td>1.5</td>\n",
       "      <td>2.1</td>\n",
       "      <td>1.8</td>\n",
       "      <td>Mathe</td>\n",
       "    </tr>\n",
       "    <tr>\n",
       "      <th>2</th>\n",
       "      <td>Clara</td>\n",
       "      <td>16</td>\n",
       "      <td>11b</td>\n",
       "      <td>1.7</td>\n",
       "      <td>1.5</td>\n",
       "      <td>1.3</td>\n",
       "      <td>Englisch</td>\n",
       "    </tr>\n",
       "    <tr>\n",
       "      <th>8</th>\n",
       "      <td>Igor</td>\n",
       "      <td>16</td>\n",
       "      <td>11a</td>\n",
       "      <td>1.8</td>\n",
       "      <td>2.3</td>\n",
       "      <td>2.1</td>\n",
       "      <td>Informatik</td>\n",
       "    </tr>\n",
       "    <tr>\n",
       "      <th>4</th>\n",
       "      <td>Emma</td>\n",
       "      <td>16</td>\n",
       "      <td>11b</td>\n",
       "      <td>1.9</td>\n",
       "      <td>1.7</td>\n",
       "      <td>2.0</td>\n",
       "      <td>Mathe</td>\n",
       "    </tr>\n",
       "    <tr>\n",
       "      <th>1</th>\n",
       "      <td>Ben</td>\n",
       "      <td>17</td>\n",
       "      <td>11a</td>\n",
       "      <td>2.0</td>\n",
       "      <td>1.8</td>\n",
       "      <td>2.2</td>\n",
       "      <td>Deutsch</td>\n",
       "    </tr>\n",
       "    <tr>\n",
       "      <th>7</th>\n",
       "      <td>Hannah</td>\n",
       "      <td>17</td>\n",
       "      <td>11b</td>\n",
       "      <td>2.1</td>\n",
       "      <td>1.4</td>\n",
       "      <td>1.7</td>\n",
       "      <td>Deutsch</td>\n",
       "    </tr>\n",
       "    <tr>\n",
       "      <th>3</th>\n",
       "      <td>David</td>\n",
       "      <td>17</td>\n",
       "      <td>11a</td>\n",
       "      <td>2.3</td>\n",
       "      <td>2.0</td>\n",
       "      <td>1.9</td>\n",
       "      <td>Sport</td>\n",
       "    </tr>\n",
       "    <tr>\n",
       "      <th>9</th>\n",
       "      <td>Julia</td>\n",
       "      <td>17</td>\n",
       "      <td>11b</td>\n",
       "      <td>2.4</td>\n",
       "      <td>1.6</td>\n",
       "      <td>1.9</td>\n",
       "      <td>Biologie</td>\n",
       "    </tr>\n",
       "    <tr>\n",
       "      <th>5</th>\n",
       "      <td>Felix</td>\n",
       "      <td>17</td>\n",
       "      <td>11b</td>\n",
       "      <td>2.8</td>\n",
       "      <td>2.2</td>\n",
       "      <td>2.5</td>\n",
       "      <td>Kunst</td>\n",
       "    </tr>\n",
       "  </tbody>\n",
       "</table>\n",
       "</div>"
      ],
      "text/plain": [
       "     Name  Alter Klasse  Mathe  Deutsch  Englisch Lieblingsfach\n",
       "6   Greta     16    11a    1.3      1.9       1.6         Mathe\n",
       "0    Anna     16    11a    1.5      2.1       1.8         Mathe\n",
       "2   Clara     16    11b    1.7      1.5       1.3      Englisch\n",
       "8    Igor     16    11a    1.8      2.3       2.1    Informatik\n",
       "4    Emma     16    11b    1.9      1.7       2.0         Mathe\n",
       "1     Ben     17    11a    2.0      1.8       2.2       Deutsch\n",
       "7  Hannah     17    11b    2.1      1.4       1.7       Deutsch\n",
       "3   David     17    11a    2.3      2.0       1.9         Sport\n",
       "9   Julia     17    11b    2.4      1.6       1.9      Biologie\n",
       "5   Felix     17    11b    2.8      2.2       2.5         Kunst"
      ]
     },
     "execution_count": 42,
     "metadata": {},
     "output_type": "execute_result"
    }
   ],
   "source": [
    "df = pd.read_csv('noten.csv')\n",
    "\n",
    "# Nach Werten filtern\n",
    "df[df['Mathe'] < 2.0]\n",
    "\n",
    "# Mehrere Bedingungen\n",
    "df[(df['Alter'] >= 17) & (df['Mathe'] <= 2.0)]\n",
    "\n",
    "# Sortieren\n",
    "df.sort_values('Mathe')                    # Aufsteigend\n",
    "df.sort_values('Mathe', ascending=False)   # Absteigend\n",
    "df.sort_values(['Alter', 'Mathe'])         # Nach mehreren Spalten"
   ]
  },
  {
   "cell_type": "markdown",
   "id": "04df9459-8eab-4ad5-9046-277d5bbb6758",
   "metadata": {},
   "source": [
    "#### Neue Spalte erstellen"
   ]
  },
  {
   "cell_type": "code",
   "execution_count": 53,
   "id": "b2cb65b6-b2fc-46e2-92d7-afbddb992c31",
   "metadata": {},
   "outputs": [],
   "source": [
    "# Neue Spalte berechnen\n",
    "df['Notendurchschnitt'] = ((df['Mathe'] + df['Deutsch'] + df['Englisch']) / 3).round(2)\n",
    "\n",
    "# Bedingte Spalte\n",
    "df['Bestanden'] = df['Notendurchschnitt'] <= 4.0"
   ]
  },
  {
   "cell_type": "code",
   "execution_count": 54,
   "id": "15f08b6f-dd3b-4e80-87fe-144f837deeeb",
   "metadata": {},
   "outputs": [
    {
     "data": {
      "text/html": [
       "<div>\n",
       "<style scoped>\n",
       "    .dataframe tbody tr th:only-of-type {\n",
       "        vertical-align: middle;\n",
       "    }\n",
       "\n",
       "    .dataframe tbody tr th {\n",
       "        vertical-align: top;\n",
       "    }\n",
       "\n",
       "    .dataframe thead th {\n",
       "        text-align: right;\n",
       "    }\n",
       "</style>\n",
       "<table border=\"1\" class=\"dataframe\">\n",
       "  <thead>\n",
       "    <tr style=\"text-align: right;\">\n",
       "      <th></th>\n",
       "      <th>Name</th>\n",
       "      <th>Alter</th>\n",
       "      <th>Klasse</th>\n",
       "      <th>Mathe</th>\n",
       "      <th>Deutsch</th>\n",
       "      <th>Englisch</th>\n",
       "      <th>Lieblingsfach</th>\n",
       "      <th>Notendurchschnitt</th>\n",
       "      <th>Bestanden</th>\n",
       "    </tr>\n",
       "  </thead>\n",
       "  <tbody>\n",
       "    <tr>\n",
       "      <th>0</th>\n",
       "      <td>Anna</td>\n",
       "      <td>16</td>\n",
       "      <td>11a</td>\n",
       "      <td>1.5</td>\n",
       "      <td>2.1</td>\n",
       "      <td>1.8</td>\n",
       "      <td>Mathe</td>\n",
       "      <td>1.80</td>\n",
       "      <td>True</td>\n",
       "    </tr>\n",
       "    <tr>\n",
       "      <th>1</th>\n",
       "      <td>Ben</td>\n",
       "      <td>17</td>\n",
       "      <td>11a</td>\n",
       "      <td>2.0</td>\n",
       "      <td>1.8</td>\n",
       "      <td>2.2</td>\n",
       "      <td>Deutsch</td>\n",
       "      <td>2.00</td>\n",
       "      <td>True</td>\n",
       "    </tr>\n",
       "    <tr>\n",
       "      <th>2</th>\n",
       "      <td>Clara</td>\n",
       "      <td>16</td>\n",
       "      <td>11b</td>\n",
       "      <td>1.7</td>\n",
       "      <td>1.5</td>\n",
       "      <td>1.3</td>\n",
       "      <td>Englisch</td>\n",
       "      <td>1.50</td>\n",
       "      <td>True</td>\n",
       "    </tr>\n",
       "    <tr>\n",
       "      <th>3</th>\n",
       "      <td>David</td>\n",
       "      <td>17</td>\n",
       "      <td>11a</td>\n",
       "      <td>2.3</td>\n",
       "      <td>2.0</td>\n",
       "      <td>1.9</td>\n",
       "      <td>Sport</td>\n",
       "      <td>2.07</td>\n",
       "      <td>True</td>\n",
       "    </tr>\n",
       "    <tr>\n",
       "      <th>4</th>\n",
       "      <td>Emma</td>\n",
       "      <td>16</td>\n",
       "      <td>11b</td>\n",
       "      <td>1.9</td>\n",
       "      <td>1.7</td>\n",
       "      <td>2.0</td>\n",
       "      <td>Mathe</td>\n",
       "      <td>1.87</td>\n",
       "      <td>True</td>\n",
       "    </tr>\n",
       "    <tr>\n",
       "      <th>5</th>\n",
       "      <td>Felix</td>\n",
       "      <td>17</td>\n",
       "      <td>11b</td>\n",
       "      <td>2.8</td>\n",
       "      <td>2.2</td>\n",
       "      <td>2.5</td>\n",
       "      <td>Kunst</td>\n",
       "      <td>2.50</td>\n",
       "      <td>True</td>\n",
       "    </tr>\n",
       "    <tr>\n",
       "      <th>6</th>\n",
       "      <td>Greta</td>\n",
       "      <td>16</td>\n",
       "      <td>11a</td>\n",
       "      <td>1.3</td>\n",
       "      <td>1.9</td>\n",
       "      <td>1.6</td>\n",
       "      <td>Mathe</td>\n",
       "      <td>1.60</td>\n",
       "      <td>True</td>\n",
       "    </tr>\n",
       "    <tr>\n",
       "      <th>7</th>\n",
       "      <td>Hannah</td>\n",
       "      <td>17</td>\n",
       "      <td>11b</td>\n",
       "      <td>2.1</td>\n",
       "      <td>1.4</td>\n",
       "      <td>1.7</td>\n",
       "      <td>Deutsch</td>\n",
       "      <td>1.73</td>\n",
       "      <td>True</td>\n",
       "    </tr>\n",
       "    <tr>\n",
       "      <th>8</th>\n",
       "      <td>Igor</td>\n",
       "      <td>16</td>\n",
       "      <td>11a</td>\n",
       "      <td>1.8</td>\n",
       "      <td>2.3</td>\n",
       "      <td>2.1</td>\n",
       "      <td>Informatik</td>\n",
       "      <td>2.07</td>\n",
       "      <td>True</td>\n",
       "    </tr>\n",
       "    <tr>\n",
       "      <th>9</th>\n",
       "      <td>Julia</td>\n",
       "      <td>17</td>\n",
       "      <td>11b</td>\n",
       "      <td>2.4</td>\n",
       "      <td>1.6</td>\n",
       "      <td>1.9</td>\n",
       "      <td>Biologie</td>\n",
       "      <td>1.97</td>\n",
       "      <td>True</td>\n",
       "    </tr>\n",
       "  </tbody>\n",
       "</table>\n",
       "</div>"
      ],
      "text/plain": [
       "     Name  Alter Klasse  Mathe  Deutsch  Englisch Lieblingsfach  \\\n",
       "0    Anna     16    11a    1.5      2.1       1.8         Mathe   \n",
       "1     Ben     17    11a    2.0      1.8       2.2       Deutsch   \n",
       "2   Clara     16    11b    1.7      1.5       1.3      Englisch   \n",
       "3   David     17    11a    2.3      2.0       1.9         Sport   \n",
       "4    Emma     16    11b    1.9      1.7       2.0         Mathe   \n",
       "5   Felix     17    11b    2.8      2.2       2.5         Kunst   \n",
       "6   Greta     16    11a    1.3      1.9       1.6         Mathe   \n",
       "7  Hannah     17    11b    2.1      1.4       1.7       Deutsch   \n",
       "8    Igor     16    11a    1.8      2.3       2.1    Informatik   \n",
       "9   Julia     17    11b    2.4      1.6       1.9      Biologie   \n",
       "\n",
       "   Notendurchschnitt  Bestanden  \n",
       "0               1.80       True  \n",
       "1               2.00       True  \n",
       "2               1.50       True  \n",
       "3               2.07       True  \n",
       "4               1.87       True  \n",
       "5               2.50       True  \n",
       "6               1.60       True  \n",
       "7               1.73       True  \n",
       "8               2.07       True  \n",
       "9               1.97       True  "
      ]
     },
     "execution_count": 54,
     "metadata": {},
     "output_type": "execute_result"
    }
   ],
   "source": [
    "df"
   ]
  },
  {
   "cell_type": "markdown",
   "id": "2b2d9ecb-56c5-4925-bf48-5ca363917007",
   "metadata": {},
   "source": [
    "#### Statistische Funktionen"
   ]
  },
  {
   "cell_type": "code",
   "execution_count": 55,
   "id": "231bedf3-e5b0-40e8-a173-960a950c066d",
   "metadata": {},
   "outputs": [
    {
     "data": {
      "text/plain": [
       "Alter\n",
       "16    5\n",
       "17    5\n",
       "Name: count, dtype: int64"
      ]
     },
     "execution_count": 55,
     "metadata": {},
     "output_type": "execute_result"
    }
   ],
   "source": [
    "# Grundlegende Statistiken\n",
    "df['Mathe'].mean()      # Durchschnitt\n",
    "df['Mathe'].median()    # Median\n",
    "df['Mathe'].std()       # Standardabweichung\n",
    "df['Mathe'].min()       # Minimum\n",
    "df['Mathe'].max()       # Maximum\n",
    "\n",
    "# Häufigkeiten zählen\n",
    "df['Alter'].value_counts()"
   ]
  },
  {
   "cell_type": "markdown",
   "id": "322ca976-9e7e-4664-b75f-b7917dbced7f",
   "metadata": {},
   "source": [
    "#### Daten gruppieren"
   ]
  },
  {
   "cell_type": "code",
   "execution_count": 57,
   "id": "0c4673cb-db61-401d-85f8-453d7dc26ed0",
   "metadata": {},
   "outputs": [
    {
     "data": {
      "text/plain": [
       "Alter\n",
       "16    1.64\n",
       "17    2.32\n",
       "Name: Mathe, dtype: float64"
      ]
     },
     "execution_count": 57,
     "metadata": {},
     "output_type": "execute_result"
    }
   ],
   "source": [
    "# Nach Alter gruppieren\n",
    "nach_alter = df.groupby('Alter')\n",
    "nach_alter['Mathe'].mean()    # Durchschnittsnote pro Altersgruppe"
   ]
  },
  {
   "cell_type": "code",
   "execution_count": 58,
   "id": "f37c82bd-0f30-4070-b63c-316f8844324a",
   "metadata": {},
   "outputs": [
    {
     "data": {
      "text/html": [
       "<div>\n",
       "<style scoped>\n",
       "    .dataframe tbody tr th:only-of-type {\n",
       "        vertical-align: middle;\n",
       "    }\n",
       "\n",
       "    .dataframe tbody tr th {\n",
       "        vertical-align: top;\n",
       "    }\n",
       "\n",
       "    .dataframe thead tr th {\n",
       "        text-align: left;\n",
       "    }\n",
       "\n",
       "    .dataframe thead tr:last-of-type th {\n",
       "        text-align: right;\n",
       "    }\n",
       "</style>\n",
       "<table border=\"1\" class=\"dataframe\">\n",
       "  <thead>\n",
       "    <tr>\n",
       "      <th></th>\n",
       "      <th colspan=\"3\" halign=\"left\">Mathe</th>\n",
       "      <th>Deutsch</th>\n",
       "    </tr>\n",
       "    <tr>\n",
       "      <th></th>\n",
       "      <th>mean</th>\n",
       "      <th>min</th>\n",
       "      <th>max</th>\n",
       "      <th>mean</th>\n",
       "    </tr>\n",
       "    <tr>\n",
       "      <th>Alter</th>\n",
       "      <th></th>\n",
       "      <th></th>\n",
       "      <th></th>\n",
       "      <th></th>\n",
       "    </tr>\n",
       "  </thead>\n",
       "  <tbody>\n",
       "    <tr>\n",
       "      <th>16</th>\n",
       "      <td>1.64</td>\n",
       "      <td>1.3</td>\n",
       "      <td>1.9</td>\n",
       "      <td>1.9</td>\n",
       "    </tr>\n",
       "    <tr>\n",
       "      <th>17</th>\n",
       "      <td>2.32</td>\n",
       "      <td>2.0</td>\n",
       "      <td>2.8</td>\n",
       "      <td>1.8</td>\n",
       "    </tr>\n",
       "  </tbody>\n",
       "</table>\n",
       "</div>"
      ],
      "text/plain": [
       "      Mathe           Deutsch\n",
       "       mean  min  max    mean\n",
       "Alter                        \n",
       "16     1.64  1.3  1.9     1.9\n",
       "17     2.32  2.0  2.8     1.8"
      ]
     },
     "execution_count": 58,
     "metadata": {},
     "output_type": "execute_result"
    }
   ],
   "source": [
    "# Mehrere Statistiken gleichzeitig\n",
    "df.groupby('Alter').agg({\n",
    "    'Mathe': ['mean', 'min', 'max'],\n",
    "    'Deutsch': 'mean'\n",
    "})"
   ]
  },
  {
   "cell_type": "code",
   "execution_count": null,
   "id": "512624cc-4067-43a9-85d6-ef943bcddba3",
   "metadata": {},
   "outputs": [],
   "source": []
  }
 ],
 "metadata": {
  "kernelspec": {
   "display_name": "Python 3 (ipykernel)",
   "language": "python",
   "name": "python3"
  },
  "language_info": {
   "codemirror_mode": {
    "name": "ipython",
    "version": 3
   },
   "file_extension": ".py",
   "mimetype": "text/x-python",
   "name": "python",
   "nbconvert_exporter": "python",
   "pygments_lexer": "ipython3",
   "version": "3.12.8"
  }
 },
 "nbformat": 4,
 "nbformat_minor": 5
}
