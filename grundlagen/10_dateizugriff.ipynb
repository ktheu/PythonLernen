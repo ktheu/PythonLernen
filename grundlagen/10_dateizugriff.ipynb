{
 "cells": [
  {
   "cell_type": "markdown",
   "id": "9a22ca0d-4c5d-47bd-b6e9-5c479c0da19f",
   "metadata": {},
   "source": [
    "### Dateizugriff\n",
    "\n",
    "[Video](https://youtu.be/8R391aor7L4)\n",
    "\n",
    "Vor dem Lesen oder Schreiben in eine Datei öffnen wir die Datei mit *open*. Nach der Verarbeitung schließen wir die Datei mit *close*."
   ]
  },
  {
   "cell_type": "markdown",
   "id": "02b60caa-078f-4ac8-a68a-89d6335febd9",
   "metadata": {},
   "source": [
    "##### readline\n",
    "Mit *readline* lesen wir eine Zeile. Der Zeilenvorschub wird mit übernommen. Mit *strip()* entfernen wir den Zeilenvorschub. \n"
   ]
  },
  {
   "cell_type": "code",
   "execution_count": 54,
   "id": "03b09693-c079-4608-8c22-25b96d8d8174",
   "metadata": {},
   "outputs": [
    {
     "data": {
      "text/plain": [
       "'Dies ist Zeile1\\n'"
      ]
     },
     "execution_count": 54,
     "metadata": {},
     "output_type": "execute_result"
    }
   ],
   "source": [
    "'''\n",
    "Inhalt der Datei input1.txt:\n",
    "Dies ist Zeile1\n",
    "'''\n",
    "f = open('input1.txt')    \n",
    "zeile = f.readline()\n",
    "f.close()\n",
    "zeile "
   ]
  },
  {
   "cell_type": "code",
   "execution_count": 55,
   "id": "ce9b441a-8ef0-49dc-bc4c-b08a833006cf",
   "metadata": {},
   "outputs": [
    {
     "data": {
      "text/plain": [
       "'Dies ist Zeile1'"
      ]
     },
     "execution_count": 55,
     "metadata": {},
     "output_type": "execute_result"
    }
   ],
   "source": [
    "'''\n",
    "Inhalt der Datei input1.txt\n",
    "Dies ist Zeile1\n",
    "'''\n",
    "f = open('input1.txt')    \n",
    "zeile = f.readline().strip()\n",
    "f.close()\n",
    "zeile "
   ]
  },
  {
   "cell_type": "markdown",
   "id": "67ae4482-ee6e-4521-910b-d051fb86adf1",
   "metadata": {},
   "source": [
    "##### encoding"
   ]
  },
  {
   "cell_type": "markdown",
   "id": "8f28559c-9e43-4a4e-b48d-86cb03576063",
   "metadata": {},
   "source": [
    "Wenn wir bei Umlauten oder ß seltsame Zeichen sehen, hilft meist beim *open* der Parameter *encoding='utf-8'*."
   ]
  },
  {
   "cell_type": "code",
   "execution_count": 56,
   "id": "2e1fca90-5321-4c4b-bd1a-905088dbcb5d",
   "metadata": {},
   "outputs": [
    {
     "name": "stdout",
     "output_type": "stream",
     "text": [
      "Umlaute sind Ã¤,Ã¶,Ã¼. Ein scharfes s ist ÃŸ.\n"
     ]
    }
   ],
   "source": [
    "'''\n",
    "Inhalt der Datei input2.txt:\n",
    "Umlaute sind ä,ö,ü. Ein scharfes s ist ß.\n",
    "'''\n",
    "f = open('input2.txt')   \n",
    "zeile = f.readline().strip()\n",
    "f.close()\n",
    "print(zeile)"
   ]
  },
  {
   "cell_type": "code",
   "execution_count": 59,
   "id": "cb5871ce-37ea-48b8-a468-11a49fbd2bcd",
   "metadata": {},
   "outputs": [
    {
     "name": "stdout",
     "output_type": "stream",
     "text": [
      "Umlaute sind ä,ö,ü. Ein scharfes s ist ß.\n"
     ]
    }
   ],
   "source": [
    "f = open('input2.txt',encoding='utf-8')   \n",
    "zeile = f.readline().strip()\n",
    "f.close()\n",
    "print(zeile)"
   ]
  },
  {
   "cell_type": "markdown",
   "id": "66b8f4f5-174a-4924-8631-68076e327977",
   "metadata": {},
   "source": [
    "##### read\n",
    "\n",
    "*read* liest die gesamte Datei als String ein. Der Zeilenvorschub bleibt."
   ]
  },
  {
   "cell_type": "code",
   "execution_count": 61,
   "id": "eb60fea6-d271-4324-bab8-d6457846bbd5",
   "metadata": {},
   "outputs": [
    {
     "data": {
      "text/plain": [
       "'Dies ist Zeile1\\nDies ist Zeile2\\nDies ist Zeile3\\n'"
      ]
     },
     "execution_count": 61,
     "metadata": {},
     "output_type": "execute_result"
    }
   ],
   "source": [
    "'''\n",
    "Inhalt der Datei input3.txt:\n",
    "Dies ist Zeile1\n",
    "Dies ist Zeile2\n",
    "Dies ist Zeile3\n",
    "'''\n",
    "f = open('input3.txt') \n",
    "text = f.read()\n",
    "f.close()\n",
    "text"
   ]
  },
  {
   "cell_type": "markdown",
   "id": "29d4c2d8-bba7-421d-93f0-2718caa08424",
   "metadata": {},
   "source": [
    "#### Beispiele fürs Einlesen"
   ]
  },
  {
   "cell_type": "markdown",
   "id": "22b011af-e4d8-4cfa-a504-fe0c49504dde",
   "metadata": {},
   "source": [
    "##### Beispiel 1\n",
    "\n",
    "Die erste Zahl gibt an, wieviele Zahlen noch folgen."
   ]
  },
  {
   "cell_type": "code",
   "execution_count": 62,
   "id": "e8d31a83-f757-4bf0-bb3e-48f5b6dca74b",
   "metadata": {},
   "outputs": [
    {
     "data": {
      "text/plain": [
       "[10, 20, 40]"
      ]
     },
     "execution_count": 62,
     "metadata": {},
     "output_type": "execute_result"
    }
   ],
   "source": [
    "'''\n",
    "Inhalt der Datei input4.txt:\n",
    "3 \n",
    "10\n",
    "20\n",
    "40\n",
    "'''\n",
    "\n",
    "f = open('input4.txt')\n",
    "n = int(f.readline())\n",
    "data = []\n",
    "for i in range(n):\n",
    "    data.append(int(f.readline()))\n",
    "f.close()\n",
    "data"
   ]
  },
  {
   "cell_type": "markdown",
   "id": "2e2d422b-50f6-46a4-a6bc-aa67a7a6a0c9",
   "metadata": {},
   "source": [
    "##### Beispiel2\n",
    "\n",
    "Alle Zahlen stehen in einer Reihe"
   ]
  },
  {
   "cell_type": "code",
   "execution_count": 65,
   "id": "eeb93804-b82e-43d2-bc41-20e3bfe9133f",
   "metadata": {},
   "outputs": [
    {
     "name": "stdout",
     "output_type": "stream",
     "text": [
      "[3, 10, 8, 4, -3, 14, 42, -9]\n"
     ]
    }
   ],
   "source": [
    "'''\n",
    "Inhalt der Datei input5.txt:\n",
    "3 10 8 4 -3 14 42 -9\n",
    "'''\n",
    "f = open('input5.txt')\n",
    "a = f.readline().split()\n",
    "f.close()\n",
    "data = []\n",
    "for x in a:\n",
    "    data.append(int(x))\n",
    "print(data)"
   ]
  },
  {
   "cell_type": "markdown",
   "id": "8da7a786-16b3-42c2-a4ac-c649f177e13d",
   "metadata": {},
   "source": [
    "oder kürzer mit einer list-Comprehension"
   ]
  },
  {
   "cell_type": "code",
   "execution_count": 66,
   "id": "8278feee-ad95-4649-a580-f753069be52f",
   "metadata": {},
   "outputs": [
    {
     "name": "stdout",
     "output_type": "stream",
     "text": [
      "[3, 10, 8, 4, -3, 14, 42, -9]\n"
     ]
    }
   ],
   "source": [
    "f = open('input5.txt')\n",
    "data = [int(x) for x in f.readline().split()]\n",
    "f.close()\n",
    "print(data)"
   ]
  },
  {
   "cell_type": "markdown",
   "id": "c8b9a38f-43ef-4cf7-8f1b-71f3e1d4f44e",
   "metadata": {},
   "source": [
    "##### Beispiel3"
   ]
  },
  {
   "cell_type": "code",
   "execution_count": 67,
   "id": "aaea50ef-2c99-49a4-90b8-c57722fc006e",
   "metadata": {},
   "outputs": [
    {
     "name": "stdout",
     "output_type": "stream",
     "text": [
      "[(10, 'Lena'), (20, 'Malte'), (40, 'Sam')]\n"
     ]
    }
   ],
   "source": [
    "'''\n",
    "Inhalt der Datei input6.txt:\n",
    "3\n",
    "10  Lena\n",
    "20  Malte\n",
    "40  Sam\n",
    "'''\n",
    "f = open('input6.txt')\n",
    "n = int(f.readline())\n",
    "data = []\n",
    "for i in range(n):\n",
    "    k, name = f.readline().split()\n",
    "    data.append((int(k),name))\n",
    "f.close()\n",
    "print(data)"
   ]
  },
  {
   "cell_type": "markdown",
   "id": "47ab35fa-21e2-44e2-8bbf-00746f4c7762",
   "metadata": {},
   "source": [
    "##### In Ausgabedatei schreiben.\n",
    "\n",
    "Beim Öffnen einer Datei geben wir den Parameter mode='w' mit. Wir schreiben die Ausgaben mit *print* in die Datei.\n",
    "    \n"
   ]
  },
  {
   "cell_type": "code",
   "execution_count": 68,
   "id": "19d2efd4-0436-4a63-b687-eeb595ef7a86",
   "metadata": {},
   "outputs": [],
   "source": [
    "'''\n",
    "Die Datei output.txt bekommt folgenden Inhalt:\n",
    "Die Summe von 5 und 10 ist 15\n",
    "Das Produkt von 5 und 10 ist 50\n",
    "'''\n",
    "f = open('output.txt',encoding='utf-8',mode='w')\n",
    "x = 5\n",
    "y = 10\n",
    "print(f'Die Summe von {x} und {y} ist {x+y}.', file=f)\n",
    "print(f'Das Produkt von {x} und {y} ist {x*y}.', file=f)\n",
    "f.close()"
   ]
  },
  {
   "cell_type": "code",
   "execution_count": null,
   "id": "644fc3ce-8bdb-42b9-b618-0ad13b4a3aab",
   "metadata": {},
   "outputs": [],
   "source": []
  }
 ],
 "metadata": {
  "kernelspec": {
   "display_name": "Python 3 (ipykernel)",
   "language": "python",
   "name": "python3"
  },
  "language_info": {
   "codemirror_mode": {
    "name": "ipython",
    "version": 3
   },
   "file_extension": ".py",
   "mimetype": "text/x-python",
   "name": "python",
   "nbconvert_exporter": "python",
   "pygments_lexer": "ipython3",
   "version": "3.12.8"
  }
 },
 "nbformat": 4,
 "nbformat_minor": 5
}
