{
 "cells": [
  {
   "cell_type": "markdown",
   "id": "b36126c8-f7db-4ce3-84d3-50846839cc45",
   "metadata": {},
   "source": [
    "### Strings2 - Uebungen"
   ]
  },
  {
   "cell_type": "code",
   "execution_count": null,
   "id": "4dd18144-b2a4-4865-9d76-a6ce2c3a57ad",
   "metadata": {},
   "outputs": [],
   "source": [
    "''' A1\n",
    "Setze s1 auf 'Rom'\n",
    "Setze s2 auf 'Paris'\n",
    "Erzeuge dann mit Vervielfachen und Aneinanderpappen einen String s der beim print\n",
    "die erwartete Ausgabe ergibt.\n",
    "\n",
    "Erwartete Ausgabe:\n",
    "RomRomRomRomRomParisParisParisRomRomRom \n",
    "'''\n",
    "# your code"
   ]
  },
  {
   "cell_type": "code",
   "execution_count": null,
   "id": "0a456b12-1c8c-4324-8b42-7269abd9c760",
   "metadata": {},
   "outputs": [],
   "source": [
    "''' A2\n",
    "Beispieldialog:\n",
    "\n",
    "Bitte einen String eingeben: Elba\n",
    "Das letzte Zeichen ist a.\n",
    "'''\n",
    "# your code\n",
    " "
   ]
  },
  {
   "cell_type": "code",
   "execution_count": null,
   "id": "ab87ea0c-4a76-4c3a-bcc5-e6b7585b6684",
   "metadata": {},
   "outputs": [],
   "source": [
    "''' A3\n",
    "Beispieldialog:\n",
    "\n",
    "Bitte einen String eingeben: Elba\n",
    "Der String aus erstem und letztem Zeichen ist Ea.\n",
    "\n",
    "Bitte einen String eingeben: Habicht\n",
    "Der String aus erstem und letztem Zeichen ist Ht.\n",
    "'''\n",
    "# your code"
   ]
  },
  {
   "cell_type": "code",
   "execution_count": null,
   "id": "278c87e1-261c-4871-bb2d-52dfaa2d4018",
   "metadata": {},
   "outputs": [],
   "source": [
    "''' A4\n",
    "Der Anwender gibt erst einen String s ein, dann eine Zahl die kleiner als\n",
    "die Länge des Strings ist und erhält dann die in den Beispieldialogen gegebenen Antworten.\n",
    "\n",
    "Beispieldialoge:\n",
    "\n",
    "Bitte einen String eingeben: Apfelbaum\n",
    "Bitte eine positive ganze Zahl <= 9 eingeben: 7\n",
    "Die ersten 7 Zeichen sind: Apfelba\n",
    "Die letzten 7 Zeichen sind: felbaum\n",
    "\n",
    "Bitte einen String eingeben: Sindelfingen\n",
    "Bitte eine positive ganze Zahl <= 12 eingeben: 4\n",
    "Die ersten 4 Zeichen sind: Sind\n",
    "Die letzten 4 Zeichen sind: ngen\n",
    "\n",
    "'''\n",
    "# your code"
   ]
  },
  {
   "cell_type": "code",
   "execution_count": null,
   "id": "f2b48287-5063-4214-83ee-53a7454bd4a1",
   "metadata": {},
   "outputs": [],
   "source": [
    "''' A5\n",
    "Der Anwender gibt erst einen String s ein. \n",
    "In einer Schleife wird der String immer um ein\n",
    "Zeichen verkürzt ausgegeben.\n",
    "\n",
    "Beispieldialog:\n",
    "\n",
    "Bitte einen String eingeben: Habicht\n",
    "Habicht\n",
    "abicht\n",
    "bicht\n",
    "icht\n",
    "cht\n",
    "ht\n",
    "t\n",
    "'''\n",
    "# your code"
   ]
  },
  {
   "cell_type": "code",
   "execution_count": null,
   "id": "54e0ff32-2dcc-4f70-bbda-e24fa24f2139",
   "metadata": {},
   "outputs": [],
   "source": [
    "''' A6\n",
    "Der Anwender gibt einen String ein. Der wird zweimal\n",
    "abwechselnd in Großbuchstaben und Kleinbuchstaben ausgegeben.\n",
    "\n",
    "Beispieldialog:\n",
    "\n",
    "Bitte einen String eingeben: Habicht\n",
    "HABICHT\n",
    "habicht\n",
    "HABICHT\n",
    "habicht\n",
    "'''\n",
    "# your code"
   ]
  },
  {
   "cell_type": "code",
   "execution_count": null,
   "id": "f716ee99-f2b5-453b-b478-db777b34d021",
   "metadata": {},
   "outputs": [],
   "source": [
    "''' A7\n",
    "Der Anwender gibt einen String ein. \n",
    "Die Anzahl der vorkommenden 'e' und 'a' wird gezählt.\n",
    "\n",
    "Beispieldialog:\n",
    "\n",
    "Bitte einen String eingeben: Habicht\n",
    "e und a kommen insgesamt 1 mal vor.\n",
    "\n",
    "Bitte einen String eingeben: Bauarbeiter\n",
    "e und a kommen insgesamt 4 mal vor.\n",
    "'''\n",
    "# your code"
   ]
  },
  {
   "cell_type": "code",
   "execution_count": null,
   "id": "ed3fd729-d356-4994-ae0e-e70847467731",
   "metadata": {},
   "outputs": [],
   "source": [
    "''' A8\n",
    "Der Anwender gibt einen String mit Umlauten ein.\n",
    "Die Umlaute werden durch die passenden 2 Zeichen ersetzt.\n",
    "\n",
    "Beispieldialog:\n",
    "\n",
    "Bitte einen String mit Umlauten (äöü) eingeben: äoiüö\n",
    "aeoiueoe\n",
    "'''\n",
    "# your code"
   ]
  },
  {
   "cell_type": "code",
   "execution_count": null,
   "id": "3042451c-698f-4d0a-9cdf-93b0951e6fba",
   "metadata": {},
   "outputs": [],
   "source": [
    "''' A9\n",
    "Der Anwender gibt einen String ein.\n",
    "Es werden nacheinander alle Zeichen mit ihren Nachfolgern ausgegeben\n",
    "\n",
    "Beispieldialog:\n",
    "\n",
    "Bitte einen String eingeben: Habicht\n",
    "Ha\n",
    "ab\n",
    "bi\n",
    "ic\n",
    "ch\n",
    "ht\n",
    "'''\n",
    "# your code\n",
    " "
   ]
  },
  {
   "cell_type": "code",
   "execution_count": null,
   "id": "d4c02ad4-b4bc-4cf1-afaf-e859bea5cfb1",
   "metadata": {},
   "outputs": [],
   "source": [
    "''' A10\n",
    "Der Anwender gibt einen längeren und einen kürzeren String ein.\n",
    "Aus dem längeren String wird ein neuer String gebildet, der\n",
    "alle Zeichen weglässt, die nicht im kürzeren String sind.\n",
    "\n",
    "Beispieldialog:\n",
    "\n",
    "Bitte einen längeren String eingeben: Habicht\n",
    "Bitte einen kürzeren String eingeben: ati\n",
    "ait\n",
    "\n",
    "Bitte einen längeren String eingeben: Regentonne\n",
    "Bitte einen kürzeren String eingeben: oe\n",
    "eeoe\n",
    "'''\n",
    "# your code\n"
   ]
  },
  {
   "cell_type": "code",
   "execution_count": null,
   "id": "a30dcfd5-3ac1-4a87-b4a9-3fe5b8f2a98b",
   "metadata": {},
   "outputs": [],
   "source": [
    "''' A11\n",
    "Gib die Zeichen mit den ord-Zahlen 9812 bis 9823 (einschließlich) aus.\n",
    "'''\n",
    "# your code"
   ]
  }
 ],
 "metadata": {
  "kernelspec": {
   "display_name": "Python 3 (ipykernel)",
   "language": "python",
   "name": "python3"
  },
  "language_info": {
   "codemirror_mode": {
    "name": "ipython",
    "version": 3
   },
   "file_extension": ".py",
   "mimetype": "text/x-python",
   "name": "python",
   "nbconvert_exporter": "python",
   "pygments_lexer": "ipython3",
   "version": "3.12.8"
  }
 },
 "nbformat": 4,
 "nbformat_minor": 5
}
