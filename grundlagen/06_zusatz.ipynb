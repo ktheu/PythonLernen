{
 "cells": [
  {
   "cell_type": "markdown",
   "id": "24fe45e7",
   "metadata": {},
   "source": [
    "### Listen - Zusatzaufgaben\n",
    "\n",
    "Zusätzliche Übungen zu Listen mit Indexing, Slicing und Listen-Methoden."
   ]
  },
  {
   "cell_type": "code",
   "execution_count": null,
   "id": "fa0f8762",
   "metadata": {},
   "outputs": [],
   "source": [
    "''' Z1\n",
    "Der Anwender gibt eine Reihe von Zahlen ein.\n",
    "Gib die Liste rückwärts aus.\n",
    "\n",
    "Beispieldialog:\n",
    "\n",
    "Gib eine Reihe von Zahlen ein, getrennt durch Leerzeichen: 3 7 2 9\n",
    "Liste rückwärts: [9, 2, 7, 3]\n",
    "'''\n",
    "# your code"
   ]
  },
  {
   "cell_type": "code",
   "execution_count": null,
   "id": "d55034b4",
   "metadata": {},
   "outputs": [],
   "source": [
    "''' Z2\n",
    "Der Anwender gibt eine Reihe von Zahlen ein.\n",
    "Gib die Summe aller geraden Zahlen aus.\n",
    "\n",
    "Beispieldialog:\n",
    "\n",
    "Gib eine Reihe von Zahlen ein, getrennt durch Leerzeichen: 3 8 5 12\n",
    "Summe der geraden Zahlen: 20\n",
    "'''\n",
    "# your code"
   ]
  },
  {
   "cell_type": "code",
   "execution_count": null,
   "id": "d75e0644",
   "metadata": {},
   "outputs": [],
   "source": [
    "''' Z3\n",
    "Der Anwender gibt eine Reihe von Zahlen ein.\n",
    "Entferne alle Duplikate und gib die Liste sortiert aus.\n",
    "\n",
    "Beispieldialog:\n",
    "\n",
    "Gib eine Reihe von Zahlen ein, getrennt durch Leerzeichen: 5 3 5 8 3\n",
    "Liste ohne Duplikate: [3, 5, 8]\n",
    "'''\n",
    "# your code"
   ]
  },
  {
   "cell_type": "code",
   "execution_count": null,
   "id": "6aa6b6d8",
   "metadata": {},
   "outputs": [],
   "source": [
    "''' Z4\n",
    "Der Anwender gibt eine Reihe von Zahlen ein.\n",
    "Gib die zweitgrößte Zahl aus.\n",
    "Hinweis: Nutze sortieren oder max().\n",
    "\n",
    "Beispieldialog:\n",
    "\n",
    "Gib eine Reihe von Zahlen ein, getrennt durch Leerzeichen: 15 8 23 12\n",
    "Die zweitgrößte Zahl ist: 15\n",
    "'''\n",
    "# your code"
   ]
  },
  {
   "cell_type": "code",
   "execution_count": null,
   "id": "b23dc9c6",
   "metadata": {},
   "outputs": [],
   "source": [
    "''' Z5\n",
    "Der Anwender gibt eine Reihe von Zahlen ein.\n",
    "Gib alle Zahlen aus, die größer als der Durchschnitt sind.\n",
    "\n",
    "Beispieldialog:\n",
    "\n",
    "Gib eine Reihe von Zahlen ein, getrennt durch Leerzeichen: 10 20 15 5\n",
    "Durchschnitt: 12.5\n",
    "Zahlen größer als der Durchschnitt: [20, 15]\n",
    "'''\n",
    "# your code"
   ]
  },
  {
   "cell_type": "code",
   "execution_count": null,
   "id": "30003388",
   "metadata": {},
   "outputs": [],
   "source": [
    "''' Z6\n",
    "Der Anwender gibt eine Reihe von Zahlen ein.\n",
    "Vertausche die erste und letzte Zahl in der Liste.\n",
    "\n",
    "Beispieldialog:\n",
    "\n",
    "Gib eine Reihe von Zahlen ein, getrennt durch Leerzeichen: 7 3 9 2\n",
    "Originalliste: [7, 3, 9, 2]\n",
    "Nach dem Vertauschen: [2, 3, 9, 7]\n",
    "'''\n",
    "# your code"
   ]
  },
  {
   "cell_type": "code",
   "execution_count": null,
   "id": "2e867196",
   "metadata": {},
   "outputs": [],
   "source": [
    "''' Z7\n",
    "Der Anwender gibt eine Reihe von Zahlen ein.\n",
    "Teile die Liste in zwei Hälften und gib beide aus.\n",
    "Bei ungerader Länge gehört das mittlere Element zur ersten Hälfte.\n",
    "\n",
    "Beispieldialog:\n",
    "\n",
    "Gib eine Reihe von Zahlen ein, getrennt durch Leerzeichen: 1 2 3 4 5\n",
    "Erste Hälfte: [1, 2, 3]\n",
    "Zweite Hälfte: [4, 5]\n",
    "'''\n",
    "# your code"
   ]
  },
  {
   "cell_type": "code",
   "execution_count": null,
   "id": "6442c71f",
   "metadata": {},
   "outputs": [],
   "source": [
    "''' Z8\n",
    "Der Anwender gibt eine Reihe von Zahlen ein.\n",
    "Finde alle Paare von Zahlen, die zusammen 10 ergeben.\n",
    "\n",
    "Beispieldialog:\n",
    "\n",
    "Gib eine Reihe von Zahlen ein, getrennt durch Leerzeichen: 3 7 2 8 5\n",
    "Paare, die 10 ergeben:\n",
    "3 + 7 = 10\n",
    "2 + 8 = 10\n",
    "'''\n",
    "# your code"
   ]
  },
  {
   "cell_type": "code",
   "execution_count": null,
   "id": "1084b0ad",
   "metadata": {},
   "outputs": [],
   "source": [
    "''' Z9\n",
    "Der Anwender gibt eine Reihe von Zahlen ein.\n",
    "Rotiere die Liste um n Positionen nach rechts.\n",
    "n wird vom Anwender eingegeben.\n",
    "\n",
    "Beispieldialog:\n",
    "\n",
    "Gib eine Reihe von Zahlen ein, getrennt durch Leerzeichen: 1 2 3 4 5\n",
    "Um wie viele Positionen rotieren? 2\n",
    "Originalliste: [1, 2, 3, 4, 5]\n",
    "Rotierte Liste: [4, 5, 1, 2, 3]\n",
    "'''\n",
    "# your code"
   ]
  },
  {
   "cell_type": "code",
   "execution_count": null,
   "id": "98dac9a7",
   "metadata": {},
   "outputs": [],
   "source": [
    "''' Z10\n",
    "Der Anwender gibt eine Reihe von Zahlen ein.\n",
    "Finde die längste aufsteigende Teilfolge und gib ihre Länge aus.\n",
    "\n",
    "Beispieldialog:\n",
    "\n",
    "Gib eine Reihe von Zahlen ein, getrennt durch Leerzeichen: 3 5 7 2 4 6 8 1\n",
    "Die längste aufsteigende Teilfolge hat die Länge: 4\n",
    "'''\n",
    "# your code"
   ]
  },
  {
   "cell_type": "code",
   "execution_count": null,
   "id": "b85267ef",
   "metadata": {},
   "outputs": [],
   "source": []
  }
 ],
 "metadata": {
  "kernelspec": {
   "display_name": "Python 3 (ipykernel)",
   "language": "python",
   "name": "python3"
  },
  "language_info": {
   "codemirror_mode": {
    "name": "ipython",
    "version": 3
   },
   "file_extension": ".py",
   "mimetype": "text/x-python",
   "name": "python",
   "nbconvert_exporter": "python",
   "pygments_lexer": "ipython3",
   "version": "3.12.8"
  }
 },
 "nbformat": 4,
 "nbformat_minor": 5
}
