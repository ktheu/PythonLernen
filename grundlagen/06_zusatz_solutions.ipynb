{
 "cells": [
  {
   "cell_type": "markdown",
   "id": "67d1aff1",
   "metadata": {},
   "source": [
    "### Listen - Zusatzaufgaben - Lösungen\n",
    "\n",
    "Lösungen zu den Zusatzaufgaben."
   ]
  },
  {
   "cell_type": "code",
   "execution_count": null,
   "id": "d24c3b95",
   "metadata": {},
   "outputs": [],
   "source": [
    "''' Z1\n",
    "Der Anwender gibt eine Reihe von Zahlen ein.\n",
    "Gib die Liste rückwärts aus.\n",
    "'''\n",
    "eingabe = input('Gib eine Reihe von Zahlen ein, getrennt durch Leerzeichen: ')\n",
    "zahlen = [int(x) for x in eingabe.split()]\n",
    "print(f'Liste rückwärts: {zahlen[::-1]}')"
   ]
  },
  {
   "cell_type": "code",
   "execution_count": null,
   "id": "19528786",
   "metadata": {},
   "outputs": [],
   "source": [
    "''' Z2\n",
    "Der Anwender gibt eine Reihe von Zahlen ein.\n",
    "Gib die Summe aller geraden Zahlen aus.\n",
    "'''\n",
    "eingabe = input('Gib eine Reihe von Zahlen ein, getrennt durch Leerzeichen: ')\n",
    "zahlen = [int(x) for x in eingabe.split()]\n",
    "summe = 0\n",
    "for zahl in zahlen:\n",
    "    if zahl % 2 == 0:\n",
    "        summe += zahl\n",
    "print(f'Summe der geraden Zahlen: {summe}')"
   ]
  },
  {
   "cell_type": "code",
   "execution_count": null,
   "id": "58641a30",
   "metadata": {},
   "outputs": [],
   "source": [
    "''' Z3\n",
    "Der Anwender gibt eine Reihe von Zahlen ein.\n",
    "Entferne alle Duplikate und gib die Liste sortiert aus.\n",
    "'''\n",
    "eingabe = input('Gib eine Reihe von Zahlen ein, getrennt durch Leerzeichen: ')\n",
    "zahlen = [int(x) for x in eingabe.split()]\n",
    "# Duplikate entfernen\n",
    "ohne_duplikate = []\n",
    "for zahl in zahlen:\n",
    "    if zahl not in ohne_duplikate:\n",
    "        ohne_duplikate.append(zahl)\n",
    "ergebnis = sorted(ohne_duplikate)\n",
    "print(f'Liste ohne Duplikate: {ergebnis}')"
   ]
  },
  {
   "cell_type": "code",
   "execution_count": null,
   "id": "e820078e",
   "metadata": {},
   "outputs": [],
   "source": [
    "''' Z4\n",
    "Der Anwender gibt eine Reihe von Zahlen ein.\n",
    "Gib die zweitgrößte Zahl aus.\n",
    "'''\n",
    "eingabe = input('Gib eine Reihe von Zahlen ein, getrennt durch Leerzeichen: ')\n",
    "zahlen = [int(x) for x in eingabe.split()]\n",
    "sortiert = sorted(zahlen, reverse=True)\n",
    "print(f'Die zweitgrößte Zahl ist: {sortiert[1]}')"
   ]
  },
  {
   "cell_type": "code",
   "execution_count": null,
   "id": "b21d67f2",
   "metadata": {},
   "outputs": [],
   "source": [
    "''' Z5\n",
    "Der Anwender gibt eine Reihe von Zahlen ein.\n",
    "Gib alle Zahlen aus, die größer als der Durchschnitt sind.\n",
    "'''\n",
    "eingabe = input('Gib eine Reihe von Zahlen ein, getrennt durch Leerzeichen: ')\n",
    "zahlen = [int(x) for x in eingabe.split()]\n",
    "durchschnitt = sum(zahlen) / len(zahlen)\n",
    "print(f'Durchschnitt: {durchschnitt}')\n",
    "groesser = []\n",
    "for zahl in zahlen:\n",
    "    if zahl > durchschnitt:\n",
    "        groesser.append(zahl)\n",
    "print(f'Zahlen größer als der Durchschnitt: {groesser}')"
   ]
  },
  {
   "cell_type": "code",
   "execution_count": null,
   "id": "f449bfea",
   "metadata": {},
   "outputs": [],
   "source": [
    "''' Z6\n",
    "Der Anwender gibt eine Reihe von Zahlen ein.\n",
    "Vertausche die erste und letzte Zahl in der Liste.\n",
    "'''\n",
    "eingabe = input('Gib eine Reihe von Zahlen ein, getrennt durch Leerzeichen: ')\n",
    "zahlen = [int(x) for x in eingabe.split()]\n",
    "print(f'Originalliste: {zahlen}')\n",
    "zahlen[0], zahlen[-1] = zahlen[-1], zahlen[0]\n",
    "print(f'Nach dem Vertauschen: {zahlen}')"
   ]
  },
  {
   "cell_type": "code",
   "execution_count": null,
   "id": "46edfb9e",
   "metadata": {},
   "outputs": [],
   "source": [
    "''' Z7\n",
    "Der Anwender gibt eine Reihe von Zahlen ein.\n",
    "Teile die Liste in zwei Hälften und gib beide aus.\n",
    "'''\n",
    "eingabe = input('Gib eine Reihe von Zahlen ein, getrennt durch Leerzeichen: ')\n",
    "zahlen = [int(x) for x in eingabe.split()]\n",
    "mitte = (len(zahlen) + 1) // 2\n",
    "erste_haelfte = zahlen[:mitte]\n",
    "zweite_haelfte = zahlen[mitte:]\n",
    "print(f'Erste Hälfte: {erste_haelfte}')\n",
    "print(f'Zweite Hälfte: {zweite_haelfte}')"
   ]
  },
  {
   "cell_type": "code",
   "execution_count": null,
   "id": "e0a0e83f",
   "metadata": {},
   "outputs": [],
   "source": [
    "''' Z8\n",
    "Der Anwender gibt eine Reihe von Zahlen ein.\n",
    "Finde alle Paare von Zahlen, die zusammen 10 ergeben.\n",
    "'''\n",
    "eingabe = input('Gib eine Reihe von Zahlen ein, getrennt durch Leerzeichen: ')\n",
    "zahlen = [int(x) for x in eingabe.split()]\n",
    "print('Paare, die 10 ergeben:')\n",
    "for i in range(len(zahlen)):\n",
    "    for j in range(i + 1, len(zahlen)):\n",
    "        if zahlen[i] + zahlen[j] == 10:\n",
    "            print(f'{zahlen[i]} + {zahlen[j]} = 10')"
   ]
  },
  {
   "cell_type": "code",
   "execution_count": null,
   "id": "491dce00",
   "metadata": {},
   "outputs": [],
   "source": [
    "''' Z9\n",
    "Der Anwender gibt eine Reihe von Zahlen ein.\n",
    "Rotiere die Liste um n Positionen nach rechts.\n",
    "'''\n",
    "eingabe = input('Gib eine Reihe von Zahlen ein, getrennt durch Leerzeichen: ')\n",
    "zahlen = [int(x) for x in eingabe.split()]\n",
    "n = int(input('Um wie viele Positionen rotieren? '))\n",
    "print(f'Originalliste: {zahlen}')\n",
    "n = n % len(zahlen)  # Falls n größer als die Listenlänge ist\n",
    "rotiert = zahlen[-n:] + zahlen[:-n]\n",
    "print(f'Rotierte Liste: {rotiert}')"
   ]
  },
  {
   "cell_type": "code",
   "execution_count": null,
   "id": "9902a4ca",
   "metadata": {},
   "outputs": [],
   "source": [
    "''' Z10\n",
    "Der Anwender gibt eine Reihe von Zahlen ein.\n",
    "Finde die längste aufsteigende Teilfolge und gib ihre Länge aus.\n",
    "'''\n",
    "eingabe = input('Gib eine Reihe von Zahlen ein, getrennt durch Leerzeichen: ')\n",
    "zahlen = [int(x) for x in eingabe.split()]\n",
    "max_laenge = 1\n",
    "aktuelle_laenge = 1\n",
    "for i in range(1, len(zahlen)):\n",
    "    if zahlen[i] > zahlen[i-1]:\n",
    "        aktuelle_laenge += 1\n",
    "        if aktuelle_laenge > max_laenge:\n",
    "            max_laenge = aktuelle_laenge\n",
    "    else:\n",
    "        aktuelle_laenge = 1\n",
    "print(f'Die längste aufsteigende Teilfolge hat die Länge: {max_laenge}')"
   ]
  },
  {
   "cell_type": "code",
   "execution_count": null,
   "id": "f6a14533",
   "metadata": {},
   "outputs": [],
   "source": []
  }
 ],
 "metadata": {
  "kernelspec": {
   "display_name": "Python 3 (ipykernel)",
   "language": "python",
   "name": "python3"
  },
  "language_info": {
   "codemirror_mode": {
    "name": "ipython",
    "version": 3
   },
   "file_extension": ".py",
   "mimetype": "text/x-python",
   "name": "python",
   "nbconvert_exporter": "python",
   "pygments_lexer": "ipython3",
   "version": "3.12.8"
  }
 },
 "nbformat": 4,
 "nbformat_minor": 5
}
