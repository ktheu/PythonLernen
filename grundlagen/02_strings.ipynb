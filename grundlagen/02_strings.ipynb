{
 "cells": [
  {
   "cell_type": "markdown",
   "id": "c0f060f4-f17c-487c-8b01-9b0da68080bb",
   "metadata": {},
   "source": [
    "### Strings (Teil 1), Input, f-Strings\n",
    "\n",
    "Strings sind Zeichenketten, sie werden in einfachen oder doppelten Hochkommata eingeschlossen. \n",
    "Strings, die über mehrere Zeilen gehen, werden mit dreifachen Hochkommata gebildet.\n"
   ]
  },
  {
   "cell_type": "code",
   "execution_count": 7,
   "id": "cf62b627-16f4-4d80-ae7a-edd236df4a96",
   "metadata": {},
   "outputs": [
    {
     "name": "stdout",
     "output_type": "stream",
     "text": [
      "Hallo Welt\n"
     ]
    }
   ],
   "source": [
    "a = 'Hallo Welt'\n",
    "print(a)"
   ]
  },
  {
   "cell_type": "code",
   "execution_count": 8,
   "id": "fe548645-d28e-40f3-b396-fbb517e5e17e",
   "metadata": {},
   "outputs": [
    {
     "name": "stdout",
     "output_type": "stream",
     "text": [
      "Guten Morgen\n"
     ]
    }
   ],
   "source": [
    "b = \"Guten Morgen\"\n",
    "print(b)"
   ]
  },
  {
   "cell_type": "code",
   "execution_count": 9,
   "id": "9b99c3db-4eea-4bb5-9fa5-c7778ca15505",
   "metadata": {},
   "outputs": [
    {
     "name": "stdout",
     "output_type": "stream",
     "text": [
      "Dies ist \n",
      "ein String,\n",
      "der über\n",
      "mehrere \n",
      "Zeilen geht.\n"
     ]
    }
   ],
   "source": [
    "c = '''Dies ist \n",
    "ein String,\n",
    "der über\n",
    "mehrere \n",
    "Zeilen geht.'''\n",
    "print(c)"
   ]
  },
  {
   "cell_type": "markdown",
   "id": "7bd59a00-ea9a-43e2-a15a-8c1c0c58abc6",
   "metadata": {},
   "source": [
    "Die Länge eines Strings ist die Anzahl seiner Zeichen."
   ]
  },
  {
   "cell_type": "code",
   "execution_count": 10,
   "id": "0676bcf7-444f-4ff5-84de-1d639ac20524",
   "metadata": {},
   "outputs": [
    {
     "name": "stdout",
     "output_type": "stream",
     "text": [
      "7\n"
     ]
    }
   ],
   "source": [
    "s = 'Habicht'\n",
    "print(len(s))"
   ]
  },
  {
   "cell_type": "markdown",
   "id": "bee50ea9-6102-45ce-b010-768044defa01",
   "metadata": {},
   "source": [
    "Wir können Strings mit dem Zeichen + aneinanderpappen (konkatenieren)."
   ]
  },
  {
   "cell_type": "code",
   "execution_count": 11,
   "id": "e8cd1753-741b-490f-8e60-aa719de890b5",
   "metadata": {},
   "outputs": [
    {
     "name": "stdout",
     "output_type": "stream",
     "text": [
      "Hallo du Welt\n"
     ]
    }
   ],
   "source": [
    "s1 = 'Hallo'\n",
    "s2 = 'du'\n",
    "s3 = 'Welt'\n",
    "s4 = s1 + ' ' + s2 + ' ' + s3\n",
    "print(s4)"
   ]
  },
  {
   "cell_type": "markdown",
   "id": "b02fe0a5-1ae8-4879-8961-619253f9ce5e",
   "metadata": {},
   "source": [
    "### Input\n",
    "\n",
    "Mit der *input()*-Funktion können wir Eingaben des Benutzers von der Konsole einlesen. *input()* liefert immer einen String zurück. Wenn wir eine Eingabe als Zahl behandeln wollen, müssen wir den String mit der *int()* oder *float()*-Funktion in eine Zahl umwandeln."
   ]
  },
  {
   "cell_type": "code",
   "execution_count": 12,
   "id": "17fc65c6-40de-44f2-b7bd-bb2d358d6e85",
   "metadata": {},
   "outputs": [
    {
     "name": "stdin",
     "output_type": "stream",
     "text": [
      "Wie ist dein Vorname? Malte\n"
     ]
    },
    {
     "name": "stdout",
     "output_type": "stream",
     "text": [
      "Hallo Malte\n"
     ]
    }
   ],
   "source": [
    "s = input('Wie ist dein Vorname?')\n",
    "print('Hallo',s)"
   ]
  },
  {
   "cell_type": "code",
   "execution_count": 14,
   "id": "6af50685-2b22-4c73-a470-9d221f8fc91e",
   "metadata": {},
   "outputs": [
    {
     "name": "stdin",
     "output_type": "stream",
     "text": [
      "Bitte eine ganze Zahl eingeben: 5\n"
     ]
    },
    {
     "name": "stdout",
     "output_type": "stream",
     "text": [
      "Das Doppelte von 5 ist 10\n"
     ]
    }
   ],
   "source": [
    "x = int(input('Bitte eine ganze Zahl eingeben:'))\n",
    "print('Das Doppelte von',x,'ist',2*x)"
   ]
  },
  {
   "cell_type": "markdown",
   "id": "533a2e98-ac29-41c9-94ed-d868cc0f7659",
   "metadata": {},
   "source": [
    "#### f-String\n",
    "\n",
    "Für die Ausgabe von Text und Variablen nutzen wir einen f-String. Dabei können wir die Variablen mit geschweiften Klammern direkt in den String einfügen und können bei Bedarf auch Formatierungen hinzufügen."
   ]
  },
  {
   "cell_type": "code",
   "execution_count": 15,
   "id": "49873707-23a3-4a58-ad14-26f2cc43af5e",
   "metadata": {},
   "outputs": [
    {
     "name": "stdin",
     "output_type": "stream",
     "text": [
      "Bitte eine ganze Zahl eingeben: 5\n"
     ]
    },
    {
     "name": "stdout",
     "output_type": "stream",
     "text": [
      "Das Doppelte von 5 ist 10.\n"
     ]
    }
   ],
   "source": [
    "x = int(input('Bitte eine ganze Zahl eingeben:'))\n",
    "print(f'Das Doppelte von {x} ist {2*x}.')"
   ]
  },
  {
   "cell_type": "code",
   "execution_count": 18,
   "id": "1e8b2cbd-bc71-442b-8854-b5e629870f86",
   "metadata": {},
   "outputs": [
    {
     "name": "stdout",
     "output_type": "stream",
     "text": [
      "a hat den Wert    13.\n",
      "b hat den Wert  4369.\n",
      "c hat den Wert 75139.\n"
     ]
    }
   ],
   "source": [
    "# Eine Mindestlänge für die Ausgabe festlegen\n",
    "a = 13\n",
    "b = 4369\n",
    "c = 75139\n",
    "print(f'a hat den Wert {a:5}.')\n",
    "print(f'b hat den Wert {b:5}.')\n",
    "print(f'c hat den Wert {c:5}.')"
   ]
  },
  {
   "cell_type": "code",
   "execution_count": 19,
   "id": "b8678e2e-1b7c-4643-842b-daa64bb600bb",
   "metadata": {},
   "outputs": [
    {
     "name": "stdout",
     "output_type": "stream",
     "text": [
      "Pi auf zwei Nachkommastellen: 3.14\n"
     ]
    }
   ],
   "source": [
    "# Runden einer Dezimalzahl auf eine bestimmte Anzahl von Nachkommastellen\n",
    "pi = 3.1415926535\n",
    "print(f\"Pi auf zwei Nachkommastellen: {pi:.2f}\")  "
   ]
  },
  {
   "cell_type": "code",
   "execution_count": 20,
   "id": "e1524fde-2fb7-4b75-a83b-c3b8a51eb4a1",
   "metadata": {},
   "outputs": [
    {
     "name": "stdout",
     "output_type": "stream",
     "text": [
      "Es werden Umfang und Fläche eines Kreises berechnet\n"
     ]
    },
    {
     "name": "stdin",
     "output_type": "stream",
     "text": [
      "Gib bitte den Radius des Kreises an: 5.2\n"
     ]
    },
    {
     "name": "stdout",
     "output_type": "stream",
     "text": [
      "Ein Kreis mit Radius 5.2 hat den Umfang 32.67 und die Fläche 84.95.\n"
     ]
    }
   ],
   "source": [
    "print('Es werden Umfang und Fläche eines Kreises berechnet')\n",
    "radius = float(input('Gib bitte den Radius des Kreises an:'))\n",
    "pi = 3.1415\n",
    "umfang = 2 * pi * radius\n",
    "flaeche = pi * (radius ** 2)\n",
    "print(f'Ein Kreis mit Radius {radius} hat den Umfang {umfang:.2f} und die Fläche {flaeche:.2f}.')"
   ]
  },
  {
   "cell_type": "code",
   "execution_count": null,
   "id": "440d425b-2908-43d5-8da9-fb8ea1c03646",
   "metadata": {},
   "outputs": [],
   "source": []
  }
 ],
 "metadata": {
  "kernelspec": {
   "display_name": "Python 3 (ipykernel)",
   "language": "python",
   "name": "python3"
  },
  "language_info": {
   "codemirror_mode": {
    "name": "ipython",
    "version": 3
   },
   "file_extension": ".py",
   "mimetype": "text/x-python",
   "name": "python",
   "nbconvert_exporter": "python",
   "pygments_lexer": "ipython3",
   "version": "3.12.8"
  }
 },
 "nbformat": 4,
 "nbformat_minor": 5
}
