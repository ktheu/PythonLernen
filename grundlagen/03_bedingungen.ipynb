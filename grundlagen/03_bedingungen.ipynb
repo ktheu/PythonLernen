{
 "cells": [
  {
   "cell_type": "markdown",
   "id": "b9533cbf-64c2-414f-9450-a58aff963b01",
   "metadata": {},
   "source": [
    "### Bedingungen \n",
    "\n",
    "[Video](https://youtu.be/KFkV3_PHjTE)\n",
    "\n",
    "Mit bedingten Anweisungen können wir Verzweigungen im Programmfluss erreichen. Die Einrückung bestimmt, welche Anweisungen\n",
    "in den Rumpf der if-Anweisung gehören.\n",
    "\n",
    "##### if"
   ]
  },
  {
   "cell_type": "code",
   "execution_count": null,
   "id": "57d48525-a832-4e8b-ba0c-094ca1bbcf17",
   "metadata": {},
   "outputs": [],
   "source": [
    "x = 0\n",
    "if x > 1:\n",
    "  print('A')\n",
    "  print('B')\n",
    "print('Ende')"
   ]
  },
  {
   "cell_type": "markdown",
   "id": "71c54669-bd96-41bc-b174-6fc1c3e6fa79",
   "metadata": {},
   "source": [
    "##### if - else"
   ]
  },
  {
   "cell_type": "code",
   "execution_count": null,
   "id": "61604653-1cd1-40f5-b564-a99228fae4c9",
   "metadata": {},
   "outputs": [],
   "source": [
    "x = 0\n",
    "if x > 1:\n",
    "    print('A')\n",
    "else:\n",
    "    print('B')"
   ]
  },
  {
   "cell_type": "markdown",
   "id": "8acea5dc-0295-4070-94a6-61162d957787",
   "metadata": {},
   "source": [
    "##### if - elif - else\n",
    "Diese Konstruktion nutzen wir für eine Fallunterscheidung: Nur der erste zutreffende Fall wird durchlaufen. "
   ]
  },
  {
   "cell_type": "code",
   "execution_count": null,
   "id": "e1d10837-9f3b-4d7c-bb9d-6d576e340fd7",
   "metadata": {},
   "outputs": [],
   "source": [
    "x = 0\n",
    "if x > 3:\n",
    "    print('A')\n",
    "elif x > 2:\n",
    "    print('B')\n",
    "elif x > 1:\n",
    "    print('C')\n",
    "else:\n",
    "    print('D')\n",
    "print('Ende')"
   ]
  },
  {
   "cell_type": "markdown",
   "id": "8a673ca6-9598-4d3d-9333-30ed31ab8b1b",
   "metadata": {},
   "source": [
    "Beachte den Unterschied zur folgenden Konstruktion"
   ]
  },
  {
   "cell_type": "code",
   "execution_count": null,
   "id": "cc28fe0f-022b-4cd0-8884-13de779716c2",
   "metadata": {},
   "outputs": [],
   "source": [
    "x = 2.5\n",
    "if x > 3:\n",
    "    print('A')\n",
    "if x > 2:\n",
    "    print('B')\n",
    "if x > 1:\n",
    "    print('C')\n",
    "else:\n",
    "    print('D')"
   ]
  },
  {
   "cell_type": "markdown",
   "id": "25f1ce89-c696-4b56-a2b5-1bec9c367b9d",
   "metadata": {},
   "source": [
    "Wenn der Rumpf nur aus einer Zeile besteht, kann man die auch nach dem Doppelpunkt in die Kopfzeile schreiben."
   ]
  },
  {
   "cell_type": "code",
   "execution_count": null,
   "id": "649fdeaf-1728-4c61-870d-8676eb925a3e",
   "metadata": {},
   "outputs": [],
   "source": [
    "x = 1\n",
    "# statt\n",
    "if x > 2:\n",
    "    print('A')\n",
    "else:\n",
    "    print('B')\n",
    "\n",
    "# geht auch\n",
    "if x > 2: print('A')\n",
    "else: print('B') "
   ]
  },
  {
   "cell_type": "code",
   "execution_count": 2,
   "id": "23c67270-82e0-4d0f-84ed-8e5a6f2d3e12",
   "metadata": {},
   "outputs": [
    {
     "name": "stdout",
     "output_type": "stream",
     "text": [
      "False\n"
     ]
    }
   ],
   "source": [
    "x = 1\n",
    "c = x > 2\n",
    "print(c)"
   ]
  },
  {
   "cell_type": "markdown",
   "id": "f2c7662b-778e-45f7-bbda-435adb2635ee",
   "metadata": {},
   "source": [
    "#### Boolesche Ausdrücke \n",
    "\n",
    "Die Bedingungen in den if-Anweisungen sind *boolesche Ausdrücke*. Boolsche Ausdrücke werten sich immer zu einem der beiden Wahrheitswerte True oder False aus. \n",
    "\n",
    "Mit den Vergleichsoperatoren für Zahlen können wir boolesche Ausdrücke erstellen. "
   ]
  },
  {
   "cell_type": "code",
   "execution_count": null,
   "id": "b1ec34b4-682f-4956-9cfe-2b93faf4d4d4",
   "metadata": {},
   "outputs": [],
   "source": [
    "x = 2\n",
    "print(x > 1)\n",
    "print(x > 3)"
   ]
  },
  {
   "cell_type": "markdown",
   "id": "51eaf5e0-4c4a-4b08-969a-70dd99ac0022",
   "metadata": {},
   "source": [
    "Die Gleichheit zweier Zahlen prüfen wir mit ```==```, die Ungleichheit mit ```!=```"
   ]
  },
  {
   "cell_type": "code",
   "execution_count": 3,
   "id": "89d00c2f-bb76-466f-a9c1-611f21c9c4bf",
   "metadata": {},
   "outputs": [
    {
     "name": "stdout",
     "output_type": "stream",
     "text": [
      "False False True True False True\n"
     ]
    }
   ],
   "source": [
    "i = 5\n",
    "j = 7\n",
    "print(i > j, i >= j, i < j, i <= j, i == j, i != j)"
   ]
  },
  {
   "cell_type": "markdown",
   "id": "bf806cb5-57f9-4726-817a-bb512ac0d8ca",
   "metadata": {},
   "source": [
    "#### Beispiele  \n",
    "\n",
    "Eine Zahl ist genau dann gerade, wenn der Rest bei Division durch 2 Null ist."
   ]
  },
  {
   "cell_type": "code",
   "execution_count": 5,
   "id": "7220e527-9836-4da8-a4a3-dbe1fdca66d8",
   "metadata": {},
   "outputs": [
    {
     "name": "stdin",
     "output_type": "stream",
     "text": [
      "Bitte eine ganze Zahl eingeben 18\n"
     ]
    },
    {
     "name": "stdout",
     "output_type": "stream",
     "text": [
      "Die Zahl 18 ist gerade.\n"
     ]
    },
    {
     "name": "stdout",
     "output_type": "stream",
     "text": [
      "Die Zahl 13 ist ungerade.\n"
     ]
    }
   ],
   "source": [
    "x = int(input('Bitte eine ganze Zahl eingeben'))\n",
    "if x % 2 == 0:\n",
    "    print(f'Die Zahl {x} ist gerade.')\n",
    "else:\n",
    "    print(f'Die Zahl {x} ist ungerade.')"
   ]
  },
  {
   "cell_type": "markdown",
   "id": "d19cc32b-dfb5-453d-9bad-3e5b24e39086",
   "metadata": {},
   "source": [
    "Eine Zahl a ist genau dann durch b teilbar, wenn der Rest bei der Division von a durch b Null ist."
   ]
  },
  {
   "cell_type": "code",
   "execution_count": 7,
   "id": "f6b02b1c-405b-4acd-bc29-ab5b353810c4",
   "metadata": {},
   "outputs": [
    {
     "name": "stdout",
     "output_type": "stream",
     "text": [
      "Ich prüfe, ob a durch b teilbar ist.\n"
     ]
    },
    {
     "name": "stdin",
     "output_type": "stream",
     "text": [
      "Bitte eine positive ganze Zahl a eingeben 72\n",
      "Bitte eine positive ganze Zahl b eingeben 12\n"
     ]
    },
    {
     "name": "stdout",
     "output_type": "stream",
     "text": [
      "Die Zahl 72 ist durch 12 teilbar.\n"
     ]
    },
    {
     "name": "stdout",
     "output_type": "stream",
     "text": [
      "Bitte eine positive ganze Zahl a eingeben 12\n",
      "Bitte eine positive ganze Zahl b eingeben 3\n"
     ]
    },
    {
     "name": "stdout",
     "output_type": "stream",
     "text": [
      "Die Zahl 12 ist durch 3 teilbar.\n"
     ]
    }
   ],
   "source": [
    "print('Ich prüfe, ob a durch b teilbar ist.')\n",
    "a = int(input('Bitte eine positive ganze Zahl a eingeben'))\n",
    "b = int(input('Bitte eine positive ganze Zahl b eingeben'))\n",
    "if a % b == 0:\n",
    "    print(f'Die Zahl {a} ist durch {b} teilbar.')\n",
    "else:\n",
    "    print(f'Die Zahl {a} ist nicht durch {b} teilbar.')\n",
    " "
   ]
  },
  {
   "cell_type": "markdown",
   "id": "33cb7812-1561-4d76-be96-3a129fdf0877",
   "metadata": {},
   "source": [
    "#### Boolesche Operatoren\n",
    "\n",
    "Mit den booleschen Operatoren ```and```, ```or``` und ```not``` können wir aus booleschen Ausdrücken kompliziertere boolesche Ausdrücke erstellen. Die Wahrheitstafeln für die Operatoren zeigen alle Fälle für die verschiedenen Wahrheitswerte.\n",
    "\n",
    "Die Auswertungsreihenfolge ist ```not```, ```and```, ```or```. Im Zweifelsfall setzen wir Klammern.\n",
    "<img src='wahrheitstafeln.png' width='500'>"
   ]
  },
  {
   "cell_type": "code",
   "execution_count": 8,
   "id": "af2d8442-a37b-411e-8ee3-5a2c57ede166",
   "metadata": {},
   "outputs": [
    {
     "name": "stdout",
     "output_type": "stream",
     "text": [
      "True\n"
     ]
    }
   ],
   "source": [
    "print(4 > 6 or 8 < 10 or 3 > 8 )"
   ]
  },
  {
   "cell_type": "markdown",
   "id": "e97606c6-9e8c-4f14-9f76-cc037b2f6b71",
   "metadata": {},
   "source": [
    "Beispiel:"
   ]
  },
  {
   "cell_type": "code",
   "execution_count": 12,
   "id": "8f4f01e8-01a0-45de-98fb-d37561ccaee9",
   "metadata": {},
   "outputs": [
    {
     "name": "stdin",
     "output_type": "stream",
     "text": [
      "Bitte eine positive ganze Zahl eingeben: 7\n"
     ]
    },
    {
     "name": "stdout",
     "output_type": "stream",
     "text": [
      "Die Zahl 7 ist weder durch 3 und noch durch 5 teilbar.\n"
     ]
    },
    {
     "name": "stdout",
     "output_type": "stream",
     "text": [
      "Die Zahl 7 ist weder durch 3 und noch durch 5 teilbar.\n"
     ]
    }
   ],
   "source": [
    "x = int(input('Bitte eine positive ganze Zahl eingeben:'))\n",
    "if x % 5 == 0 or x % 3 == 0:\n",
    "    print(f'Die Zahl {x} ist durch 3 oder 5 teilbar.')\n",
    "else:\n",
    "    print(f'Die Zahl {x} ist weder durch 3 und noch durch 5 teilbar.')"
   ]
  },
  {
   "cell_type": "markdown",
   "id": "6baa3c0d-f42a-47ac-bc8a-d855dee7ae63",
   "metadata": {},
   "source": [
    "#### Bedingte Zuweisungen  "
   ]
  },
  {
   "cell_type": "code",
   "execution_count": null,
   "id": "00ae79f1-47c3-4097-a41b-1eff4456b618",
   "metadata": {},
   "outputs": [],
   "source": [
    "x = 5\n",
    "if x % 2 == 0:\n",
    "    res = 'Gerade'\n",
    "else:\n",
    "    res = 'Ungerade'\n",
    "print(res)"
   ]
  },
  {
   "cell_type": "markdown",
   "id": "7eb34575-9706-47ae-bdd7-5a849c6130b9",
   "metadata": {},
   "source": [
    "Für if-else Konstruktionen wie oben gibt es die bedingten Zuweisungen als Kurzform"
   ]
  },
  {
   "cell_type": "code",
   "execution_count": null,
   "id": "4e83d48f-7729-412c-a470-929eac01fe73",
   "metadata": {},
   "outputs": [],
   "source": [
    "x = 6\n",
    "res = 'Gerade' if x % 2 == 0 else 'Ungerade'\n",
    "print(res)"
   ]
  },
  {
   "cell_type": "code",
   "execution_count": null,
   "id": "38b34b7e-6933-4ea4-94b5-33412a278845",
   "metadata": {},
   "outputs": [],
   "source": [
    "alter = 17\n",
    "status = 'volljaehrig' if alter >= 18 else 'nicht volljaehrig'\n",
    "print(status)"
   ]
  },
  {
   "cell_type": "code",
   "execution_count": null,
   "id": "05c1cb42-8cb0-4f5d-a93b-0430a7404b88",
   "metadata": {},
   "outputs": [],
   "source": []
  }
 ],
 "metadata": {
  "kernelspec": {
   "display_name": "Python 3 (ipykernel)",
   "language": "python",
   "name": "python3"
  },
  "language_info": {
   "codemirror_mode": {
    "name": "ipython",
    "version": 3
   },
   "file_extension": ".py",
   "mimetype": "text/x-python",
   "name": "python",
   "nbconvert_exporter": "python",
   "pygments_lexer": "ipython3",
   "version": "3.12.8"
  }
 },
 "nbformat": 4,
 "nbformat_minor": 5
}
