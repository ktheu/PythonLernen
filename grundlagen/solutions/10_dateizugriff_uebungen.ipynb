{
 "cells": [
  {
   "cell_type": "markdown",
   "id": "344526d9-0702-4e47-98ef-c78385432056",
   "metadata": {},
   "source": [
    "### Dateizugriff - Übungen\n"
   ]
  },
  {
   "cell_type": "code",
   "execution_count": 11,
   "id": "4936698e-1110-4b53-86d4-dab4e3ecfebb",
   "metadata": {},
   "outputs": [
    {
     "name": "stdout",
     "output_type": "stream",
     "text": [
      "Overwriting input1.txt\n"
     ]
    }
   ],
   "source": [
    "%%writefile input1.txt\n",
    "7\n",
    "169\n",
    "210\n",
    "203\n",
    "209\n",
    "229\n",
    "175\n",
    "235"
   ]
  },
  {
   "cell_type": "code",
   "execution_count": 13,
   "id": "60d5abf3-38eb-438e-aeda-09922fc3b7e5",
   "metadata": {},
   "outputs": [
    {
     "name": "stdout",
     "output_type": "stream",
     "text": [
      "[169, 210, 203, 209, 229, 175, 235]\n"
     ]
    }
   ],
   "source": [
    "''' A1\n",
    "Erstelle eine Datei input1.txt mit dem folgendem Inhalt:\n",
    "\n",
    "7\n",
    "169\n",
    "210\n",
    "203\n",
    "209\n",
    "229\n",
    "175\n",
    "235\n",
    "\n",
    "Die erste Zahl ist die Anzahl der Zeilen, die noch folgen.\n",
    "Lies deren Zahlen in eine Liste data und gib data aus.\n",
    "\n",
    "Erwartete Ausgabe:\n",
    "[169, 210, 203, 209, 229, 175, 235]\n",
    "'''\n",
    "f = open('input1.txt')\n",
    "n = int(f.readline())\n",
    "data = []\n",
    "for i in range(n):\n",
    "    data.append(int(f.readline()))\n",
    "f.close\n",
    "print(data)\n",
    " "
   ]
  },
  {
   "cell_type": "code",
   "execution_count": 3,
   "id": "256ece60-8e7d-463b-8d09-36a81b453bae",
   "metadata": {},
   "outputs": [
    {
     "name": "stdout",
     "output_type": "stream",
     "text": [
      "Writing input2.txt\n"
     ]
    }
   ],
   "source": [
    "%%writefile input2.txt\n",
    "1 1 2 3 4 1 5 1 2 6 4 5 3\n",
    "? 1 ? ? ? ? 1 5 ? 2 ? ? ?"
   ]
  },
  {
   "cell_type": "code",
   "execution_count": 14,
   "id": "11f19481-70d8-48ae-a750-9eadc9126d5b",
   "metadata": {},
   "outputs": [
    {
     "name": "stdout",
     "output_type": "stream",
     "text": [
      "[1, 1, 2, 3, 4, 1, 5, 1, 2, 6, 4, 5, 3]\n",
      "[0, 1, 0, 0, 0, 0, 1, 5, 0, 2, 0, 0, 0]\n"
     ]
    }
   ],
   "source": [
    "''' A2\n",
    "Erstelle eine Datei input2.txt mit dem folgendem Inhalt:\n",
    "\n",
    "1 1 2 3 4 1 5 1 2 6 4 5 3\n",
    "? 1 ? ? ? ? 1 5 ? 2 ? ? ?\n",
    "\n",
    "Lies Zeile 1 als Liste von Zahlen in Variable a ein.\n",
    "Lies Zeile 2 als Liste von Zahlen in Variable b ein, ersetze dabei ? durch 0.\n",
    "Gib a und b aus.\n",
    "\n",
    "Erwartete Ausgabe:\n",
    "[1, 1, 2, 3, 4, 1, 5, 1, 2, 6, 4, 5, 3]\n",
    "[0, 1, 0, 0, 0, 0, 1, 5, 0, 2, 0, 0, 0]\n",
    "'''\n",
    "f = open('input2.txt')\n",
    "a = [int(x) for x in f.readline().split()]\n",
    "zeile2 = f.readline().replace('?','0')\n",
    "b = [int(x) for x in zeile2.split()]\n",
    "f.close\n",
    "print(a)\n",
    "print(b)"
   ]
  },
  {
   "cell_type": "code",
   "execution_count": null,
   "id": "8948f0d6-ded5-4be2-97c4-8a0835872f7a",
   "metadata": {},
   "outputs": [],
   "source": [
    "3\n",
    "Lena 2\n",
    "Malte 3\n",
    "Maike 1"
   ]
  },
  {
   "cell_type": "code",
   "execution_count": 9,
   "id": "feb8743c-699f-4cac-ba73-5794186dd74e",
   "metadata": {},
   "outputs": [
    {
     "name": "stdout",
     "output_type": "stream",
     "text": [
      "Writing input3.txt\n"
     ]
    }
   ],
   "source": [
    "%%writefile input3.txt\n",
    "3\n",
    "Lena 2\n",
    "Malte 3\n",
    "Maike 1"
   ]
  },
  {
   "cell_type": "code",
   "execution_count": 16,
   "id": "113ae8bf-9a23-4698-8f5b-94d54aa10714",
   "metadata": {},
   "outputs": [
    {
     "name": "stdout",
     "output_type": "stream",
     "text": [
      "[('Lena', 2), ('Malte', 3), ('Maike', 1)]\n"
     ]
    }
   ],
   "source": [
    "''' A3\n",
    "Erstelle eine Datei input1.txt mit dem folgendem Inhalt:\n",
    "\n",
    "3\n",
    "Lena 2\n",
    "Malte 3\n",
    "Maike 1\n",
    "\n",
    "Die erste Zahl gibt an, wieviele Datenzeilen folgen.\n",
    "Lies die Daten in eine Liste von Tuples und gib die Liste aus.\n",
    "\n",
    "Erwartete Ausgabe:\n",
    "[('Lena', 2), ('Malte', 3), ('Maike', 1)]\n",
    "'''\n",
    "f = open('input3.txt',encoding='utf-8')\n",
    "n = int(f.readline())\n",
    "daten = []\n",
    "for i in range(n):\n",
    "    name, zahl = f.readline().split()\n",
    "    daten.append((name, int(zahl)))\n",
    "f.close()\n",
    "print(daten)    \n"
   ]
  },
  {
   "cell_type": "code",
   "execution_count": 17,
   "id": "2593017b-3809-4e00-a5eb-9a4de818ee40",
   "metadata": {},
   "outputs": [
    {
     "name": "stdout",
     "output_type": "stream",
     "text": [
      "Writing input4.txt\n"
     ]
    }
   ],
   "source": [
    "%%writefile input4.txt\n",
    "Ein Federchen flog durch das Land;\n",
    "Ein Nilpferd schlummerte im Sand.\n",
    "\n",
    "Die Feder sprach: \"Ich will es wecken!\"\n",
    "Sie liebte, andere zu necken.\n",
    "\n",
    "Aufs Nilpferd setzte sich die Feder\n",
    "Und streichelte sein dickes Leder.\n",
    "\n",
    "Das Nilpferd sperrte auf den Rachen\n",
    "Und musste ungeheuer lachen."
   ]
  },
  {
   "cell_type": "code",
   "execution_count": 20,
   "id": "4a55439d-0ac4-4842-bfa0-de8538978b52",
   "metadata": {},
   "outputs": [
    {
     "name": "stdout",
     "output_type": "stream",
     "text": [
      "221\n",
      "EinFederchenflogdurchdasLandEinNilpferdschlummerteimSandDieFedersprachIchwillesweckenSieliebteanderezuneckenAufsNilpferdsetztesichdieFederUndstreichelteseindickesLederDasNilpferdsperrteaufdenRachenUndmussteungeheuerlachen\n"
     ]
    }
   ],
   "source": [
    "''' A4\n",
    "Erstelle eine Datei input4.txt mit folgendem Inhalt:\n",
    "\n",
    "Ein Federchen flog durch das Land;\n",
    "Ein Nilpferd schlummerte im Sand.\n",
    "\n",
    "Die Feder sprach: \"Ich will es wecken!\"\n",
    "Sie liebte, andere zu necken.\n",
    "\n",
    "Aufs Nilpferd setzte sich die Feder\n",
    "Und streichelte sein dickes Leder.\n",
    "\n",
    "Das Nilpferd sperrte auf den Rachen\n",
    "Und musste ungeheuer lachen.\n",
    "\n",
    "Lies den gesamten Inhalt der Datei in die Variable text ein.\n",
    "Erstelle einen String text2, der nur die Buchstaben von text enthält, ohne Satzzeichen, Leerzeilen und Zeilenvorschub.\n",
    "Gib die Länge von text2 aus.\n",
    "Gib text2 aus\n",
    "\n",
    "Erwartete Ausgabe:\n",
    "'''\n",
    "f = open('input4.txt',encoding='utf-8')\n",
    "text = f.read()\n",
    "f.close()\n",
    "text2 = ''\n",
    "for c in text:\n",
    "    if c.lower() not in 'abcdefghijklmnopqrstuvwxyzöäüß': continue\n",
    "    text2 += c\n",
    "print(len(text2))\n",
    "print(text2)"
   ]
  },
  {
   "cell_type": "code",
   "execution_count": 27,
   "id": "0d6806f4-c133-4cde-b8c1-a816ed8b3f7c",
   "metadata": {},
   "outputs": [
    {
     "name": "stdin",
     "output_type": "stream",
     "text": [
      "Bitte eine Zahl von 1-20 eingeben:  13\n"
     ]
    },
    {
     "name": "stdout",
     "output_type": "stream",
     "text": [
      "Multiplikationstabelle erstellt\n"
     ]
    }
   ],
   "source": [
    "''' A5\n",
    "Lies eine Zahl k zwischen 1 und 20 ein.\n",
    "\n",
    "Gib eine Multiplikationstabelle 1*k .. 20*k in \n",
    "eine Datei ausgabe.txt aus.\n",
    "\n",
    "Beispieldialog:\n",
    "\n",
    "Bitte eine Zahl von 1-20 eingeben:  13\n",
    "Multiplikationstabelle erstellt.\n",
    "\n",
    "Erwarteter Inhalt der Datei:\n",
    "\n",
    "Multiplikationstabelle für 13:\n",
    " 1 × 13 =  13\n",
    " 2 × 13 =  26\n",
    " 3 × 13 =  39\n",
    " 4 × 13 =  52\n",
    " 5 × 13 =  65\n",
    " 6 × 13 =  78\n",
    " 7 × 13 =  91\n",
    " 8 × 13 = 104\n",
    " 9 × 13 = 117\n",
    "10 × 13 = 130\n",
    "11 × 13 = 143\n",
    "12 × 13 = 156\n",
    "13 × 13 = 169\n",
    "14 × 13 = 182\n",
    "15 × 13 = 195\n",
    "16 × 13 = 208\n",
    "17 × 13 = 221\n",
    "18 × 13 = 234\n",
    "19 × 13 = 247\n",
    "20 × 13 = 260\n",
    "'''\n",
    "# your code\n",
    "n = int(input('Bitte eine Zahl von 1-20 eingeben: '))\n",
    "\n",
    "f = open('ausgabe.txt',mode='w',encoding='utf-8')\n",
    "print(f\"Multiplikationstabelle für {n}:\", file=f)\n",
    "for i in range(1, 21):\n",
    "    ergebnis = n * i\n",
    "    print(f\"{i:2} × {n} = {ergebnis:3}\", file=f)\n",
    "f.close()\n",
    "print('Multiplikationstabelle erstellt.')"
   ]
  }
 ],
 "metadata": {
  "kernelspec": {
   "display_name": "Python 3 (ipykernel)",
   "language": "python",
   "name": "python3"
  },
  "language_info": {
   "codemirror_mode": {
    "name": "ipython",
    "version": 3
   },
   "file_extension": ".py",
   "mimetype": "text/x-python",
   "name": "python",
   "nbconvert_exporter": "python",
   "pygments_lexer": "ipython3",
   "version": "3.12.8"
  }
 },
 "nbformat": 4,
 "nbformat_minor": 5
}
