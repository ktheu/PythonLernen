{
 "cells": [
  {
   "cell_type": "markdown",
   "id": "4facc12d-2702-4f2c-9e6d-fa7fa1d3d080",
   "metadata": {},
   "source": [
    "### Dictionaries - Übungen\n"
   ]
  },
  {
   "cell_type": "code",
   "execution_count": 10,
   "id": "ebee1071-cb53-4e2a-9742-c8d985b3d457",
   "metadata": {},
   "outputs": [
    {
     "name": "stdout",
     "output_type": "stream",
     "text": [
      "-4\n"
     ]
    }
   ],
   "source": [
    "''' A1\n",
    "Erstelle ein dict m, dass jeder Zahl in Zeile1, die Zahl zuordnet, die unter ihr steht.\n",
    "\n",
    "Zeile1:   3  10  101  25  17\n",
    "         19   4   -4  99  17\n",
    "\n",
    "Gib dann den Wert aus, der dem key 101 zugeordnet ist.\n",
    "\n",
    "Erwartete Ausgabe:\n",
    "-4\n",
    "'''\n",
    "m = {3:19, 10:4, 101:-4, 25:99, 17:17}\n",
    "print(m[101])"
   ]
  },
  {
   "cell_type": "code",
   "execution_count": 11,
   "id": "88efe70c-b211-4695-9d39-b67c8b62adbb",
   "metadata": {},
   "outputs": [
    {
     "name": "stdout",
     "output_type": "stream",
     "text": [
      "3\n",
      "London\n",
      "Paris\n",
      "Rom\n"
     ]
    }
   ],
   "source": [
    "''' A2\n",
    "Erstelle ein dict m, dass den Ländern 'England', 'Frankreich' und 'Italien' ihre Hauptstädte zuordnet.\n",
    "Gib die Länge von m aus.\n",
    "Gib dann nacheinander die values für die keys 'England', 'Frankreich' und 'Italien' aus.\n",
    "\n",
    "Erwartete Ausgabe:\n",
    "3\n",
    "London\n",
    "Paris\n",
    "Rom\n",
    "'''\n",
    "m = {'England':'London', 'Frankreich':'Paris', 'Italien':'Rom'}\n",
    "print(len(m))\n",
    "print(m['England'])\n",
    "print(m['Frankreich'])\n",
    "print(m['Italien'])"
   ]
  },
  {
   "cell_type": "code",
   "execution_count": 12,
   "id": "891072fc-2d4e-4b2c-a79c-83564a566c92",
   "metadata": {},
   "outputs": [
    {
     "name": "stdout",
     "output_type": "stream",
     "text": [
      "{1: 'a', 2: 'k', 3: 'c', 4: 'd'}\n"
     ]
    }
   ],
   "source": [
    "''' A3\n",
    "Ändere das Zeichen, das der 2 im dict m zugeordnet ist, auf 'k'.\n",
    "Füge ein neues key-value Paar hinzu: Der Zahl 4 soll 'd' zugeordnet werden.\n",
    "Gib m aus.\n",
    "\n",
    "Erwartete Ausgabe:\n",
    "{1: 'a', 2: 'k', 3: 'c'}\n",
    "'''\n",
    "m = {1: 'a', 2: 'b', 3: 'c'}\n",
    "m[2] = 'k'\n",
    "m[4] = 'd'\n",
    "print(m)"
   ]
  },
  {
   "cell_type": "code",
   "execution_count": 1,
   "id": "74d61c72-c035-4af7-ad85-9221a53100bd",
   "metadata": {},
   "outputs": [
    {
     "name": "stdout",
     "output_type": "stream",
     "text": [
      "Bitte erst Wort, dann Zahl eingeben (x = Ende)\n"
     ]
    },
    {
     "name": "stdin",
     "output_type": "stream",
     "text": [
      "Wort:  Hallo\n",
      "Zahl:  5\n",
      "Wort:  Montag\n",
      "Zahl:  3\n",
      "Wort:  Dienstag\n",
      "Zahl:  9\n",
      "Wort:  x\n"
     ]
    },
    {
     "name": "stdout",
     "output_type": "stream",
     "text": [
      "{'Hallo': 5, 'Montag': 3, 'Dienstag': 9}\n"
     ]
    }
   ],
   "source": [
    "''' A4\n",
    "Lies in einer Schleife immer wieder ein Wort, dann eine Zahl ein\n",
    "und füge Wort und Zahl als key-value Paar in ein dict m ein.\n",
    "Verlasse die Schleife bei Eingabe von x und gib m aus.\n",
    "\n",
    "Beispieldialog:\n",
    "\n",
    "Bitte erst Wort, dann Zahl eingeben (x = Ende)\n",
    "Wort:  Hallo\n",
    "Zahl:  5\n",
    "Wort:  Montag\n",
    "Zahl:  3\n",
    "Wort:  Dienstag\n",
    "Zahl:  9\n",
    "Wort:  x\n",
    "{'Hallo': 5, 'Montag': 3, 'Dienstag': 9}\n",
    "'''\n",
    "m = dict()\n",
    "print('Bitte erst Wort, dann Zahl eingeben (x = Ende)')\n",
    "while True:\n",
    "    \n",
    "    wort = input('Wort: ')\n",
    "    if wort == 'x':\n",
    "        print(m)\n",
    "        break\n",
    "    zahl = int(input('Zahl: '))\n",
    "    m[wort] = zahl\n",
    "            \n",
    "    "
   ]
  },
  {
   "cell_type": "code",
   "execution_count": 17,
   "id": "b7a4ff46-523e-40d8-8324-0a6781c7d799",
   "metadata": {},
   "outputs": [
    {
     "name": "stdin",
     "output_type": "stream",
     "text": [
      "Bitte eine String eingeben: abba\n"
     ]
    },
    {
     "name": "stdout",
     "output_type": "stream",
     "text": [
      "{'a': 1, 'b': 1}\n"
     ]
    }
   ],
   "source": [
    "''' A5\n",
    "Lies eine String s ein.\n",
    "Erstelle daraus ein dictionary, das jedem vorkommenden Zeichen den Wert 1 zuordnet. \n",
    "Gib das dict dann aus.\n",
    "\n",
    "Beispieldialoge:\n",
    "\n",
    "Bitte eine String eingeben: Hallo\n",
    "{'H': 1, 'a': 1, 'l': 1, 'o': 1}\n",
    "\n",
    "Bitte eine String eingeben: R2D2\n",
    "{'R': 1, '2': 1, 'D': 1}\n",
    "\n",
    "'''\n",
    "eingabe = input('Bitte eine String eingeben:')\n",
    "m = dict()\n",
    "for c in eingabe:\n",
    "    m[c] = 1\n",
    "print(m)\n",
    " \n"
   ]
  },
  {
   "cell_type": "code",
   "execution_count": 20,
   "id": "718bb24a-3c57-4bac-930f-16afc652b03e",
   "metadata": {},
   "outputs": [
    {
     "name": "stdin",
     "output_type": "stream",
     "text": [
      "Bitte eine String s1 eingeben: Hallo\n",
      "Bitte eine String s2 eingeben: Mario\n"
     ]
    },
    {
     "name": "stdout",
     "output_type": "stream",
     "text": [
      "{'H': 1, 'a': 2, 'l': 1, 'o': 2, 'M': 1, 'r': 1, 'i': 1}\n"
     ]
    }
   ],
   "source": [
    "''' A6\n",
    "Lies zwei Strings s1 und s2 ein.\n",
    "Erstelle daraus ein dictionary, das jedem Zeichen in s1 und s2 zuordnet, in wievielen Strings es vorkommt (1 oder 2)\n",
    "Gib dann m aus.\n",
    "\n",
    "Beispieldialog:\n",
    "\n",
    "Bitte eine String s1 eingeben: Hallo\n",
    "Bitte eine String s2 eingeben: Mario\n",
    "{'H': 1, 'a': 2, 'l': 1, 'o': 2, 'M': 1, 'r': 1, 'i': 1}\n",
    "\n",
    "'''\n",
    "s1 = input('Bitte eine String s1 eingeben:')\n",
    "s2 = input('Bitte eine String s2 eingeben:')\n",
    "m = dict()\n",
    "for c in s1:\n",
    "    m[c] = 1\n",
    "for c in s2:\n",
    "    if c in m:\n",
    "        m[c] = 2\n",
    "    else:\n",
    "        m[c] = 1\n",
    "print(m)"
   ]
  },
  {
   "cell_type": "code",
   "execution_count": null,
   "id": "00a43e23-c234-493a-a0e8-fd51f46e595e",
   "metadata": {},
   "outputs": [],
   "source": []
  }
 ],
 "metadata": {
  "kernelspec": {
   "display_name": "Python 3 (ipykernel)",
   "language": "python",
   "name": "python3"
  },
  "language_info": {
   "codemirror_mode": {
    "name": "ipython",
    "version": 3
   },
   "file_extension": ".py",
   "mimetype": "text/x-python",
   "name": "python",
   "nbconvert_exporter": "python",
   "pygments_lexer": "ipython3",
   "version": "3.12.8"
  }
 },
 "nbformat": 4,
 "nbformat_minor": 5
}
