{
 "cells": [
  {
   "cell_type": "markdown",
   "id": "6b097a81-4852-42e4-ba99-8be0f6d3c0a6",
   "metadata": {},
   "source": [
    "### Tuples - Übungen\n",
    "\n",
    "Manchmal stehen bei den Aufgaben keine erwarteten Ausgaben, weil dadurch zu viel von der Lösung verraten wird."
   ]
  },
  {
   "cell_type": "code",
   "execution_count": 1,
   "id": "402893bb-1acd-4f56-a88e-cddfbd6a16f7",
   "metadata": {},
   "outputs": [
    {
     "name": "stdout",
     "output_type": "stream",
     "text": [
      "('rot', 'grün', 'blau')\n"
     ]
    }
   ],
   "source": [
    "''' A1\n",
    "Erstelle ein Tuple farben mit den Werten \"rot\", \"grün\" und \"blau\".\n",
    "Gib das Tuple farben aus.\n",
    "\n",
    "'''\n",
    "farben = ('rot', 'grün', 'blau')\n",
    "print(farben)"
   ]
  },
  {
   "cell_type": "code",
   "execution_count": 2,
   "id": "444cff8b-f070-4730-9f98-c6f452a3691e",
   "metadata": {},
   "outputs": [
    {
     "name": "stdout",
     "output_type": "stream",
     "text": [
      "10\n",
      "50\n",
      "5\n",
      "10\n",
      "20\n",
      "30\n",
      "40\n",
      "50\n"
     ]
    }
   ],
   "source": [
    "''' A2\n",
    "Gegeben ist das Tuple zahlen.\n",
    "Gib das erste und das letzte Element aus.\n",
    "Gib die Anzahl der Elemente im Tuple aus.\n",
    "Verwende eine Schleife, um alle Werte auszugeben.\n",
    "\n",
    "Erwartete Ausgabe:\n",
    "10\n",
    "50\n",
    "10\n",
    "20\n",
    "30\n",
    "40\n",
    "50\n",
    "'''\n",
    "zahlen = (10, 20, 30, 40, 50)\n",
    "# your code\n",
    "print(zahlen[0])\n",
    "print(zahlen[-1])\n",
    "print(len(zahlen))\n",
    "for x in zahlen:\n",
    "    print(x)"
   ]
  },
  {
   "cell_type": "code",
   "execution_count": 3,
   "id": "db7b564c-406f-44b5-8390-f0771868d8fe",
   "metadata": {},
   "outputs": [
    {
     "name": "stdout",
     "output_type": "stream",
     "text": [
      "('Anna', 23, True)\n",
      "('Anna', 24, True)\n"
     ]
    }
   ],
   "source": [
    "''' A3\n",
    "Erstelle ein Tuple person mit den drei Elementen\n",
    "\"Anna\", 23, True.\n",
    "\n",
    "Erstelle daraus ein Tuple person2, bei dem die 23 durch 24 ersetzt wurde.\n",
    "Gib beide Tuple aus.\n",
    "'''\n",
    "person = ('Anna', 23, True)\n",
    "a = list(person)\n",
    "a[1] = 24\n",
    "person2 = ('Anna', 24, True)\n",
    "print(person)\n",
    "print(person2)\n"
   ]
  },
  {
   "cell_type": "code",
   "execution_count": 4,
   "id": "1f6ad32b-0c20-4c1f-a237-b1db6227646c",
   "metadata": {},
   "outputs": [
    {
     "name": "stdout",
     "output_type": "stream",
     "text": [
      "x hat den Wert 4\n",
      "y hat den Wert 7\n"
     ]
    }
   ],
   "source": [
    "''' A4\n",
    "Gegeben ist das Tuple koordinaten. Weise mit unpacking x und y die Werte aus dem Tuple zu. \n",
    "Gib die erwartete Ausgabe aus.\n",
    "\n",
    "Erwartete Ausgabe:\n",
    "x hat den Wert 4\n",
    "y hat den Wert 7\n",
    "'''\n",
    "koordinaten = (4, 7)\n",
    "# your code\n",
    "x, y = koordinaten\n",
    "print(f'x hat den Wert {x}')\n",
    "print(f'y hat den Wert {y}')"
   ]
  },
  {
   "cell_type": "code",
   "execution_count": 9,
   "id": "c7d6308f-de16-45cf-9774-130f63b988b9",
   "metadata": {},
   "outputs": [
    {
     "name": "stdout",
     "output_type": "stream",
     "text": [
      "19\n",
      "False\n"
     ]
    }
   ],
   "source": [
    "''' A5\n",
    "Erstelle ein dictionary wetter, bei dem der key ein Tuple aus (Stadt, Monat) ist,\n",
    "und der value die durchschnittliche Temperatur. Nutze dazu die folgenden Daten:\n",
    "\n",
    "Berlin, Januar, -1\n",
    "Berlin, Juli, 19\n",
    "München, Januar, -2\n",
    "München, Juli, 18\n",
    "\n",
    "Gib mit dem dict wetter die Durchschnittstemperatur in Berlin im Juli aus.\n",
    "Füge eine Eintrag für Hamburg im Januar dazu.\n",
    "Prüfe, ob es einen Eintrag für Köln im Juli gibt.\n",
    "'''\n",
    "\n",
    "wetter = {\n",
    "    (\"Berlin\", \"Januar\"): -1,\n",
    "    (\"Berlin\", \"Juli\"): 19,\n",
    "    (\"München\", \"Januar\"): -2,\n",
    "    (\"München\", \"Juli\"): 18\n",
    "}\n",
    "print(wetter[('Berlin','Juli')])\n",
    "wetter[('Hamburg','Januar')] = 0\n",
    "print(('Köln','Juli') in wetter)"
   ]
  },
  {
   "cell_type": "code",
   "execution_count": 10,
   "id": "3007dacf-7553-4207-bc15-2f8e7e721d4a",
   "metadata": {},
   "outputs": [
    {
     "name": "stdout",
     "output_type": "stream",
     "text": [
      "{(1, 2): 2, (3, 4): 3, (5, 6): 1}\n"
     ]
    }
   ],
   "source": [
    "''' A6\n",
    "Gegeben ist eine Liste von Punkten als Tupel. Erstelle ein dictionary haeufigkeit, die jedem\n",
    "Punkt die Häufigkeit seines Vorkommens zuordnet.\n",
    "Gib haeufigkeit aus.\n",
    "'''\n",
    "punkte = [(1, 2), (3, 4), (1, 2), (5, 6), (3, 4), (3, 4)]\n",
    "haeufigkeit = {(1,2):2, (3,4):3, (5,6):1}\n",
    "print(haeufigkeit)"
   ]
  },
  {
   "cell_type": "code",
   "execution_count": null,
   "id": "1f807c9f-748a-47be-aa0d-468b2817f399",
   "metadata": {},
   "outputs": [],
   "source": [
    "''' A7\n",
    "Erstelle ein dictionary routen, bei dem jeder key ein Start-Ziel-Paar (als Tuple) ist, und der value die Entfernung:\n",
    "Berlin - Hamburg - 280,\n",
    "Berlin - München - 585,\n",
    "Hamburg - München - 780\n",
    "Füge die Route von München nach Stuttgart mit 220 km hinzu.\n",
    "'''\n",
    "# your code"
   ]
  }
 ],
 "metadata": {
  "kernelspec": {
   "display_name": "Python 3 (ipykernel)",
   "language": "python",
   "name": "python3"
  },
  "language_info": {
   "codemirror_mode": {
    "name": "ipython",
    "version": 3
   },
   "file_extension": ".py",
   "mimetype": "text/x-python",
   "name": "python",
   "nbconvert_exporter": "python",
   "pygments_lexer": "ipython3",
   "version": "3.12.8"
  }
 },
 "nbformat": 4,
 "nbformat_minor": 5
}
