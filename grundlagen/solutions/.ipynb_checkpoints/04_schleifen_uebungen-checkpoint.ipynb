{
 "cells": [
  {
   "cell_type": "markdown",
   "id": "5cd0569f-1f46-4dc0-8fdd-02fc0da4915e",
   "metadata": {},
   "source": [
    "### Schleifen- Übungen"
   ]
  },
  {
   "cell_type": "code",
   "execution_count": 1,
   "id": "f7c81dc4-40bd-48db-ac69-ade98d3ff096",
   "metadata": {},
   "outputs": [
    {
     "name": "stdout",
     "output_type": "stream",
     "text": [
      "5\n",
      "4\n",
      "3\n",
      "2\n",
      "1\n",
      "Start!\n"
     ]
    }
   ],
   "source": [
    "''' A1\n",
    "Schreibe eine while-Schleife, die von 5 bis 1 herunterzählt und jede Zahl ausgibt.\n",
    "Am Ende soll \"Start!\" ausgegeben werden.\n",
    "\n",
    "Erwartete Ausgabe:\n",
    "\n",
    "5\n",
    "4\n",
    "3\n",
    "2\n",
    "1\n",
    "Start!\n",
    "'''\n",
    "#your code\n",
    "x = 5\n",
    "while x >= 1:\n",
    "    print(x)\n",
    "    x -= 1\n",
    "print(\"Start!\")"
   ]
  },
  {
   "cell_type": "code",
   "execution_count": 11,
   "id": "5b792d42-5821-4e26-bf50-30b0855d4bf6",
   "metadata": {},
   "outputs": [
    {
     "name": "stdout",
     "output_type": "stream",
     "text": [
      "5\n",
      "6\n",
      "7\n",
      "8\n",
      "9\n",
      "10\n",
      "11\n",
      "12\n",
      "13\n",
      "14\n",
      "15\n"
     ]
    }
   ],
   "source": [
    "''' A2\n",
    "Gib in einer for-Schleife die Zahlen zwischen 5 und 15 aus.\n",
    "\n",
    "Erwartete Ausgabe:\n",
    "5\n",
    "6\n",
    "7\n",
    "8\n",
    "9\n",
    "10\n",
    "11\n",
    "12\n",
    "13\n",
    "14\n",
    "15\n",
    "'''\n",
    "# your code\n",
    "for i in range(5, 16):\n",
    "    print(i)"
   ]
  },
  {
   "cell_type": "code",
   "execution_count": 12,
   "id": "2be3756d-e184-47ff-b0bc-838d9c29f0cd",
   "metadata": {},
   "outputs": [
    {
     "name": "stdout",
     "output_type": "stream",
     "text": [
      "2\n",
      "4\n",
      "6\n",
      "8\n",
      "10\n",
      "12\n",
      "14\n",
      "16\n",
      "18\n",
      "20\n"
     ]
    }
   ],
   "source": [
    "''' A3\n",
    "Gib in einer for-Schleife alle geraden Zahlen zwischen 2 und 20 aus.\n",
    "\n",
    "Erwartete Ausgabe:\n",
    "2\n",
    "4\n",
    "6\n",
    "8\n",
    "10\n",
    "12\n",
    "14\n",
    "16\n",
    "18\n",
    "20\n",
    "'''\n",
    "for i in range(2, 21, 2):\n",
    "    print(i)"
   ]
  },
  {
   "cell_type": "code",
   "execution_count": 13,
   "id": "def305c4-c2af-4ca4-84b6-a469f9f745eb",
   "metadata": {},
   "outputs": [
    {
     "name": "stdout",
     "output_type": "stream",
     "text": [
      "10\n",
      "9\n",
      "8\n",
      "7\n",
      "6\n",
      "5\n",
      "4\n",
      "3\n",
      "2\n",
      "1\n",
      "0\n"
     ]
    }
   ],
   "source": [
    "''' A4\n",
    "Gib in einer for-Schleife alle Zahlen von 10 bis 0 aus.\n",
    "\n",
    "Erwartete Ausgabe:\n",
    "10\n",
    "9\n",
    "8\n",
    "7\n",
    "6\n",
    "5\n",
    "4\n",
    "3\n",
    "2\n",
    "1\n",
    "0\n",
    "'''\n",
    "for i in range(10, -1, -1):\n",
    "    print(i)"
   ]
  },
  {
   "cell_type": "code",
   "execution_count": 2,
   "id": "c0e7ec02-e8ba-489c-a872-4e1c8f933977",
   "metadata": {},
   "outputs": [
    {
     "name": "stdout",
     "output_type": "stream",
     "text": [
      "Die Summe von 100 bis 200 ist: 15150\n"
     ]
    }
   ],
   "source": [
    "''' A5\n",
    "Schreibe eine while-Schleife, die die Summe aller ganzen Zahlen von 100 bis 200 berechnet und ausgibt.\n",
    "\n",
    "Erwartete Ausgabe:\n",
    "Die Summe von 100 bis 200 ist: 15150\n",
    "'''\n",
    "summe = 0\n",
    "i = 100\n",
    "while i <= 200:\n",
    "    summe += i\n",
    "    i += 1\n",
    "print(f\"Die Summe von 100 bis 200 ist: {summe}\")"
   ]
  },
  {
   "cell_type": "code",
   "execution_count": 7,
   "id": "3fa66a9f-75a6-4732-b17f-908f9d914401",
   "metadata": {},
   "outputs": [
    {
     "name": "stdout",
     "output_type": "stream",
     "text": [
      "2\n",
      "4\n",
      "8\n",
      "16\n",
      "32\n",
      "64\n",
      "128\n",
      "256\n",
      "512\n",
      "1024\n"
     ]
    }
   ],
   "source": [
    "''' A6\n",
    "Beginne mit der Zahl 2. Verdopple sie so lange, bis sie größer als 1000 ist.\n",
    "Gib alle Zwischenwerte aus.\n",
    "\n",
    "Erwartete Ausgabe:\n",
    "2\n",
    "4\n",
    "8\n",
    "16\n",
    "32\n",
    "64\n",
    "128\n",
    "256\n",
    "512\n",
    "1024\n",
    "'''\n",
    "zahl = 2\n",
    "while zahl <= 1000:\n",
    "    print(zahl)\n",
    "    zahl *=  2\n",
    "print(zahl)"
   ]
  },
  {
   "cell_type": "code",
   "execution_count": 8,
   "id": "294ecc4b-e8e2-46c6-90c3-e8805e2b42d7",
   "metadata": {},
   "outputs": [
    {
     "name": "stdout",
     "output_type": "stream",
     "text": [
      "10044\n"
     ]
    }
   ],
   "source": [
    "''' A7\n",
    "Finde die kleinste Zahl, die größer als 10000 ist und die durch 372 teilbar ist.\n",
    "\n",
    "Erwartete Ausgabe:\n",
    "10044\n",
    "'''\n",
    "x = 10000\n",
    "while x % 372 != 0:\n",
    "    x += 1\n",
    "print(x)"
   ]
  },
  {
   "cell_type": "code",
   "execution_count": 10,
   "id": "8d626637-e198-4edb-b9bd-fcb303dbcc54",
   "metadata": {},
   "outputs": [
    {
     "name": "stdin",
     "output_type": "stream",
     "text": [
      "Bitte eine Zahl von 1-20 eingeben: 14\n"
     ]
    },
    {
     "name": "stdout",
     "output_type": "stream",
     "text": [
      " 1 × 14 =  14\n",
      " 2 × 14 =  28\n",
      " 3 × 14 =  42\n",
      " 4 × 14 =  56\n",
      " 5 × 14 =  70\n",
      " 6 × 14 =  84\n",
      " 7 × 14 =  98\n",
      " 8 × 14 = 112\n",
      " 9 × 14 = 126\n",
      "10 × 14 = 140\n",
      "11 × 14 = 154\n",
      "12 × 14 = 168\n",
      "13 × 14 = 182\n",
      "14 × 14 = 196\n",
      "15 × 14 = 210\n",
      "16 × 14 = 224\n",
      "17 × 14 = 238\n",
      "18 × 14 = 252\n",
      "19 × 14 = 266\n",
      "20 × 14 = 280\n"
     ]
    }
   ],
   "source": [
    "''' A8\n",
    "Lies eine Zahl zwischen 1-20 ein und erstelle eine Multiplikationstabelle 1..20\n",
    "\n",
    "Beispieldialog:\n",
    "\n",
    "Bitte eine Zahl von 1-20 eingeben: 14\n",
    " 1 × 14 =  14\n",
    " 2 × 14 =  28\n",
    " 3 × 14 =  42\n",
    " 4 × 14 =  56\n",
    " 5 × 14 =  70\n",
    " 6 × 14 =  84\n",
    " 7 × 14 =  98\n",
    " 8 × 14 = 112\n",
    " 9 × 14 = 126\n",
    "10 × 14 = 140\n",
    "11 × 14 = 154\n",
    "12 × 14 = 168\n",
    "13 × 14 = 182\n",
    "14 × 14 = 196\n",
    "15 × 14 = 210\n",
    "16 × 14 = 224\n",
    "17 × 14 = 238\n",
    "18 × 14 = 252\n",
    "19 × 14 = 266\n",
    "20 × 14 = 280\n",
    "'''\n",
    "n = int(input('Bitte eine Zahl von 1-20 eingeben:'))\n",
    "for i in range(1, 21):\n",
    "    ergebnis = n * i\n",
    "    print(f\"{i:2} × {n} = {ergebnis:3}\")"
   ]
  },
  {
   "cell_type": "code",
   "execution_count": 14,
   "id": "dcf04a33-6c2c-4401-9d4e-573d96f188f3",
   "metadata": {},
   "outputs": [
    {
     "name": "stdout",
     "output_type": "stream",
     "text": [
      "2157\n",
      "2876\n"
     ]
    }
   ],
   "source": [
    "''' A9\n",
    "Gehe mit einer for-Schleife durch die Zahlen zwischen 2000 und 3000\n",
    "Gib nur die aus, die durch 719 teilbar sind. Nutze dazu continue.\n",
    "\n",
    "Erwartete Ausgabe:\n",
    "2157\n",
    "2876\n",
    "'''\n",
    "for i in range(2000, 3001):\n",
    "    if i % 719 != 0: \n",
    "        continue  # Überspringt die Ausgabe für 3 und 7\n",
    "    print(i)"
   ]
  },
  {
   "cell_type": "code",
   "execution_count": 21,
   "id": "219fce30-eaf1-46a8-8d68-b613daf1c76e",
   "metadata": {},
   "outputs": [
    {
     "name": "stdout",
     "output_type": "stream",
     "text": [
      "153 154\n"
     ]
    }
   ],
   "source": [
    "''' A10\n",
    "Finde die kleinste positive ganze Zahl, die durch 17 teilbar und deren Nachfolger durch 11 teilbar ist.\n",
    "Gib beide Zahlen aus.\n",
    "\n",
    "Erwartete Ausgabe\n",
    "153 154\n",
    "'''\n",
    "\n",
    "x = 1\n",
    "while x < 10000:\n",
    "    if x % 17 == 0 and (x+1) % 11 == 0:\n",
    "        print(x, x+1)\n",
    "        break\n",
    "    x+=1"
   ]
  },
  {
   "cell_type": "code",
   "execution_count": 23,
   "id": "e6d0c06a-cd3c-4e44-a684-b76174d313af",
   "metadata": {},
   "outputs": [
    {
     "name": "stdout",
     "output_type": "stream",
     "text": [
      "Gib nacheinander Zahlen ein (x für Ende)\n"
     ]
    },
    {
     "name": "stdin",
     "output_type": "stream",
     "text": [
      " 5\n",
      " 7\n",
      " 2\n",
      " x\n"
     ]
    },
    {
     "name": "stdout",
     "output_type": "stream",
     "text": [
      "Das Produkt aller eingegebenen Zahlen ist 70\n"
     ]
    }
   ],
   "source": [
    "''' A11\n",
    "Gib nacheinander Zahlen ein und berechne das Produkt aller Zahlen\n",
    "\n",
    "Beispieldialog:\n",
    "\n",
    "Gib nacheinander Zahlen ein (x für Ende)\n",
    " 5\n",
    " 7\n",
    " 2\n",
    " x\n",
    "Das Produkt aller eingegebenen Zahlen ist 70.\n",
    "'''\n",
    "print('Gib nacheinander Zahlen ein (x für Ende)')\n",
    "produkt = 1\n",
    "while True:\n",
    "    eingabe = input()\n",
    "    if eingabe == 'x':\n",
    "        break\n",
    "    produkt = produkt * int(eingabe)\n",
    "print(f'Das Produkt aller eingegebenen Zahlen ist {produkt}.')\n",
    "     "
   ]
  },
  {
   "cell_type": "code",
   "execution_count": null,
   "id": "2a6cf4dd-274d-4f73-b675-9aad7bb1ea61",
   "metadata": {},
   "outputs": [],
   "source": []
  }
 ],
 "metadata": {
  "kernelspec": {
   "display_name": "Python 3 (ipykernel)",
   "language": "python",
   "name": "python3"
  },
  "language_info": {
   "codemirror_mode": {
    "name": "ipython",
    "version": 3
   },
   "file_extension": ".py",
   "mimetype": "text/x-python",
   "name": "python",
   "nbconvert_exporter": "python",
   "pygments_lexer": "ipython3",
   "version": "3.12.8"
  }
 },
 "nbformat": 4,
 "nbformat_minor": 5
}
