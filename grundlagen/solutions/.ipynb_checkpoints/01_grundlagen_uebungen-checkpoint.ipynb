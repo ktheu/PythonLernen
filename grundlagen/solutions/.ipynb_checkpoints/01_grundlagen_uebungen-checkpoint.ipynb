{
 "cells": [
  {
   "cell_type": "markdown",
   "id": "ac08f100-6c69-4f73-96ab-950e2c73f21f",
   "metadata": {},
   "source": [
    "### Grundlagen - Übungen"
   ]
  },
  {
   "cell_type": "code",
   "execution_count": 2,
   "id": "1b1ba3ec-7a1b-419a-a340-cc7a537a915b",
   "metadata": {},
   "outputs": [
    {
     "name": "stdout",
     "output_type": "stream",
     "text": [
      "10\n",
      "25\n"
     ]
    }
   ],
   "source": [
    "''' A1\n",
    "Setze x auf 4.\n",
    "Setze y auf 7.\n",
    "Erhöhe x um 1.\n",
    "Erniedrige y um 2.\n",
    "Gib in der ersten Zeile die Summe von x und y aus.\n",
    "Gib in der nächsten Zeile das Produkt von x und y aus.\n",
    "\n",
    "Erwartete Ausgabe:\n",
    "10\n",
    "25\n",
    "'''\n",
    "x = 4\n",
    "y = 7\n",
    "x = x + 1\n",
    "y = y - 2\n",
    "print(x + y)\n",
    "print(x * y)\n"
   ]
  },
  {
   "cell_type": "code",
   "execution_count": 12,
   "id": "7060c09c-3277-4852-a965-7b4d73048da1",
   "metadata": {},
   "outputs": [
    {
     "name": "stdout",
     "output_type": "stream",
     "text": [
      "43\n"
     ]
    }
   ],
   "source": [
    "''' A2\n",
    "Setze a auf 10 und b auf 12.\n",
    "Erhöhe b um das Doppelte von a\n",
    "Erhöhe den Wert von a um 1 und gib dann die Summe von a und b aus.\n",
    "\n",
    "Erwartete Ausgabe:\n",
    "43\n",
    "'''\n",
    "a = 10\n",
    "b = 12\n",
    "b = b + 2*a\n",
    "a = a + 1\n",
    "print(a+b)"
   ]
  },
  {
   "cell_type": "code",
   "execution_count": 1,
   "id": "d7bbdfd5-a62b-44ec-b289-1ed55c0197ad",
   "metadata": {},
   "outputs": [
    {
     "name": "stdout",
     "output_type": "stream",
     "text": [
      "1 3 -2\n"
     ]
    }
   ],
   "source": [
    "''' A3\n",
    "Setze a auf 1, b auf a plus 2, c auf 1 minus b.\n",
    "Gib a, b und c in einer Zeile aus.\n",
    "\n",
    "Erwartete Ausgabe: 1 3 -2\n",
    "'''\n",
    "a = 1\n",
    "b = a + 2\n",
    "c = 1 - b\n",
    "print(a,b,c)"
   ]
  },
  {
   "cell_type": "code",
   "execution_count": 2,
   "id": "10a3f4e1-cf14-49c6-a100-32e30c5f9d3b",
   "metadata": {},
   "outputs": [
    {
     "name": "stdout",
     "output_type": "stream",
     "text": [
      "3.0\n",
      "3\n"
     ]
    }
   ],
   "source": [
    "''' A4\n",
    "Setze a auf 15.\n",
    "Setze b auf 5.\n",
    "c ist a dividiert durch b.\n",
    "d ist a ganzzahlig dividiert durch b.\n",
    "Gib c aus.\n",
    "Gib d aus.\n",
    "\n",
    "Erwartete Ausgabe:\n",
    "3.0\n",
    "3\n",
    "'''\n",
    "a = 15\n",
    "b = 5\n",
    "c = a / b\n",
    "d = a // b\n",
    "print(c)\n",
    "print(d)"
   ]
  },
  {
   "cell_type": "markdown",
   "id": "952b45a2-a959-4923-85a9-a57e636b23b4",
   "metadata": {},
   "source": [
    "\n",
    "- $5 + 3 \\cdot x$\n",
    "- $\\frac{10 - 2 \\cdot x}{3}$\n",
    "- $4 \\cdot x^2 - 7$\n",
    "\n",
    "\n",
    "\n"
   ]
  },
  {
   "cell_type": "code",
   "execution_count": 5,
   "id": "45d4c0e7-27ec-4adf-8cdd-cd2c6b9d73f8",
   "metadata": {},
   "outputs": [
    {
     "name": "stdout",
     "output_type": "stream",
     "text": [
      "11 2.0 9\n",
      "-4 5.333333333333333 29\n"
     ]
    }
   ],
   "source": [
    "''' A5\n",
    "Weise die oben stehenden Ausdrücke den Variablen a, b, c zu.\n",
    "Gib in der ersten Zeile die Werte von a,b,c aus, wenn x = 2\n",
    "Gib in der nächsten Zeile die Werte von a,b,c aus, wenn x = -3\n",
    "\n",
    "Erwartete Ausgabe:\n",
    "11 2.0 9\n",
    "-4 5.333333333333333 29\n",
    "\n",
    "'''\n",
    "x = 2\n",
    "a = (5 + 3*x)\n",
    "b = (10 - 2*x)/3\n",
    "c = (4*x**2 - 7)\n",
    "print(a,b,c)\n",
    "\n",
    "\n",
    "x = -3\n",
    "a = (5 + 3*x)\n",
    "b = (10 - 2*x)/3\n",
    "c = (4*x**2 - 7)\n",
    "print(a,b,c)\n",
    " "
   ]
  },
  {
   "cell_type": "code",
   "execution_count": 9,
   "id": "19ca4632-86db-4350-8217-30124492cedb",
   "metadata": {},
   "outputs": [
    {
     "name": "stdout",
     "output_type": "stream",
     "text": [
      "7 12\n"
     ]
    }
   ],
   "source": [
    "''' A6\n",
    "Nutze in den Stern-Zeilen (*) die Kurzform für die Zuweisungen\n",
    "Setze a auf 5.\n",
    "Setze b auf 2.\n",
    "Verdopple a.        (*)\n",
    "Erhöhe b um 10.     (*)\n",
    "Erhöhe a um b.      (*)\n",
    "Teile a ganzzahlig durch 3.     (*)\n",
    "Gib a und b aus.\n",
    "\n",
    "Erwartete Ausgabe:\n",
    "7 12\n",
    "'''\n",
    "a = 5\n",
    "b = 2\n",
    "a *= 2\n",
    "b += 10\n",
    "a += b\n",
    "a //= 3\n",
    "print(a,b)"
   ]
  },
  {
   "cell_type": "code",
   "execution_count": 16,
   "id": "cd0ff40a-ee35-478e-a6c5-a6a02046a6aa",
   "metadata": {},
   "outputs": [
    {
     "name": "stdout",
     "output_type": "stream",
     "text": [
      "63.615375\n"
     ]
    }
   ],
   "source": [
    "''' A7\n",
    "Setze radius auf 4.5. \n",
    "Setze pi auf 3.1415.\n",
    "Berechne die Fläche des Kreises\n",
    "\n",
    "Erwartete Ausgabe:\n",
    "63.615375\n",
    "'''\n",
    "radius = 4.5\n",
    "pi = 3.1415\n",
    "flaeche = pi * radius ** 2  \n",
    "print(flaeche)"
   ]
  },
  {
   "cell_type": "code",
   "execution_count": 6,
   "id": "4fd8d0d1-817d-4a01-8ecb-0cec48b4ae0c",
   "metadata": {},
   "outputs": [],
   "source": [
    "''' A8\n",
    "Kommentiere alle Zuweisungen aus, die Variablennamen verwenden, die nicht unserer\n",
    "Vereinbarung entsprechen.\n",
    "'''\n",
    "Durchmesser = 7\n",
    "entfernungzumhaus = 9\n",
    "nähe = 6\n",
    "abstandPfosten = 10\n",
    "punkte_vor_beginn = 5\n",
    "punkteAmEnde = 12\n",
    "hoehe_faß = 9"
   ]
  }
 ],
 "metadata": {
  "kernelspec": {
   "display_name": "Python 3 (ipykernel)",
   "language": "python",
   "name": "python3"
  },
  "language_info": {
   "codemirror_mode": {
    "name": "ipython",
    "version": 3
   },
   "file_extension": ".py",
   "mimetype": "text/x-python",
   "name": "python",
   "nbconvert_exporter": "python",
   "pygments_lexer": "ipython3",
   "version": "3.12.8"
  }
 },
 "nbformat": 4,
 "nbformat_minor": 5
}
