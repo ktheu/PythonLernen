{
 "cells": [
  {
   "cell_type": "markdown",
   "id": "7a3ab31d-c65d-438c-9858-5c18bcb40423",
   "metadata": {},
   "source": [
    "### Listen - Übungen"
   ]
  },
  {
   "cell_type": "code",
   "execution_count": 1,
   "id": "2d2c552a-2b04-409f-a7b6-709556521330",
   "metadata": {},
   "outputs": [
    {
     "name": "stdout",
     "output_type": "stream",
     "text": [
      "[7, 8, 9, 10, 11]\n",
      "5\n"
     ]
    }
   ],
   "source": [
    "''' A1\n",
    "Erstelle eine Liste a mit den Zahlen von 7 bis 11 einschließlich und gib\n",
    "die Liste und deren Länge aus.\n",
    "\n",
    "Erwartete Ausgabe:\n",
    "[7, 8, 9, 10, 11]\n",
    "5\n",
    "'''\n",
    "# your code\n",
    "a = [7,8,9,10,11]\n",
    "print(a)\n",
    "print(len(a))"
   ]
  },
  {
   "cell_type": "code",
   "execution_count": 6,
   "id": "7a3b3733-62be-4981-8c6f-b92edcea0200",
   "metadata": {},
   "outputs": [
    {
     "name": "stdin",
     "output_type": "stream",
     "text": [
      "Bitte eine nicht negative ganze Zahl eingeben: 0\n"
     ]
    },
    {
     "name": "stdout",
     "output_type": "stream",
     "text": [
      "[]\n"
     ]
    }
   ],
   "source": [
    "''' A2\n",
    "Lies eine ganze Zahl k ein  (k >= 0)  ein und gib eine Liste aus,\n",
    "die genau k Nullen enthält.\n",
    "\n",
    "Beispieldialoge:\n",
    "\n",
    "Bitte eine nicht negative ganze Zahl eingeben: 5\n",
    "[0, 0, 0, 0, 0]\n",
    "\n",
    "Bitte eine nicht negative ganze Zahl eingeben: 0\n",
    "[]\n",
    "'''\n",
    "# your code\n",
    "k = int(input('Bitte eine nicht negative ganze Zahl eingeben:'))\n",
    "print([0]*k)        \n"
   ]
  },
  {
   "cell_type": "code",
   "execution_count": 7,
   "id": "58b78278-f0b7-45cc-8988-12c71c70c48c",
   "metadata": {},
   "outputs": [
    {
     "name": "stdout",
     "output_type": "stream",
     "text": [
      "5\n",
      "26\n",
      "2\n",
      "14\n"
     ]
    }
   ],
   "source": [
    "''' A3\n",
    "Gib mit einem positiven Index nacheinander aus:\n",
    "Die erste Zahl von a\n",
    "Die letzte Zahl von a\n",
    "Die 3. Zahl von a.\n",
    "Die vorvorletzte Zahl von a\n",
    "\n",
    "Erwartete Ausgabe:\n",
    "5\n",
    "26\n",
    "2\n",
    "14\n",
    "'''\n",
    "# your code\n",
    "a = [5, 9, 2, 14, 5, 26]\n",
    "print(a[0])\n",
    "print(a[5])\n",
    "print(a[2])\n",
    "print(a[3])"
   ]
  },
  {
   "cell_type": "code",
   "execution_count": 8,
   "id": "ff83ec4b-f6e4-4994-bd2c-df6c1dc724fd",
   "metadata": {},
   "outputs": [
    {
     "name": "stdout",
     "output_type": "stream",
     "text": [
      "5\n",
      "26\n",
      "2\n",
      "14\n"
     ]
    }
   ],
   "source": [
    "''' A4\n",
    "Gib mit einem negativen Index nacheinander aus:\n",
    "Die erste Zahl von a\n",
    "Die letzte Zahl von a\n",
    "Die 3.Zahl von a.\n",
    "Die vorvorletzte Zahl von a\n",
    "\n",
    "Erwartete Ausgabe:\n",
    "5\n",
    "26\n",
    "2\n",
    "14\n",
    "'''\n",
    "# your code\n",
    "a = [5, 9, 2, 14, 5, 26]\n",
    "print(a[-6])\n",
    "print(a[-1])\n",
    "print(a[-4])\n",
    "print(a[-3])"
   ]
  },
  {
   "cell_type": "code",
   "execution_count": 9,
   "id": "53ce4e4a-67ec-4a5a-bbca-0ecdc176a322",
   "metadata": {},
   "outputs": [
    {
     "name": "stdout",
     "output_type": "stream",
     "text": [
      "[5, 9, 33, 14, 5, 26]\n"
     ]
    }
   ],
   "source": [
    "''' A5\n",
    "Ändere die dritte Zahl in der gegebenen Liste zu einer 33 und gib die Liste aus.\n",
    "\n",
    "Erwartete Ausgabe:\n",
    "[5, 9, 33, 14, 5, 26]\n",
    "'''\n",
    "a = [5, 9, 2, 14, 5, 26]\n",
    "# your code\n",
    "a[2] = 33\n",
    "print(a)"
   ]
  },
  {
   "cell_type": "code",
   "execution_count": 15,
   "id": "5715414a-3b1a-4adc-a6dc-47e9963a48b1",
   "metadata": {},
   "outputs": [
    {
     "name": "stdout",
     "output_type": "stream",
     "text": [
      "[11, 12, 13, 14]\n",
      "[16, 17]\n",
      "[12, 13, 14, 15, 16, 17]\n",
      "[11, 12, 13, 14, 15, 16]\n",
      "[12, 13, 14, 15, 16]\n"
     ]
    }
   ],
   "source": [
    "''' A6\n",
    "Gib mit slicing nacheinander folgende Teile der Liste a aus.\n",
    "\n",
    "Die ersten 4 Zahlen von a.\n",
    "Die letzten 2 Zahlen von a\n",
    "Alles außer der ersten Zahl\n",
    "Alles außer der letzten Zahl\n",
    "Alles außer der ersten und letzten Zahl\n",
    "\n",
    "Erwartete Ausgabe:\n",
    "[3, 2, 0, 1]\n",
    "[3, 1]\n",
    "[2, 0, 1, 6, 7, 3, 1]\n",
    "[3, 2, 0, 1, 6, 7, 3]\n",
    "[2, 0, 1, 6, 7, 3]\n",
    "'''\n",
    "a = [3,2,0,1,6,7,3,1]\n",
    "print(a[:4])\n",
    "print(a[-2:])\n",
    "print(a[1:])\n",
    "print(a[:-1])\n",
    "print(a[1:-1])"
   ]
  },
  {
   "cell_type": "code",
   "execution_count": 19,
   "id": "f3d4f510-6ec4-4ece-a138-b31b1e1cb797",
   "metadata": {},
   "outputs": [
    {
     "name": "stdout",
     "output_type": "stream",
     "text": [
      "[10, 11, 12, 13, 14, 15, 16, 17, 18, 19, 20]\n"
     ]
    }
   ],
   "source": [
    "''' A7\n",
    "Übersetze den Ablauf in ein Python Programm\n",
    "\n",
    "Setze a auf eine leere Liste\n",
    "Füge in einer Schleife nacheinander die Zahlen 10 bis 20 in die Liste ein.\n",
    "Gib die Liste aus.\n",
    "\n",
    "Erwartete Ausgabe:\n",
    "[10, 11, 12, 13, 14, 15, 16, 17, 18, 19, 20]\n",
    "'''\n",
    "a = []\n",
    "for i in range(10,21):\n",
    "    a.append(i)\n",
    "print(a)  "
   ]
  },
  {
   "cell_type": "code",
   "execution_count": 22,
   "id": "d25ba118-6414-4181-8337-52e62fe8f7e6",
   "metadata": {},
   "outputs": [
    {
     "name": "stdout",
     "output_type": "stream",
     "text": [
      "[]\n",
      "[24, 6, 12]\n"
     ]
    }
   ],
   "source": [
    "''' A8\n",
    "Übersetze den Ablauf in ein Python Programm:\n",
    "\n",
    "Entferne von hinten beginnend aus der Liste a nacheinander alle Elemente.\n",
    "Füge dabei die Elemente, die durch 3 teilbar sind, in die Liste b ein.\n",
    "Gib a aus.\n",
    "Gib b aus.\n",
    "\n",
    "Erwartete Ausgabe:\n",
    "[]\n",
    "[24, 6, 12]\n",
    "'''\n",
    "a = [12, 5, 6, 10, 13, 17, 20, 24]\n",
    "b = []\n",
    "while a:\n",
    "    x = a.pop()\n",
    "    if x % 3 == 0:\n",
    "        b.append(x)\n",
    "print(a)\n",
    "print(b)"
   ]
  },
  {
   "cell_type": "code",
   "execution_count": 27,
   "id": "26562b89-77fb-4a2e-b80f-b468f7706385",
   "metadata": {},
   "outputs": [
    {
     "name": "stdin",
     "output_type": "stream",
     "text": [
      "Bitte eine ganze Zahl eingeben: 9\n"
     ]
    },
    {
     "name": "stdout",
     "output_type": "stream",
     "text": [
      "9 ist in keiner der beiden Listen.\n"
     ]
    }
   ],
   "source": [
    "''' A9\n",
    "Lies eine ganze Zahl ein und gib aus, ob die Zahl in Liste a oder Liste b \n",
    "oder in beiden Listen oder in keiner Liste vorkommt.\n",
    "\n",
    "Beispieldialoge\n",
    "\n",
    "Bitte eine ganze Zahl eingeben: 22\n",
    "22 ist in beiden Listen.\n",
    "\n",
    "Bitte eine ganze Zahl eingeben: 4\n",
    "4 ist nur in Liste a.\n",
    "\n",
    "Bitte eine ganze Zahl eingeben: 9\n",
    "9 ist in keiner der beiden Listen.\n",
    "'''\n",
    "a = [4, 12, 22, 1, -4]\n",
    "b = [22, 5, 6, 1]\n",
    "k = int(input('Bitte eine ganze Zahl eingeben:'))\n",
    "if (k in a) and (k in b):\n",
    "    print(f'{k} ist in beiden Listen.')\n",
    "elif (k in a):\n",
    "    print(f'{k} ist nur in Liste a.')\n",
    "elif (k in b):\n",
    "    print(f'{k} ist nur in Liste b.')\n",
    "else:\n",
    "    print(f'{k} ist in keiner der beiden Listen.') "
   ]
  },
  {
   "cell_type": "code",
   "execution_count": 29,
   "id": "91411d48-b25c-4bd7-ad07-7290fa16fec3",
   "metadata": {},
   "outputs": [
    {
     "name": "stdout",
     "output_type": "stream",
     "text": [
      "[17, 12, 11, 9, 7, 5, 2, 2]\n",
      "[2, 2, 5, 7, 9, 11, 12, 17]\n"
     ]
    }
   ],
   "source": [
    "''' A10\n",
    "Gib die Liste a zuerst abwärts sortiert aus, \n",
    "dann aufwärts sortiert.\n",
    "\n",
    "Erwartete Ausgabe:\n",
    "[17, 12, 11, 9, 7, 5, 2, 2]\n",
    "[2, 2, 5, 7, 9, 11, 12, 17]\n",
    "'''\n",
    "a = [7, 2, 9, 12, 11, 5, 2, 17]\n",
    "# your code\n",
    "print(sorted(a, reverse=True))\n",
    "print(sorted(a))"
   ]
  },
  {
   "cell_type": "code",
   "execution_count": 30,
   "id": "f38c03d1-80a6-4e8e-be87-fb9f4df125ba",
   "metadata": {},
   "outputs": [
    {
     "name": "stdout",
     "output_type": "stream",
     "text": [
      "8.125\n"
     ]
    }
   ],
   "source": [
    "''' A11\n",
    "Gib den Durchschnittswert der Liste a aus.\n",
    "Nutze dazu die Funktionen sum und len.\n",
    "\n",
    "Erwartete Ausgabe:\n",
    "8.125\n",
    "'''\n",
    "a = [7, 2, 9, 12, 11, 5, 2, 17]\n",
    "# your code\n",
    "print(sum(a)/len(a)) "
   ]
  },
  {
   "cell_type": "code",
   "execution_count": 43,
   "id": "baaf1a2b-0c0a-4534-82b7-a5aa55875e6a",
   "metadata": {},
   "outputs": [
    {
     "name": "stdin",
     "output_type": "stream",
     "text": [
      "Bitte eine Zahl eingeben: 5\n"
     ]
    },
    {
     "name": "stdout",
     "output_type": "stream",
     "text": [
      "Kein Sprung 5 in der Liste gefunden.\n"
     ]
    }
   ],
   "source": [
    "''' A12\n",
    "Lies eine ganze Zahl k ein. Suche in der Liste den ersten Index i bei\n",
    "dem die Liste einen Sprung k macht, d.h. das Element bei Index i+1\n",
    "unterscheidet sich von dem bei Index i um den Betrag k.\n",
    "\n",
    "Beispieldialoge:\n",
    "\n",
    "Bitte eine Zahl eingeben: 7\n",
    "Bei Index 1 macht die Liste den Sprung 7\n",
    "\n",
    "Bitte eine Zahl eingeben: 4\n",
    "Bei Index 7 macht die Liste den Sprung 4\n",
    "\n",
    "Bitte eine Zahl eingeben: 5\n",
    "Kein Sprung 5 in der Liste gefunden.\n",
    "'''\n",
    "a = [3, 2, 9, 12, 11, 5, 2, 17, 13, 5, 1, 22, 8]\n",
    "# your code\n",
    "k = int(input('Bitte eine Zahl eingeben:'))\n",
    "gefunden = False\n",
    "for i in range(len(a)-1):\n",
    "    if a[i+1]-a[i] == k or a[i+1]-a[i] == -k:\n",
    "        print(f'Bei Index {i} macht die Liste den Sprung {k}')\n",
    "        gefunden = True\n",
    "        break\n",
    "if not gefunden:\n",
    "    print(f'Kein Sprung {k} in der Liste gefunden.')"
   ]
  },
  {
   "cell_type": "code",
   "execution_count": 47,
   "id": "3f1fc1de-4dd6-45d4-998b-32d7af7e2d2f",
   "metadata": {},
   "outputs": [
    {
     "name": "stdout",
     "output_type": "stream",
     "text": [
      "[2, 8, 18, 32, 50, 72, 98, 128, 162, 200]\n"
     ]
    }
   ],
   "source": [
    "''' A13\n",
    "Erstelle mit einer List-Comprehension eine Liste a, die das\n",
    "Doppelte der Quadratzahlen zwischen 1 und 100 enthält.\n",
    "Gib a aus.\n",
    "\n",
    "Erwartete Ausgabe:\n",
    "[2, 8, 18, 32, 50, 72, 98, 128, 162, 200]\n",
    "'''\n",
    "a = [2*x*x for x in range(1,11)]\n",
    "print(a)"
   ]
  },
  {
   "cell_type": "code",
   "execution_count": 50,
   "id": "d0205331-7358-4da8-b26d-e868c6d4205d",
   "metadata": {},
   "outputs": [
    {
     "name": "stdin",
     "output_type": "stream",
     "text": [
      "Bitte ein paar Zahlen eingeben: 4 12 99 100 -34 20 21\n"
     ]
    },
    {
     "name": "stdout",
     "output_type": "stream",
     "text": [
      "Die Summe aller Zahlen ist 222.\n"
     ]
    }
   ],
   "source": [
    "''' A14\n",
    "Lies eine Zeile mit Zahlen ein und gib die Summe der Zahlen aus.\n",
    "\n",
    "Beispieldialog:\n",
    "\n",
    "Bitte ein paar Zahlen eingeben: 4 7 22 -10\n",
    "Die Summe der Zahlen ist 23.\n",
    "'''\n",
    "eingabe = input('Bitte ein paar Zahlen eingeben:')\n",
    "a = [int(x) for x in eingabe.split()]\n",
    "print(f'Die Summe der Zahlen ist {sum(a)}.')"
   ]
  },
  {
   "cell_type": "code",
   "execution_count": null,
   "id": "9c1d7721-5efd-460b-be89-64a20cd531e8",
   "metadata": {},
   "outputs": [],
   "source": []
  }
 ],
 "metadata": {
  "kernelspec": {
   "display_name": "Python 3 (ipykernel)",
   "language": "python",
   "name": "python3"
  },
  "language_info": {
   "codemirror_mode": {
    "name": "ipython",
    "version": 3
   },
   "file_extension": ".py",
   "mimetype": "text/x-python",
   "name": "python",
   "nbconvert_exporter": "python",
   "pygments_lexer": "ipython3",
   "version": "3.12.8"
  }
 },
 "nbformat": 4,
 "nbformat_minor": 5
}
