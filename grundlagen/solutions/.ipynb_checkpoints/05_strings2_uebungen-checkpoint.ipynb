{
 "cells": [
  {
   "cell_type": "markdown",
   "id": "b36126c8-f7db-4ce3-84d3-50846839cc45",
   "metadata": {},
   "source": [
    "### Strings2 - Uebungen"
   ]
  },
  {
   "cell_type": "code",
   "execution_count": 1,
   "id": "4dd18144-b2a4-4865-9d76-a6ce2c3a57ad",
   "metadata": {},
   "outputs": [
    {
     "name": "stdout",
     "output_type": "stream",
     "text": [
      "RomRomRomRomParisParisParisRomRomRom\n"
     ]
    }
   ],
   "source": [
    "''' A1\n",
    "Setze s1 auf 'Rom'\n",
    "Setze s2 auf 'Paris'\n",
    "Erzeuge dann mit Vervielfachen und Aneinanderpappen einen String s der beim print\n",
    "die erwartete Ausgabe ergibt.\n",
    "\n",
    "Erwartete Ausgabe:\n",
    "RomRomRomRomRomParisParisParisRomRomRom \n",
    "'''\n",
    "s1 = 'Rom'\n",
    "s2 = 'Paris'\n",
    "s = s1*4+s2*3+s1*3\n",
    "print(s)"
   ]
  },
  {
   "cell_type": "code",
   "execution_count": 13,
   "id": "0a456b12-1c8c-4324-8b42-7269abd9c760",
   "metadata": {},
   "outputs": [
    {
     "name": "stdin",
     "output_type": "stream",
     "text": [
      "Bitte einen String eingeben: Elba\n"
     ]
    },
    {
     "name": "stdout",
     "output_type": "stream",
     "text": [
      "Das letzte Zeichen ist a.\n"
     ]
    }
   ],
   "source": [
    "''' A2\n",
    "Beispieldialog:\n",
    "\n",
    "Bitte einen String eingeben: Elba\n",
    "Das letzte Zeichen ist a.\n",
    "\n",
    "'''\n",
    "s = input('Bitte einen String eingeben:')\n",
    "print(f'Das letzte Zeichen ist {s[-1]}.')\n",
    " "
   ]
  },
  {
   "cell_type": "code",
   "execution_count": 15,
   "id": "ab87ea0c-4a76-4c3a-bcc5-e6b7585b6684",
   "metadata": {},
   "outputs": [
    {
     "name": "stdin",
     "output_type": "stream",
     "text": [
      "Bitte einen String eingeben: Habicht\n"
     ]
    },
    {
     "name": "stdout",
     "output_type": "stream",
     "text": [
      "Der String aus erstem und letztem Zeichen ist Ht.\n"
     ]
    }
   ],
   "source": [
    "''' A2\n",
    "Beispieldialog:\n",
    "\n",
    "Bitte einen String eingeben: Elba\n",
    "Der String aus erstem und letztem Zeichen ist Ea.\n",
    "\n",
    "Bitte einen String eingeben: Habicht\n",
    "Der String aus erstem und letztem Zeichen ist Ht.\n",
    "'''\n",
    "s = input('Bitte einen String eingeben:')\n",
    "print(f'Der String aus erstem und letztem Zeichen ist {s[0]+s[-1]}.')"
   ]
  },
  {
   "cell_type": "code",
   "execution_count": 22,
   "id": "278c87e1-261c-4871-bb2d-52dfaa2d4018",
   "metadata": {},
   "outputs": [
    {
     "name": "stdin",
     "output_type": "stream",
     "text": [
      "Bitte einen String eingeben: Max\n",
      "Bitte eine Zahl <= 3 eingeben: 0\n"
     ]
    },
    {
     "name": "stdout",
     "output_type": "stream",
     "text": [
      "Die ersten 0 Zeichen sind: \n",
      "Die letzten 0 Zeichen sind: Max\n"
     ]
    }
   ],
   "source": [
    "''' A3\n",
    "Der Anwender gibt erst einen String s ein, dann eine Zahl die kleiner als\n",
    "die Länge des Strings ist und erhält dann die in den Beispieldialogen gegebenen Antworten.\n",
    "\n",
    "Beispieldialoge:\n",
    "\n",
    "Bitte einen String eingeben: Apfelbaum\n",
    "Bitte eine positive ganze Zahl <= 9 eingeben: 7\n",
    "Die ersten 7 Zeichen sind: Apfelba\n",
    "Die letzten 7 Zeichen sind: felbaum\n",
    "\n",
    "Bitte einen String eingeben: Sindelfingen\n",
    "Bitte eine positive ganze Zahl <= 12 eingeben: 4\n",
    "Die ersten 4 Zeichen sind: Sind\n",
    "Die letzten 4 Zeichen sind: ngen\n",
    "\n",
    "'''\n",
    "s = input('Bitte einen String eingeben:')\n",
    "k = int(input(f'Bitte eine positive ganze Zahl <= {len(s)} eingeben:'))\n",
    "print(f'Die ersten {k} Zeichen sind: {s[:k]}')\n",
    "print(f'Die letzten {k} Zeichen sind: {s[-k:]}')"
   ]
  },
  {
   "cell_type": "code",
   "execution_count": 23,
   "id": "f2b48287-5063-4214-83ee-53a7454bd4a1",
   "metadata": {},
   "outputs": [
    {
     "name": "stdin",
     "output_type": "stream",
     "text": [
      "Bitte einen String eingeben: Habicht\n"
     ]
    },
    {
     "name": "stdout",
     "output_type": "stream",
     "text": [
      "Habicht\n",
      "abicht\n",
      "bicht\n",
      "icht\n",
      "cht\n",
      "ht\n",
      "t\n"
     ]
    }
   ],
   "source": [
    "''' A4\n",
    "Der Anwender gibt erst einen String s ein. \n",
    "In einer Schleife wird der String immer um ein\n",
    "Zeichen verkürzt ausgegeben.\n",
    "\n",
    "Beispieldialog:\n",
    "\n",
    "Bitte einen String eingeben: Habicht\n",
    "Habicht\n",
    "abicht\n",
    "bicht\n",
    "icht\n",
    "cht\n",
    "ht\n",
    "t\n",
    "'''\n",
    "s = input('Bitte einen String eingeben:')\n",
    "for i in range(len(s)):\n",
    "    print(s[i:])"
   ]
  },
  {
   "cell_type": "code",
   "execution_count": 24,
   "id": "54e0ff32-2dcc-4f70-bbda-e24fa24f2139",
   "metadata": {},
   "outputs": [
    {
     "name": "stdin",
     "output_type": "stream",
     "text": [
      "Bitte einen String eingeben: Habicht\n"
     ]
    },
    {
     "name": "stdout",
     "output_type": "stream",
     "text": [
      "HABICHT\n",
      "habicht\n",
      "HABICHT\n",
      "habicht\n"
     ]
    }
   ],
   "source": [
    "''' A5\n",
    "Der Anwender gibt einen String ein. Der wird zweimal\n",
    "abwechselnd in Großbuchstaben und Kleinbuchstaben ausgegeben.\n",
    "\n",
    "Beispieldialog:\n",
    "\n",
    "Bitte einen String eingeben: Habicht\n",
    "HABICHT\n",
    "habicht\n",
    "HABICHT\n",
    "habicht\n",
    "'''\n",
    "s = input('Bitte einen String eingeben:')\n",
    "for i in range(2):\n",
    "    print(s.upper())\n",
    "    print(s.lower())"
   ]
  },
  {
   "cell_type": "code",
   "execution_count": 27,
   "id": "f716ee99-f2b5-453b-b478-db777b34d021",
   "metadata": {},
   "outputs": [
    {
     "name": "stdin",
     "output_type": "stream",
     "text": [
      "Bitte einen String eingeben: Bauarbeiter\n"
     ]
    },
    {
     "name": "stdout",
     "output_type": "stream",
     "text": [
      "e und a kommen insgesamt 4 mal vor.\n"
     ]
    }
   ],
   "source": [
    "''' A5\n",
    "Der Anwender gibt einen String ein. \n",
    "Die Anzahl der vorkommenden 'e' und 'a' wird gezählt\n",
    "\n",
    "Beispieldialog:\n",
    "\n",
    "Bitte einen String eingeben: Habicht\n",
    "e und a kommen insgesamt 1 mal vor.\n",
    "\n",
    "Bitte einen String eingeben: Bauarbeiter\n",
    "e und a kommen insgesamt 4 mal vor.\n",
    "'''\n",
    "s = input('Bitte einen String eingeben:')\n",
    "anzahl = s.count('e') + s.count('a')\n",
    "print(f\"e und a kommen insgesamt {anzahl} mal vor.\")"
   ]
  },
  {
   "cell_type": "code",
   "execution_count": 30,
   "id": "ed3fd729-d356-4994-ae0e-e70847467731",
   "metadata": {},
   "outputs": [
    {
     "name": "stdin",
     "output_type": "stream",
     "text": [
      "Bitte einen String mit Umlauten (äöü) eingeben: äoiüö\n"
     ]
    },
    {
     "name": "stdout",
     "output_type": "stream",
     "text": [
      "aeoiueoe\n"
     ]
    }
   ],
   "source": [
    "''' A6\n",
    "Der Anwender gibt einen String mit Umlauten ein.\n",
    "Die Umlaute werden die passenden 2 Zeichen ersetzt.\n",
    "\n",
    "Beispieldialog:\n",
    "\n",
    "Bitte einen String mit Umlauten (äöü) eingeben: äoiüö\n",
    "aeoiueoe\n",
    "'''\n",
    "s = input('Bitte einen String mit Umlauten (äöü) eingeben:')\n",
    "s = s.replace('ä','ae').replace('ö','oe').replace('ü','ue')\n",
    "print(s)"
   ]
  },
  {
   "cell_type": "code",
   "execution_count": 31,
   "id": "3042451c-698f-4d0a-9cdf-93b0951e6fba",
   "metadata": {},
   "outputs": [
    {
     "name": "stdin",
     "output_type": "stream",
     "text": [
      "Bitte einen String eingeben: Habicht\n"
     ]
    },
    {
     "name": "stdout",
     "output_type": "stream",
     "text": [
      "Ha\n",
      "ab\n",
      "bi\n",
      "ic\n",
      "ch\n",
      "ht\n"
     ]
    }
   ],
   "source": [
    "''' A7\n",
    "Der Anwender gibt einen String ein.\n",
    "Es werden nacheinander alle Zeichen mit ihren Nachfolgern ausgegeben\n",
    "\n",
    "Beispieldialog:\n",
    "\n",
    "Bitte einen String eingeben: Habicht\n",
    "Ha\n",
    "ab\n",
    "bi\n",
    "ic\n",
    "ch\n",
    "ht\n",
    "'''\n",
    "s = input('Bitte einen String eingeben:')\n",
    "for i in range(len(s)-1):\n",
    "    print(s[i:i+2])\n",
    " "
   ]
  },
  {
   "cell_type": "code",
   "execution_count": 34,
   "id": "d4c02ad4-b4bc-4cf1-afaf-e859bea5cfb1",
   "metadata": {},
   "outputs": [
    {
     "name": "stdin",
     "output_type": "stream",
     "text": [
      "Bitte einen längeren String eingeben: Regentonne\n",
      "Bitte einen kürzeren String eingeben: oe\n"
     ]
    },
    {
     "name": "stdout",
     "output_type": "stream",
     "text": [
      "eeoe\n"
     ]
    }
   ],
   "source": [
    "''' A8\n",
    "Der Anwender gibt einen längeren und einen kürzeren String ein.\n",
    "Aus dem längeren String wird ein neuer String gebildet, der\n",
    "alle Zeichen weglässt, die nicht im kürzeren String sind.\n",
    "\n",
    "Beispieldialog:\n",
    "\n",
    "Bitte einen längeren String eingeben: Habicht\n",
    "Bitte einen kürzeren String eingeben: ati\n",
    "ait\n",
    "\n",
    "Bitte einen längeren String eingeben: Regentonne\n",
    "Bitte einen kürzeren String eingeben: oe\n",
    "eeoe\n",
    "'''\n",
    "s1 = input('Bitte einen längeren String eingeben:')\n",
    "s2 = input('Bitte einen kürzeren String eingeben:')\n",
    "s3 = ''\n",
    "for c in s1:\n",
    "    if c in s2:\n",
    "        s3+=c\n",
    "print(s3)\n"
   ]
  },
  {
   "cell_type": "code",
   "execution_count": 43,
   "id": "5cb8ace6-ffb1-4671-8e2f-0b66cf52eb59",
   "metadata": {},
   "outputs": [
    {
     "name": "stdin",
     "output_type": "stream",
     "text": [
      "Bitte String 1 eingeben: aBc\n",
      "Bitte String 2 eingeben: AbD\n",
      "Bitte String 3 eingeben: abB\n"
     ]
    },
    {
     "name": "stdout",
     "output_type": "stream",
     "text": [
      "aBc\n",
      "abB\n",
      "AbD\n"
     ]
    }
   ],
   "source": [
    "''' A\n",
    "Der Anwender gibt drei Strings ein. \n",
    "Die Strings sollen in der alphabetisch richtigen Reihenfolge\n",
    "ausgegeben werden (ohne Berücksichtigung von Groß/Kleinschreibung)\n",
    "Die richtige Reihenfolge soll m\n",
    "\n",
    "\n",
    "Beispieldialog:\n",
    "\n",
    "Bitte String 1 eingeben: aBc\n",
    "Bitte String 2 eingeben: AbD\n",
    "Bitte String 3 eingeben: abB\n",
    "aBc\n",
    "abB\n",
    "AbD\n",
    "'''\n",
    "s1 = input('Bitte String 1 eingeben:')\n",
    "s2 = input('Bitte String 2 eingeben:')\n",
    "s3 = input('Bitte String 3 eingeben:')\n",
    "s1l = s1.lower()\n",
    "s2l = s2.lower()\n",
    "s3l = s3.lower()\n",
    "\n",
    "# Step 1: Find the smallest\n",
    "if s1l <= s2l and s1l <= s2l:\n",
    "    first = s1\n",
    "    if s2l <= s3l:\n",
    "        second = s2\n",
    "        third = s3\n",
    "    else:\n",
    "        second = s3\n",
    "        third = s2\n",
    "elif s2l <= s1l and s2l <= s3l:\n",
    "    first = s2\n",
    "    if s1l <= s3l:\n",
    "        second = s1\n",
    "        third = s3\n",
    "    else:\n",
    "        second = s3\n",
    "        third = s1\n",
    "else:\n",
    "    first = s3\n",
    "    if s1l <= s2l:\n",
    "        second = s1\n",
    "        third = s2\n",
    "    else:\n",
    "        second = s2\n",
    "        third = s1\n",
    "\n",
    "print(first)\n",
    "print(second)\n",
    "print(third)  "
   ]
  },
  {
   "cell_type": "code",
   "execution_count": 1,
   "id": "9fb3527f-6998-49e4-a50e-bb985033b624",
   "metadata": {},
   "outputs": [
    {
     "name": "stdout",
     "output_type": "stream",
     "text": [
      "♔\n",
      "♕\n",
      "♖\n",
      "♗\n",
      "♘\n",
      "♙\n",
      "♚\n",
      "♛\n",
      "♜\n",
      "♝\n",
      "♞\n",
      "♟\n"
     ]
    }
   ],
   "source": [
    "''' A11\n",
    "Gib die Zeichen mit den ord-Zahlenn 9812 bis 9823 (einschließlich) aus.\n",
    "'''\n",
    "for i in range(9812, 9824):\n",
    "    print(chr(i))"
   ]
  },
  {
   "cell_type": "code",
   "execution_count": null,
   "id": "c6cb5345-00d3-41f0-8f11-d1e18e200f84",
   "metadata": {},
   "outputs": [],
   "source": []
  }
 ],
 "metadata": {
  "kernelspec": {
   "display_name": "Python 3 (ipykernel)",
   "language": "python",
   "name": "python3"
  },
  "language_info": {
   "codemirror_mode": {
    "name": "ipython",
    "version": 3
   },
   "file_extension": ".py",
   "mimetype": "text/x-python",
   "name": "python",
   "nbconvert_exporter": "python",
   "pygments_lexer": "ipython3",
   "version": "3.12.8"
  }
 },
 "nbformat": 4,
 "nbformat_minor": 5
}
