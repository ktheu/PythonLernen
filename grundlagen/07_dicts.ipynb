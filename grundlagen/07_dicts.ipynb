{
 "cells": [
  {
   "cell_type": "markdown",
   "metadata": {},
   "source": [
    "### Dictionaries\n",
    "\n",
    "[Video](https://youtu.be/VKc74mH47Hk)\n",
    "\n",
    "Bei Listen können wir über einen **index** auf einen **value** zugreifen. Der Index ist vom Datentyp int. <br>\n",
    "Bei Dictionaries können wir über einen **key** auf einen **value** zugreifen. Als Datentypen für keys können wir z.B. ints, strings oder tuples verwenden.\n"
   ]
  },
  {
   "cell_type": "code",
   "execution_count": 1,
   "metadata": {},
   "outputs": [
    {
     "name": "stdout",
     "output_type": "stream",
     "text": [
      "{'Thorben': 2, 'Soeren': 3, 'Maike': 2}\n",
      "3\n"
     ]
    }
   ],
   "source": [
    "m = {'Thorben':2, 'Soeren':3, 'Maike':2}\n",
    "print(m)\n",
    "print(len(m))"
   ]
  },
  {
   "cell_type": "markdown",
   "metadata": {},
   "source": [
    "Ein key kann in einem dictionary nur einmal vorkommen. Ein value kann mehrfach vorkommen."
   ]
  },
  {
   "cell_type": "code",
   "execution_count": 2,
   "metadata": {},
   "outputs": [
    {
     "name": "stdout",
     "output_type": "stream",
     "text": [
      "{}\n",
      "0\n"
     ]
    }
   ],
   "source": [
    "m = {}             # leeres dict\n",
    "print(m)\n",
    "print(len(m))"
   ]
  },
  {
   "cell_type": "code",
   "execution_count": 3,
   "metadata": {},
   "outputs": [
    {
     "data": {
      "text/plain": [
       "{}"
      ]
     },
     "execution_count": 3,
     "metadata": {},
     "output_type": "execute_result"
    }
   ],
   "source": [
    "m = dict()         # leeres dict\n",
    "m"
   ]
  },
  {
   "cell_type": "markdown",
   "metadata": {},
   "source": [
    "##### Mit key auf value zugreifen"
   ]
  },
  {
   "cell_type": "code",
   "execution_count": 4,
   "metadata": {},
   "outputs": [
    {
     "name": "stdout",
     "output_type": "stream",
     "text": [
      "2\n"
     ]
    }
   ],
   "source": [
    "m = {'Thorben':2, 'Soeren':3, 'Maike':2} \n",
    "x = m['Thorben']      # Zugriff mit key auf den value\n",
    "print(x)"
   ]
  },
  {
   "cell_type": "code",
   "execution_count": 5,
   "metadata": {},
   "outputs": [
    {
     "name": "stdout",
     "output_type": "stream",
     "text": [
      "3\n"
     ]
    }
   ],
   "source": [
    "print(m['Soeren'])      "
   ]
  },
  {
   "cell_type": "markdown",
   "metadata": {},
   "source": [
    "##### Update eines values"
   ]
  },
  {
   "cell_type": "code",
   "execution_count": 7,
   "metadata": {},
   "outputs": [
    {
     "name": "stdout",
     "output_type": "stream",
     "text": [
      "{'Thorben': 2, 'Soeren': 4, 'Maike': 2}\n"
     ]
    }
   ],
   "source": [
    "m = {'Thorben':2, 'Soeren':3, 'Maike':2} \n",
    "m['Soeren'] = 4\n",
    "print(m)"
   ]
  },
  {
   "cell_type": "markdown",
   "metadata": {},
   "source": [
    "##### Hinzufügen von key-value Paar"
   ]
  },
  {
   "cell_type": "code",
   "execution_count": 8,
   "metadata": {},
   "outputs": [
    {
     "ename": "KeyError",
     "evalue": "'Lena'",
     "output_type": "error",
     "traceback": [
      "\u001b[1;31m---------------------------------------------------------------------------\u001b[0m",
      "\u001b[1;31mKeyError\u001b[0m                                  Traceback (most recent call last)",
      "Cell \u001b[1;32mIn[8], line 2\u001b[0m\n\u001b[0;32m      1\u001b[0m m \u001b[38;5;241m=\u001b[39m {\u001b[38;5;124m'\u001b[39m\u001b[38;5;124mThorben\u001b[39m\u001b[38;5;124m'\u001b[39m:\u001b[38;5;241m2\u001b[39m, \u001b[38;5;124m'\u001b[39m\u001b[38;5;124mSoeren\u001b[39m\u001b[38;5;124m'\u001b[39m:\u001b[38;5;241m3\u001b[39m, \u001b[38;5;124m'\u001b[39m\u001b[38;5;124mMaike\u001b[39m\u001b[38;5;124m'\u001b[39m:\u001b[38;5;241m2\u001b[39m} \n\u001b[1;32m----> 2\u001b[0m \u001b[38;5;28mprint\u001b[39m(\u001b[43mm\u001b[49m\u001b[43m[\u001b[49m\u001b[38;5;124;43m'\u001b[39;49m\u001b[38;5;124;43mLena\u001b[39;49m\u001b[38;5;124;43m'\u001b[39;49m\u001b[43m]\u001b[49m)              \u001b[38;5;66;03m# Fehler, wenn key nicht im dict\u001b[39;00m\n",
      "\u001b[1;31mKeyError\u001b[0m: 'Lena'"
     ]
    }
   ],
   "source": [
    "m = {'Thorben':2, 'Soeren':3, 'Maike':2} \n",
    "print(m['Lena'])              # Fehler, wenn key nicht im dict"
   ]
  },
  {
   "cell_type": "code",
   "execution_count": 9,
   "metadata": {},
   "outputs": [
    {
     "name": "stdout",
     "output_type": "stream",
     "text": [
      "{'Thorben': 2, 'Soeren': 3, 'Maike': 2, 'Lena': 3}\n"
     ]
    }
   ],
   "source": [
    "m['Lena'] = 3                 # Hinzufügen eines key-value Paars\n",
    "print(m)"
   ]
  },
  {
   "cell_type": "markdown",
   "metadata": {},
   "source": [
    "##### Entfernen eines key-value Paars"
   ]
  },
  {
   "cell_type": "code",
   "execution_count": 11,
   "metadata": {},
   "outputs": [
    {
     "name": "stdout",
     "output_type": "stream",
     "text": [
      "3 {'Thorben': 2, 'Maike': 2}\n"
     ]
    }
   ],
   "source": [
    "m = {'Thorben':2, 'Soeren':3, 'Maike':2} \n",
    "x = m.pop('Soeren')               # Löschen des Eintrags im dict\n",
    "print(x,m)"
   ]
  },
  {
   "cell_type": "markdown",
   "metadata": {},
   "source": [
    "##### Ist key vorhanden?"
   ]
  },
  {
   "cell_type": "code",
   "execution_count": 13,
   "metadata": {},
   "outputs": [
    {
     "name": "stdout",
     "output_type": "stream",
     "text": [
      "True\n",
      "False\n"
     ]
    }
   ],
   "source": [
    "m = {'Thorben':2, 'Soeren':3, 'Maike':2}\n",
    "print('Thorben' in m)                       # ist key vorhanden? \n",
    "print('Lena' in m)"
   ]
  },
  {
   "cell_type": "markdown",
   "metadata": {},
   "source": [
    "##### Liste von keys und values erzeugen"
   ]
  },
  {
   "cell_type": "code",
   "execution_count": 14,
   "metadata": {},
   "outputs": [
    {
     "data": {
      "text/plain": [
       "['Thorben', 'Soeren', 'Maike']"
      ]
     },
     "execution_count": 14,
     "metadata": {},
     "output_type": "execute_result"
    }
   ],
   "source": [
    "m = {'Thorben':2, 'Soeren':3, 'Maike':2}\n",
    "list(m.keys())"
   ]
  },
  {
   "cell_type": "code",
   "execution_count": 16,
   "metadata": {},
   "outputs": [
    {
     "data": {
      "text/plain": [
       "[2, 3, 2]"
      ]
     },
     "execution_count": 16,
     "metadata": {},
     "output_type": "execute_result"
    }
   ],
   "source": [
    "list(m.values())"
   ]
  },
  {
   "cell_type": "markdown",
   "metadata": {},
   "source": [
    "##### Mit einer Schleife ein dict durchlaufen"
   ]
  },
  {
   "cell_type": "code",
   "execution_count": 18,
   "metadata": {},
   "outputs": [
    {
     "name": "stdout",
     "output_type": "stream",
     "text": [
      "Thorben 2\n",
      "Soeren 3\n",
      "Maike 2\n"
     ]
    }
   ],
   "source": [
    "m = {'Thorben':2, 'Soeren':3, 'Maike':2}\n",
    "for k in m:                      # alle keys durchlaufen     \n",
    "    print(k, m[k]) "
   ]
  },
  {
   "cell_type": "markdown",
   "metadata": {},
   "source": [
    "Beispiel: Die Buchstabenhäufigkeit in einem String zählen."
   ]
  },
  {
   "cell_type": "code",
   "execution_count": 19,
   "metadata": {},
   "outputs": [
    {
     "name": "stdout",
     "output_type": "stream",
     "text": [
      "{'d': 16, 'i': 12, 'e': 28, 's': 10, 'o': 3, 'n': 21, 'c': 6, 'h': 8, 'w': 3, 'a': 8, 'r': 16, 'm': 3, 'u': 7, 'f': 6, 'ä': 4, 'k': 3, 'l': 8, 't': 10, 'g': 3, 'b': 4, 'ü': 3, 'v': 1}\n"
     ]
    }
   ],
   "source": [
    "text = '''\n",
    "Die Sonne schien warm auf die Dächer der kleinen Stadt, während Kinder lachend durch die Gassen rannten.\n",
    "In den Gärten blühten die ersten Frühlingsblumen, und die Luft war erfüllt vom Duft frischen Brotes aus der Bäckerei.\n",
    "'''\n",
    "m = dict()\n",
    "for c in text.lower():\n",
    "    if c not in 'abcdefghijklmnopqrstuvwxyzäöüß': continue\n",
    "    if c in m:\n",
    "        m[c]+=1\n",
    "    else:\n",
    "        m[c]=1\n",
    "print(m)\n"
   ]
  },
  {
   "cell_type": "code",
   "execution_count": null,
   "metadata": {},
   "outputs": [],
   "source": []
  },
  {
   "cell_type": "code",
   "execution_count": null,
   "metadata": {},
   "outputs": [],
   "source": []
  }
 ],
 "metadata": {
  "kernelspec": {
   "display_name": "Python 3 (ipykernel)",
   "language": "python",
   "name": "python3"
  },
  "language_info": {
   "codemirror_mode": {
    "name": "ipython",
    "version": 3
   },
   "file_extension": ".py",
   "mimetype": "text/x-python",
   "name": "python",
   "nbconvert_exporter": "python",
   "pygments_lexer": "ipython3",
   "version": "3.12.8"
  }
 },
 "nbformat": 4,
 "nbformat_minor": 4
}
