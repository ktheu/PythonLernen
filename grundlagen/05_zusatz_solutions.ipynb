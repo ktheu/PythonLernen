{
 "cells": [
  {
   "cell_type": "markdown",
   "id": "e68e84c4",
   "metadata": {},
   "source": [
    "### Strings2 - Zusatzaufgaben - Lösungen\n",
    "\n",
    "Lösungen zu den Zusatzaufgaben."
   ]
  },
  {
   "cell_type": "code",
   "execution_count": null,
   "id": "96190334",
   "metadata": {},
   "outputs": [],
   "source": [
    "''' Z1\n",
    "Der Anwender gibt einen String ein.\n",
    "Gib den String rückwärts aus.\n",
    "'''\n",
    "s = input('Bitte einen String eingeben: ')\n",
    "print(f'Rückwärts: {s[::-1]}')"
   ]
  },
  {
   "cell_type": "code",
   "execution_count": null,
   "id": "4b675350",
   "metadata": {},
   "outputs": [],
   "source": [
    "''' Z2\n",
    "Der Anwender gibt einen String ein.\n",
    "Prüfe, ob es sich um ein Palindrom handelt (vorwärts wie rückwärts gleich).\n",
    "Beachte: Groß- und Kleinschreibung soll ignoriert werden.\n",
    "'''\n",
    "s = input('Bitte einen String eingeben: ')\n",
    "s_lower = s.lower()\n",
    "if s_lower == s_lower[::-1]:\n",
    "    print('Der String ist ein Palindrom.')\n",
    "else:\n",
    "    print('Der String ist kein Palindrom.')"
   ]
  },
  {
   "cell_type": "code",
   "execution_count": 1,
   "id": "e56231d8",
   "metadata": {},
   "outputs": [
    {
     "name": "stdin",
     "output_type": "stream",
     "text": [
      "Bitte einen String eingeben:  Habicht\n"
     ]
    },
    {
     "name": "stdout",
     "output_type": "stream",
     "text": [
      "chtHabi\n"
     ]
    }
   ],
   "source": [
    "''' Z3\n",
    "Der Anwender gibt einen String ein.\n",
    "Gib den String mit vertauschten Hälften aus.\n",
    "Bei ungerader Länge gehört das mittlere Zeichen zur ersten Hälfte.\n",
    "'''\n",
    "s = input('Bitte einen String eingeben: ')\n",
    "mitte = (len(s) + 1) // 2\n",
    "erste_haelfte = s[:mitte]\n",
    "zweite_haelfte = s[mitte:]\n",
    "print(zweite_haelfte + erste_haelfte)"
   ]
  },
  {
   "cell_type": "code",
   "execution_count": null,
   "id": "083fe9a6",
   "metadata": {},
   "outputs": [],
   "source": [
    "''' Z4\n",
    "Der Anwender gibt einen String ein.\n",
    "Zähle die Anzahl der Vokale (a, e, i, o, u) im String.\n",
    "Groß- und Kleinschreibung soll nicht unterschieden werden.\n",
    "'''\n",
    "s = input('Bitte einen String eingeben: ')\n",
    "anzahl = 0\n",
    "for c in s.lower():\n",
    "    if c in 'aeiou':\n",
    "        anzahl += 1\n",
    "print(f'Der String enthält {anzahl} Vokale.')"
   ]
  },
  {
   "cell_type": "code",
   "execution_count": null,
   "id": "e5713839",
   "metadata": {},
   "outputs": [],
   "source": [
    "''' Z5\n",
    "Der Anwender gibt einen String ein.\n",
    "Gib jeden zweiten Buchstaben aus (Index 0, 2, 4, 6, ...).\n",
    "'''\n",
    "s = input('Bitte einen String eingeben: ')\n",
    "ergebnis = ''\n",
    "for i in range(0, len(s), 2):\n",
    "    ergebnis += s[i]\n",
    "print(ergebnis)"
   ]
  },
  {
   "cell_type": "code",
   "execution_count": null,
   "id": "abe351a9",
   "metadata": {},
   "outputs": [],
   "source": [
    "''' Z6\n",
    "Der Anwender gibt einen String und ein Zeichen ein.\n",
    "Gib alle Positionen (Indizes) aus, an denen das Zeichen vorkommt.\n",
    "'''\n",
    "s = input('Bitte einen String eingeben: ')\n",
    "c = input('Bitte ein Zeichen eingeben: ')\n",
    "positionen = ''\n",
    "for i in range(len(s)):\n",
    "    if s[i] == c:\n",
    "        positionen += str(i) + ' '\n",
    "print(f\"Das Zeichen '{c}' kommt an folgenden Positionen vor: {positionen}\")"
   ]
  },
  {
   "cell_type": "code",
   "execution_count": null,
   "id": "0c08063c",
   "metadata": {},
   "outputs": [],
   "source": [
    "''' Z7\n",
    "Der Anwender gibt einen String ein.\n",
    "Ersetze alle Vokale (a, e, i, o, u) durch einen Stern (*).\n",
    "Groß- und Kleinschreibung soll beachtet werden.\n",
    "'''\n",
    "s = input('Bitte einen String eingeben: ')\n",
    "ergebnis = ''\n",
    "for c in s:\n",
    "    if c in 'aeiou':\n",
    "        ergebnis += '*'\n",
    "    else:\n",
    "        ergebnis += c\n",
    "print(ergebnis)"
   ]
  },
  {
   "cell_type": "code",
   "execution_count": null,
   "id": "11270cd2",
   "metadata": {},
   "outputs": [],
   "source": [
    "''' Z8\n",
    "Der Anwender gibt einen String ein.\n",
    "Gib den String pyramidenartig aus: erst 1 Zeichen, dann 2, dann 3, usw.\n",
    "'''\n",
    "s = input('Bitte einen String eingeben: ')\n",
    "for i in range(1, len(s) + 1):\n",
    "    print(s[:i])"
   ]
  },
  {
   "cell_type": "code",
   "execution_count": null,
   "id": "9824108f",
   "metadata": {},
   "outputs": [],
   "source": [
    "''' Z9\n",
    "Der Anwender gibt einen längeren String ein.\n",
    "Finde das am häufigsten vorkommende Zeichen und gib es mit seiner Anzahl aus.\n",
    "Bei Gleichstand genügt ein Zeichen.\n",
    "'''\n",
    "s = input('Bitte einen String eingeben: ')\n",
    "max_zeichen = ''\n",
    "max_anzahl = 0\n",
    "for c in s:\n",
    "    anzahl = s.count(c)\n",
    "    if anzahl > max_anzahl:\n",
    "        max_anzahl = anzahl\n",
    "        max_zeichen = c\n",
    "print(f\"Das häufigste Zeichen ist '{max_zeichen}' mit {max_anzahl} Vorkommen.\")"
   ]
  },
  {
   "cell_type": "code",
   "execution_count": null,
   "id": "5610f29f",
   "metadata": {},
   "outputs": [],
   "source": [
    "''' Z10\n",
    "Der Anwender gibt zwei Strings ein.\n",
    "Verschränke die beiden Strings: abwechselnd ein Zeichen vom ersten und vom zweiten String.\n",
    "Wenn ein String länger ist, hänge den Rest am Ende an.\n",
    "'''\n",
    "s1 = input('Bitte ersten String eingeben: ')\n",
    "s2 = input('Bitte zweiten String eingeben: ')\n",
    "ergebnis = ''\n",
    "laenge = min(len(s1), len(s2))\n",
    "for i in range(laenge):\n",
    "    ergebnis += s1[i] + s2[i]\n",
    "ergebnis += s1[laenge:] + s2[laenge:]\n",
    "print(ergebnis)"
   ]
  },
  {
   "cell_type": "code",
   "execution_count": null,
   "id": "5466012c",
   "metadata": {},
   "outputs": [],
   "source": []
  }
 ],
 "metadata": {
  "kernelspec": {
   "display_name": "Python 3 (ipykernel)",
   "language": "python",
   "name": "python3"
  },
  "language_info": {
   "codemirror_mode": {
    "name": "ipython",
    "version": 3
   },
   "file_extension": ".py",
   "mimetype": "text/x-python",
   "name": "python",
   "nbconvert_exporter": "python",
   "pygments_lexer": "ipython3",
   "version": "3.12.8"
  }
 },
 "nbformat": 4,
 "nbformat_minor": 5
}
