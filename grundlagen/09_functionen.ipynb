{
 "cells": [
  {
   "cell_type": "markdown",
   "id": "b5416bed-bc9b-4f13-8051-26995a93b190",
   "metadata": {},
   "source": [
    "### Funktionen\n",
    "\n",
    "Mit Funktionen fassen wir Codeabschnitte zusammen. Das macht unsere Programme übersichtlicher und wir können die Codeabschnitte besser testen."
   ]
  },
  {
   "cell_type": "code",
   "execution_count": 8,
   "id": "c458ebd8-9b01-4cb8-a5b4-a4de648264e7",
   "metadata": {},
   "outputs": [
    {
     "name": "stdout",
     "output_type": "stream",
     "text": [
      "*****\n"
     ]
    }
   ],
   "source": [
    "def sterne(k):        \n",
    "    return k * '*'      \n",
    "\n",
    "b = sterne(5)           # k erhält durch den Aufruf den Wert 12\n",
    "print(b)"
   ]
  },
  {
   "cell_type": "code",
   "execution_count": 9,
   "id": "ac407383-2705-4f27-bfc7-52392be6c64b",
   "metadata": {},
   "outputs": [
    {
     "name": "stdout",
     "output_type": "stream",
     "text": [
      "********************\n"
     ]
    }
   ],
   "source": [
    "print(sterne(20))"
   ]
  },
  {
   "cell_type": "markdown",
   "id": "713a9123-fad8-473a-bb7f-2ce4b51335c3",
   "metadata": {},
   "source": [
    "Eine Funktion kann mehrere Parameter enthalten. Beim Aufruf werden die Argumente in der gleichen Reihenfolge den Parametern übergeben.\n",
    "Zur Dokumentation von Funktionen nutzen wir manchmal einen Docstring. Ein Beispielaufruf wird mit >>> gekennzeichnet und das erwartete Ergebnis wird in die nächste Zeile geschrieben."
   ]
  },
  {
   "cell_type": "code",
   "execution_count": 1,
   "id": "f271244d-bc15-4c69-ada3-016ec72f1d5e",
   "metadata": {},
   "outputs": [],
   "source": [
    "def zeit_in_minuten(stunden, minuten):\n",
    "    ''' returns: die Gesamtzeit in minuten \n",
    "    \n",
    "    >>> zeit_in_minuten(1,30)\n",
    "    90 \n",
    "    >>> zeit_in_minuten(2,15)\n",
    "    135    \n",
    "    '''\n",
    "    return stunden*60 + minuten    "
   ]
  },
  {
   "cell_type": "code",
   "execution_count": 2,
   "id": "7a0566ad-f969-4e34-822f-76562d511adf",
   "metadata": {},
   "outputs": [
    {
     "data": {
      "text/plain": [
       "135"
      ]
     },
     "execution_count": 2,
     "metadata": {},
     "output_type": "execute_result"
    }
   ],
   "source": [
    "zeit_in_minuten(2,15)"
   ]
  },
  {
   "cell_type": "code",
   "execution_count": 11,
   "id": "01796f6f-26a8-4efe-80b8-e231f4e5e2a4",
   "metadata": {},
   "outputs": [],
   "source": [
    "def tup_change(tup, i, k):\n",
    "    ''' returns: tuple wie tup, aber an Stelle i steht k \n",
    "    \n",
    "    >>> tup_change((1,2,3),0,4)\n",
    "    (4,2,3)    \n",
    "    '''\n",
    "    a = list(tup)\n",
    "    a[i] = k\n",
    "    return tuple(a)"
   ]
  },
  {
   "cell_type": "code",
   "execution_count": 12,
   "id": "4ee83333-9c19-401c-b610-64fc025f4b7d",
   "metadata": {},
   "outputs": [
    {
     "name": "stdout",
     "output_type": "stream",
     "text": [
      "(4, 2, 7)\n"
     ]
    }
   ],
   "source": [
    "t1 = (4,2,9)\n",
    "t2 = tup_change(t1,2,7)\n",
    "print(t2)"
   ]
  },
  {
   "cell_type": "markdown",
   "id": "6d9e958c-2bf2-45c6-8e6d-455a35bab8cd",
   "metadata": {},
   "source": [
    "Manchmal gibt die Funktion nichts zurück, sondern macht nur eine Ausgabe."
   ]
  },
  {
   "cell_type": "code",
   "execution_count": 13,
   "id": "d64a9c38-5409-4841-823e-66d521b56add",
   "metadata": {},
   "outputs": [],
   "source": [
    "def ueberschrift(s):\n",
    "    print(s)\n",
    "    print('='*len(s))    "
   ]
  },
  {
   "cell_type": "code",
   "execution_count": 14,
   "id": "58987234-948a-47ac-beaf-d5bff28d6065",
   "metadata": {},
   "outputs": [
    {
     "name": "stdout",
     "output_type": "stream",
     "text": [
      "Informatik\n",
      "==========\n"
     ]
    }
   ],
   "source": [
    "ueberschrift('Informatik')"
   ]
  },
  {
   "cell_type": "code",
   "execution_count": 15,
   "id": "65cf3d45-cc56-4b90-84d9-923b355c374f",
   "metadata": {},
   "outputs": [
    {
     "name": "stdout",
     "output_type": "stream",
     "text": [
      "1 2 3\n",
      "4 5 6\n",
      "7 8 9\n"
     ]
    }
   ],
   "source": [
    "def show(t):\n",
    "    '''\n",
    "    t: Tuple der Länge 9\n",
    "    printed tup als 3 x 3 grid aus\n",
    "    '''\n",
    "    for i in range(0,9,3):\n",
    "        print(f'{t[i]} {t[i+1]} {t[i+2]}')\n",
    "\n",
    "t = (1,2,3,4,5,6,7,8,9)\n",
    "show(t)"
   ]
  },
  {
   "cell_type": "markdown",
   "id": "f8370efc-7cbb-4ad7-bb22-afd04467f74f",
   "metadata": {},
   "source": [
    "#### Globale und lokale Variablen.\n",
    "\n",
    "Globale Variablen sind Variablen, die außerhalb der Funktion definiert werden. Variablen die innerhalb der Funktion definiert werden (auch die Parameter) heißen lokale Variablen. Lokale Variablen können nur innerhalb der Funktion verwendet werden. Auf globale Variablen können wir auch innerhalb von Funktionen lesend zugreifen."
   ]
  },
  {
   "cell_type": "code",
   "execution_count": 19,
   "id": "7025395e-1eee-47c7-a6ff-12491ab74680",
   "metadata": {},
   "outputs": [
    {
     "name": "stdout",
     "output_type": "stream",
     "text": [
      "**********\n"
     ]
    }
   ],
   "source": [
    "zeichen = '*'                       # zeichen ist globale Variable\n",
    "def vervielfache(k):\n",
    "    x = 2 * k                       # k, x sind lokale Variablen\n",
    "    return x*zeichen                      \n",
    "\n",
    "print(vervielfache(5))"
   ]
  },
  {
   "cell_type": "markdown",
   "id": "bac4fd89-d229-47d5-badd-4bda8d26d455",
   "metadata": {},
   "source": [
    "Wenn möglich, sollen Funktionen alles was sie für ihre Arbeit benötigen, über Parameter erhalten und nicht durch Zugriff auf globale Variablen. "
   ]
  },
  {
   "cell_type": "code",
   "execution_count": 22,
   "id": "72d856b1-f7ab-4d26-b732-6fbfb86bdec9",
   "metadata": {},
   "outputs": [
    {
     "name": "stdout",
     "output_type": "stream",
     "text": [
      "**********\n"
     ]
    }
   ],
   "source": [
    "def vervielfache(k, zeichen):\n",
    "    x = 2 * k                       \n",
    "    return x*zeichen                      \n",
    "\n",
    "print(vervielfache(5, '*'))"
   ]
  }
 ],
 "metadata": {
  "kernelspec": {
   "display_name": "Python 3 (ipykernel)",
   "language": "python",
   "name": "python3"
  },
  "language_info": {
   "codemirror_mode": {
    "name": "ipython",
    "version": 3
   },
   "file_extension": ".py",
   "mimetype": "text/x-python",
   "name": "python",
   "nbconvert_exporter": "python",
   "pygments_lexer": "ipython3",
   "version": "3.12.8"
  }
 },
 "nbformat": 4,
 "nbformat_minor": 5
}
