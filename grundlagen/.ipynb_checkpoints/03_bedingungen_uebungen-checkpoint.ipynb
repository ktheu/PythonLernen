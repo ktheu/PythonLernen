{
 "cells": [
  {
   "cell_type": "markdown",
   "id": "9c4196ee-8905-4724-98f3-04360946efd9",
   "metadata": {},
   "source": [
    "### Bedingungen - Übungen"
   ]
  },
  {
   "cell_type": "code",
   "execution_count": null,
   "id": "8118536c-b3d6-4a5f-ada4-eb7da8863119",
   "metadata": {},
   "outputs": [],
   "source": [
    "''' A1\n",
    "Lies eine ganze Zahl x ein.\n",
    "\n",
    "Gib aus:\n",
    "'positiv', wenn x größer als 0 ist,\n",
    "'null', wenn x gleich 0 ist,\n",
    "'negativ', wenn x kleiner als 0 ist.\n",
    "\n",
    "Beispieldialoge:\n",
    "\n",
    "Bitte eine ganze Zahl eingeben: -6\n",
    "negativ\n",
    "\n",
    "Bitte eine ganze Zahl eingeben: 0\n",
    "null\n",
    "\n",
    "Bitte eine ganze Zahl eingeben: 42\n",
    "positiv \n",
    "'''\n",
    "# your code\n",
    "\n"
   ]
  },
  {
   "cell_type": "code",
   "execution_count": null,
   "id": "6de48a20-5651-43ab-925f-109ad5cb23c2",
   "metadata": {},
   "outputs": [],
   "source": [
    "''' A2\n",
    "Lies eine ganze Zahl x ein. \n",
    "Setze die Variable farbe:\n",
    "\n",
    "farbe = 'rot' falls a kleiner 10\n",
    "    'gelb' falls a zwischen 10 und 20 (einschließlich der Grenzen) \n",
    "    'grün' sonst.\n",
    "\n",
    "Gib die Variable Farbe aus.\n",
    "\n",
    "Beispieldialoge:\n",
    "\n",
    "Bitte eine Zahl eingeben: 8\n",
    "rot\n",
    "\n",
    "Bitte eine Zahl eingeben: 20\n",
    "gelb\n",
    "\n",
    "Bitte eine Zahl eingeben: 21\n",
    "grün\n",
    "'''\n",
    "# your code"
   ]
  },
  {
   "cell_type": "code",
   "execution_count": null,
   "id": "ce5454f9-ac5e-43e0-947f-904cf183484d",
   "metadata": {},
   "outputs": [],
   "source": [
    "''' A3\n",
    "Lies in die Variable note eine Zahl (1-6) ein.\n",
    "Setze die Variable ergebnis auf 'bestanden', falls die Note mindestens 4 ist.\n",
    "Setze ergebnis auf 'nicht bestanden', falls die Note schlechter als 4 ist.\n",
    "Nutze dazu eine bedingte Zuweisung und gib dann die Variable ergebnis aus.\n",
    "\n",
    "Beispieldialog:\n",
    "\n",
    "Bitte eine Note (1-6) eingeben: 2\n",
    "bestanden\n",
    "\n",
    "Bitte eine Note (1-6) eingeben: 5\n",
    "nicht bestanden\n",
    "'''\n",
    "# your code"
   ]
  },
  {
   "cell_type": "code",
   "execution_count": null,
   "id": "9e0537ad-7bb6-428b-9ec9-e4c254659269",
   "metadata": {},
   "outputs": [],
   "source": [
    "''' A4\n",
    "Lies eine ganze Zahl x ein\n",
    "\n",
    "Wenn die Zahl ungerade ist und im Intervall [200,300] liegt \n",
    "oder wenn sie durch 7 teilbar ist und im Intervall [1,100] liegt: gib aus 'JA', sonst 'NEIN' \n",
    "\n",
    "Beispieldialoge:\n",
    "\n",
    "Bitte eine ganze Zahl eingeben: 273\n",
    "JA\n",
    "\n",
    "Bitte eine ganze Zahl eingeben: 210\n",
    "NEIN\n",
    "\n",
    "Bitte eine ganze Zahl eingeben: 49\n",
    "JA\n",
    "\n",
    "Bitte eine ganze Zahl eingeben: 3\n",
    "NEIN\n",
    "'''\n",
    "# your code\n",
    "\n"
   ]
  }
 ],
 "metadata": {
  "kernelspec": {
   "display_name": "Python 3 (ipykernel)",
   "language": "python",
   "name": "python3"
  },
  "language_info": {
   "codemirror_mode": {
    "name": "ipython",
    "version": 3
   },
   "file_extension": ".py",
   "mimetype": "text/x-python",
   "name": "python",
   "nbconvert_exporter": "python",
   "pygments_lexer": "ipython3",
   "version": "3.12.8"
  }
 },
 "nbformat": 4,
 "nbformat_minor": 5
}
