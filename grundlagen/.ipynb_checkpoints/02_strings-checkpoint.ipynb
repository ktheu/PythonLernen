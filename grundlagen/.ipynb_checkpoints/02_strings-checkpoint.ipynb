{
 "cells": [
  {
   "cell_type": "markdown",
   "id": "c0f060f4-f17c-487c-8b01-9b0da68080bb",
   "metadata": {},
   "source": [
    "### Strings1, Input, f-Strings\n",
    "\n",
    "Strings sind Zeichenketten, sie werden in einfachen oder doppelten Hochkommata eingeschlossen. \n",
    "Strings, die über mehrere Zeilen gehen, werden mit dreifachen Hochkommata gebildet.\n"
   ]
  },
  {
   "cell_type": "code",
   "execution_count": 8,
   "id": "cf62b627-16f4-4d80-ae7a-edd236df4a96",
   "metadata": {},
   "outputs": [
    {
     "name": "stdout",
     "output_type": "stream",
     "text": [
      "Hallo Welt\n"
     ]
    }
   ],
   "source": [
    "a = 'Hallo Welt'\n",
    "print(a)"
   ]
  },
  {
   "cell_type": "code",
   "execution_count": 9,
   "id": "fe548645-d28e-40f3-b396-fbb517e5e17e",
   "metadata": {},
   "outputs": [
    {
     "name": "stdout",
     "output_type": "stream",
     "text": [
      "Guten Morgen\n"
     ]
    }
   ],
   "source": [
    "b = \"Guten Morgen\"\n",
    "print(b)"
   ]
  },
  {
   "cell_type": "code",
   "execution_count": 13,
   "id": "9b99c3db-4eea-4bb5-9fa5-c7778ca15505",
   "metadata": {},
   "outputs": [
    {
     "name": "stdout",
     "output_type": "stream",
     "text": [
      "Dies ist \n",
      "ein String,\n",
      "der über\n",
      "mehrere \n",
      "Zeilen geht.\n"
     ]
    }
   ],
   "source": [
    "c = '''Dies ist \n",
    "ein String,\n",
    "der über\n",
    "mehrere \n",
    "Zeilen geht.'''\n",
    "print(c)"
   ]
  },
  {
   "cell_type": "markdown",
   "id": "7bd59a00-ea9a-43e2-a15a-8c1c0c58abc6",
   "metadata": {},
   "source": [
    "Die Länge eines Strings ist die Anzahl seiner Zeichen."
   ]
  },
  {
   "cell_type": "code",
   "execution_count": 14,
   "id": "0676bcf7-444f-4ff5-84de-1d639ac20524",
   "metadata": {},
   "outputs": [
    {
     "name": "stdout",
     "output_type": "stream",
     "text": [
      "7\n"
     ]
    }
   ],
   "source": [
    "s = 'Habicht'\n",
    "print(len(s))"
   ]
  },
  {
   "cell_type": "markdown",
   "id": "4afbbaad-4aec-4a32-813f-8b7d4efc79ab",
   "metadata": {},
   "source": [
    "Wenn das Begrenzungszeichen im String vorkommt, müssen wir es mit dem Escape-Zeichen *\\\\* versehen, damit es nicht als Abschluss des Strings interpretiert wird."
   ]
  },
  {
   "cell_type": "code",
   "execution_count": 1,
   "id": "0830a743-9a12-4061-97c0-5cfc4b9c2674",
   "metadata": {},
   "outputs": [
    {
     "name": "stdout",
     "output_type": "stream",
     "text": [
      "Dies ' ist ein einfaches Hochkomma\n"
     ]
    }
   ],
   "source": [
    "s = 'Dies \\' ist ein einfaches Hochkomma'\n",
    "print(s)"
   ]
  },
  {
   "cell_type": "markdown",
   "id": "f97c4732-d5f8-4371-a8b4-997ffc196a95",
   "metadata": {},
   "source": [
    "Wenn wir mit *print* mehrere Strings mit Komma getrennt ausgeben, erscheint wie gewohnt ein Leerzeichen zwischen den Strings."
   ]
  },
  {
   "cell_type": "code",
   "execution_count": 34,
   "id": "261335bd-4ef0-44ed-88dd-f013b38a137b",
   "metadata": {},
   "outputs": [
    {
     "name": "stdout",
     "output_type": "stream",
     "text": [
      "Hallo Welt\n"
     ]
    }
   ],
   "source": [
    "s1 = 'Hallo'\n",
    "s2 = 'Welt'\n",
    "print(s1, s2)"
   ]
  },
  {
   "cell_type": "markdown",
   "id": "bee50ea9-6102-45ce-b010-768044defa01",
   "metadata": {},
   "source": [
    "Wir können Strings mit dem Zeichen + aneinanderpappen (konkatenieren)."
   ]
  },
  {
   "cell_type": "code",
   "execution_count": 36,
   "id": "e8cd1753-741b-490f-8e60-aa719de890b5",
   "metadata": {},
   "outputs": [
    {
     "name": "stdout",
     "output_type": "stream",
     "text": [
      "Hallo Welt\n"
     ]
    }
   ],
   "source": [
    "s3 = s1 + ' ' + s2\n",
    "print(s3)"
   ]
  },
  {
   "cell_type": "code",
   "execution_count": 38,
   "id": "bc3f2f2a-1e7c-4271-93f6-b9402a9a20c9",
   "metadata": {},
   "outputs": [
    {
     "name": "stdout",
     "output_type": "stream",
     "text": [
      "Hallo Welt\n"
     ]
    }
   ],
   "source": [
    "print(s1 + ' ' + s2)"
   ]
  },
  {
   "cell_type": "markdown",
   "id": "231bf122-a73d-47a2-ae83-9234902f5f46",
   "metadata": {},
   "source": [
    "Wir können Strings und Zahlen nicht mit + aneinanderpappen. Dazu müssen wir die Zahlen erst in einen String umwandeln."
   ]
  },
  {
   "cell_type": "code",
   "execution_count": 39,
   "id": "053a3adc-520f-4a57-85ad-fa7e62b5e10a",
   "metadata": {},
   "outputs": [
    {
     "ename": "TypeError",
     "evalue": "can only concatenate str (not \"int\") to str",
     "output_type": "error",
     "traceback": [
      "\u001b[1;31m---------------------------------------------------------------------------\u001b[0m",
      "\u001b[1;31mTypeError\u001b[0m                                 Traceback (most recent call last)",
      "Cell \u001b[1;32mIn[39], line 3\u001b[0m\n\u001b[0;32m      1\u001b[0m s1 \u001b[38;5;241m=\u001b[39m \u001b[38;5;124m'\u001b[39m\u001b[38;5;124mLinie\u001b[39m\u001b[38;5;124m'\u001b[39m\n\u001b[0;32m      2\u001b[0m a \u001b[38;5;241m=\u001b[39m \u001b[38;5;241m1\u001b[39m\n\u001b[1;32m----> 3\u001b[0m \u001b[38;5;28mprint\u001b[39m(\u001b[43ms1\u001b[49m\u001b[43m \u001b[49m\u001b[38;5;241;43m+\u001b[39;49m\u001b[43m \u001b[49m\u001b[38;5;124;43m'\u001b[39;49m\u001b[38;5;124;43m \u001b[39;49m\u001b[38;5;124;43m'\u001b[39;49m\u001b[43m \u001b[49m\u001b[38;5;241;43m+\u001b[39;49m\u001b[43m \u001b[49m\u001b[43ma\u001b[49m)\n",
      "\u001b[1;31mTypeError\u001b[0m: can only concatenate str (not \"int\") to str"
     ]
    }
   ],
   "source": [
    "s1 = 'Linie'\n",
    "a = 1\n",
    "print(s1 + ' ' + a)"
   ]
  },
  {
   "cell_type": "code",
   "execution_count": 40,
   "id": "de10949b-0133-42f4-8f6e-e8fec7c4af8c",
   "metadata": {},
   "outputs": [
    {
     "name": "stdout",
     "output_type": "stream",
     "text": [
      "1 <class 'int'>\n",
      "1 <class 'str'>\n"
     ]
    }
   ],
   "source": [
    "a = 1\n",
    "print(a, type(a))\n",
    "b = str(a)\n",
    "print(b, type(b))"
   ]
  },
  {
   "cell_type": "code",
   "execution_count": 41,
   "id": "292dda42-77ed-4e78-bc79-f611c81e87ee",
   "metadata": {},
   "outputs": [
    {
     "name": "stdout",
     "output_type": "stream",
     "text": [
      "Linie 1\n"
     ]
    }
   ],
   "source": [
    "s1 = 'Linie'\n",
    "a = 1\n",
    "print(s1 + ' ' + str(a))"
   ]
  },
  {
   "cell_type": "markdown",
   "id": "b02fe0a5-1ae8-4879-8961-619253f9ce5e",
   "metadata": {},
   "source": [
    "### Input\n",
    "\n",
    "Mit der *input()*-Funktion können wir Eingaben des Benutzers von der Konsole einlesen. *input()* liefert immer einen String zurück. Wenn wir eine Eingabe als Zahl behandeln wollen, müssen wir den String mit der *int()* oder *float()*-Funktion in eine Zahl umwandeln."
   ]
  },
  {
   "cell_type": "code",
   "execution_count": 3,
   "id": "17fc65c6-40de-44f2-b7bd-bb2d358d6e85",
   "metadata": {},
   "outputs": [
    {
     "name": "stdin",
     "output_type": "stream",
     "text": [
      "Wie ist dein Vorname? Malte\n"
     ]
    },
    {
     "name": "stdout",
     "output_type": "stream",
     "text": [
      "Hallo Malte\n"
     ]
    }
   ],
   "source": [
    "s = input('Wie ist dein Vorname?')\n",
    "print('Hallo',s)"
   ]
  },
  {
   "cell_type": "code",
   "execution_count": 6,
   "id": "6af50685-2b22-4c73-a470-9d221f8fc91e",
   "metadata": {},
   "outputs": [
    {
     "name": "stdin",
     "output_type": "stream",
     "text": [
      "Bitte eine ganze Zahl eingeben: 7\n"
     ]
    },
    {
     "name": "stdout",
     "output_type": "stream",
     "text": [
      "Das Doppelte von 7 ist 14\n"
     ]
    }
   ],
   "source": [
    "x = int(input('Bitte eine ganze Zahl eingeben:'))\n",
    "print('Das Doppelte von',x,'ist',2*x)"
   ]
  },
  {
   "cell_type": "markdown",
   "id": "533a2e98-ac29-41c9-94ed-d868cc0f7659",
   "metadata": {},
   "source": [
    "#### f-String\n",
    "\n",
    "Für die Ausgabe von Text und Variablen nutzen wir einen f-String. Dabei können wir die Variablen mit geschweiften Klammern direkt in den String einfügen und können bei Bedarf auch Formatierungen hinzufügen."
   ]
  },
  {
   "cell_type": "code",
   "execution_count": 8,
   "id": "49873707-23a3-4a58-ad14-26f2cc43af5e",
   "metadata": {},
   "outputs": [
    {
     "name": "stdin",
     "output_type": "stream",
     "text": [
      "Bitte eine ganze Zahl eingeben: 7\n"
     ]
    },
    {
     "name": "stdout",
     "output_type": "stream",
     "text": [
      "Das Doppelte von 7 ist 14.\n"
     ]
    }
   ],
   "source": [
    "x = int(input('Bitte eine ganze Zahl eingeben:'))\n",
    "print(f'Das Doppelte von {x} ist {2*x}.')"
   ]
  },
  {
   "cell_type": "code",
   "execution_count": 4,
   "id": "e1524fde-2fb7-4b75-a83b-c3b8a51eb4a1",
   "metadata": {},
   "outputs": [
    {
     "name": "stdout",
     "output_type": "stream",
     "text": [
      "Es werden Umfang und Fläche eines Kreises berechnet\n"
     ]
    },
    {
     "name": "stdin",
     "output_type": "stream",
     "text": [
      "Gib bitte den Radius des Kreises an: 6\n"
     ]
    },
    {
     "name": "stdout",
     "output_type": "stream",
     "text": [
      "Ein Kreis mit Radius 6.0 hat den Umfang 37.70 und die Fläche 113.09.\n"
     ]
    }
   ],
   "source": [
    "print('Es werden Umfang und Fläche eines Kreises berechnet')\n",
    "radius = float(input('Gib bitte den Radius des Kreises an:'))\n",
    "pi = 3.1415\n",
    "umfang = 2 * pi * radius\n",
    "flaeche = pi * (radius ** 2)\n",
    "print(f'Ein Kreis mit Radius {radius} hat den Umfang {umfang:.2f} und die Fläche {flaeche:.2f}.')"
   ]
  },
  {
   "cell_type": "markdown",
   "id": "ca0aaf1b-ecc7-4951-a3b5-cf9d24c9785f",
   "metadata": {},
   "source": [
    "Einige nützliche Formatierungen"
   ]
  },
  {
   "cell_type": "code",
   "execution_count": 39,
   "id": "b8678e2e-1b7c-4643-842b-daa64bb600bb",
   "metadata": {},
   "outputs": [
    {
     "name": "stdout",
     "output_type": "stream",
     "text": [
      "Pi auf zwei Nachkommastellen: 3.14\n"
     ]
    }
   ],
   "source": [
    "# Runden auf eine bestimmte Anzahl von Nachkommastellen\n",
    "pi = 3.1415926535\n",
    "print(f\"Pi auf zwei Nachkommastellen: {pi:.2f}\")  "
   ]
  },
  {
   "cell_type": "code",
   "execution_count": 76,
   "id": "601f3553-9b44-454f-85fa-21c8a3420fc2",
   "metadata": {},
   "outputs": [
    {
     "name": "stdout",
     "output_type": "stream",
     "text": [
      "Prozent: 12.34%\n"
     ]
    }
   ],
   "source": [
    "# Werte als Prozentzahlen darstellen\n",
    "x = 0.1234\n",
    "print(f\"Prozent: {x:.2%}\")   "
   ]
  },
  {
   "cell_type": "code",
   "execution_count": 32,
   "id": "f756a83f-a2ae-46e7-a703-b4147c22fa8a",
   "metadata": {},
   "outputs": [
    {
     "name": "stdout",
     "output_type": "stream",
     "text": [
      "2.3849e+35\n"
     ]
    }
   ],
   "source": [
    "# Wissenschaftliche Notation mit 10er Exponenten \n",
    "# e+5 steht für: mal 10 hoch 5)\n",
    "x = 238487487509424829758907358920758943\n",
    "print(f'{x:.4e}')\n"
   ]
  },
  {
   "cell_type": "markdown",
   "id": "d984efef-0948-4379-846b-51fcb56a0f9f",
   "metadata": {},
   "source": [
    "Wir können außerdem festlegen, wie viel Platz mindestens für die Ausgabe reserviert sein soll. Standardmäßig werden Strings linksbündig und Zahlen rechtsbündig ausgegeben. Auch das kann mit Formatierungsangaben geändert werden.  \n"
   ]
  },
  {
   "cell_type": "code",
   "execution_count": 20,
   "id": "4d7c03a3-b028-46cb-8418-e3dd9aba66f4",
   "metadata": {},
   "outputs": [
    {
     "name": "stdout",
     "output_type": "stream",
     "text": [
      "---- Hallo    ----      123 ----     3.14 ----\n",
      "----    Hallo ---- 123      ---- 3.14     ----\n",
      "----  Hallo   ----   123    ----   3.14   ----\n"
     ]
    }
   ],
   "source": [
    "k = 123\n",
    "s = 'Hallo'\n",
    "x = 3.1415\n",
    "\n",
    "print(f'---- {s:8} ---- {k:8} ---- {x:8.2f} ----')\n",
    "print(f'---- {s:>8} ---- {k:<8} ---- {x:<8.2f} ----')\n",
    "print(f'---- {s:^8} ---- {k:^8} ---- {x:^8.2f} ----')\n"
   ]
  },
  {
   "cell_type": "markdown",
   "id": "54aa2d18-671d-476a-8f02-230b22092851",
   "metadata": {},
   "source": [
    "https://www.w3schools.com/python/python_string_formatting.asp"
   ]
  },
  {
   "cell_type": "code",
   "execution_count": null,
   "id": "637bc39a-d9b4-4ea8-9c21-a0a87d1a9fdd",
   "metadata": {},
   "outputs": [],
   "source": []
  }
 ],
 "metadata": {
  "kernelspec": {
   "display_name": "Python 3 (ipykernel)",
   "language": "python",
   "name": "python3"
  },
  "language_info": {
   "codemirror_mode": {
    "name": "ipython",
    "version": 3
   },
   "file_extension": ".py",
   "mimetype": "text/x-python",
   "name": "python",
   "nbconvert_exporter": "python",
   "pygments_lexer": "ipython3",
   "version": "3.12.8"
  }
 },
 "nbformat": 4,
 "nbformat_minor": 5
}
