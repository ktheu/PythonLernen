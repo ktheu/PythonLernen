{
 "cells": [
  {
   "cell_type": "markdown",
   "metadata": {},
   "source": [
    "### Tuples\n",
    "\n",
    "Tuples sind wie Listen, sie können aber nicht mit *append* verändert werden. Dafür können sie keys von dictionaries sein.\n",
    "\n",
    "\n"
   ]
  },
  {
   "cell_type": "code",
   "execution_count": null,
   "metadata": {},
   "outputs": [],
   "source": [
    "t = (3,6,1,10,42,8)    # ein Tupel\n",
    "print(t) \n",
    "print(len(t))"
   ]
  },
  {
   "cell_type": "code",
   "execution_count": null,
   "metadata": {},
   "outputs": [],
   "source": [
    "t = ()                 # leeres Tupel\n",
    "print(t)\n",
    "print(len(t))\n"
   ]
  },
  {
   "cell_type": "code",
   "execution_count": null,
   "metadata": {},
   "outputs": [],
   "source": [
    "t = (1,)               # Tupel mit einem Element\n",
    "print(t)\n",
    "len(t)"
   ]
  },
  {
   "cell_type": "markdown",
   "metadata": {},
   "source": [
    "##### Was wie bei Listen funktioniert\n",
    "\n",
    "Indexing und Slicing, Durchlaufen von Tuples mit einer Schleife, Unpacking und die Frage ob eine Element in einem Tupel vorhanden ist funktioniert wie bei Listen. "
   ]
  },
  {
   "cell_type": "code",
   "execution_count": 25,
   "metadata": {},
   "outputs": [
    {
     "name": "stdout",
     "output_type": "stream",
     "text": [
      "6\n",
      "7\n"
     ]
    }
   ],
   "source": [
    "x, y = (6, 7)    # unpacking\n",
    "print(x)\n",
    "print(y)"
   ]
  },
  {
   "cell_type": "markdown",
   "metadata": {},
   "source": [
    "##### Keine Veränderung \n",
    "\n",
    "Tuples können wir nicht mit append oder pop verändern. Wir können über Indexing keinen neuen Wert zuweisen."
   ]
  },
  {
   "cell_type": "code",
   "execution_count": null,
   "metadata": {},
   "outputs": [],
   "source": [
    "t = (3,4,5,6,7)\n",
    "t.append(8)"
   ]
  },
  {
   "cell_type": "code",
   "execution_count": null,
   "metadata": {},
   "outputs": [],
   "source": [
    "t[1] = 9"
   ]
  },
  {
   "cell_type": "markdown",
   "metadata": {},
   "source": [
    "Wenn wir eine Stelle verändern wollen, müssen wir ein neues Tupel erstellen. Dazu können wir den Umweg über die Liste gehen."
   ]
  },
  {
   "cell_type": "code",
   "execution_count": 15,
   "metadata": {},
   "outputs": [
    {
     "name": "stdout",
     "output_type": "stream",
     "text": [
      "(3, 9, 5, 6, 7)\n"
     ]
    }
   ],
   "source": [
    "t = (3,4,5,6,7)\n",
    "a = list(t)             # Tuple in Liste unwandeln\n",
    "a[1] = 9\n",
    "t = tuple(a)            # Liste in Tuple umwandeln\n",
    "print(t)"
   ]
  },
  {
   "cell_type": "code",
   "execution_count": 16,
   "metadata": {},
   "outputs": [
    {
     "name": "stdout",
     "output_type": "stream",
     "text": [
      "3\n",
      "4\n",
      "5\n",
      "6\n",
      "7\n"
     ]
    }
   ],
   "source": [
    "# Die Laufvariable i geht über die Indizes der Tuples\n",
    "t = (3,4,5,6,7)\n",
    "for i in range(len(t)):\n",
    "    print(t[i])"
   ]
  },
  {
   "cell_type": "code",
   "execution_count": 17,
   "metadata": {},
   "outputs": [
    {
     "name": "stdout",
     "output_type": "stream",
     "text": [
      "3\n",
      "4\n",
      "5\n",
      "6\n",
      "7\n"
     ]
    }
   ],
   "source": [
    "# Die Laufvariable x geht über die Elemente des Tuples\n",
    "t = (3,4,5,6,7)\n",
    "for x in t:\n",
    "    print(x)"
   ]
  },
  {
   "cell_type": "markdown",
   "metadata": {},
   "source": [
    "##### Tuples oder Listen?\n",
    "\n",
    "Tuples können keys von dictionaries sein, Listen nicht. Das ist für uns der Hauptgrund für die Verwendung von Tuples.\n",
    "\n"
   ]
  },
  {
   "cell_type": "code",
   "execution_count": null,
   "metadata": {},
   "outputs": [],
   "source": [
    "m = {['a','A']: 1, ['b','B']: 2}    # das geht nicht"
   ]
  },
  {
   "cell_type": "code",
   "execution_count": 19,
   "metadata": {},
   "outputs": [],
   "source": [
    "m = {('a','A'): 1, ('b','B'): 2}    # das geht"
   ]
  },
  {
   "cell_type": "markdown",
   "metadata": {},
   "source": [
    "Manchmal nutzen wir Tuples statt Listen, weil es mit Tuples schöner aussieht."
   ]
  },
  {
   "cell_type": "code",
   "execution_count": 24,
   "metadata": {},
   "outputs": [
    {
     "name": "stdout",
     "output_type": "stream",
     "text": [
      "[[1, 1], [5, 1], [5, 3], [1, 3]]\n"
     ]
    }
   ],
   "source": [
    "coord = [[1,1], [5,1], [5,3], [1,3]]    # eine Liste mit 2D-Koordinaten\n",
    "print(coord)"
   ]
  },
  {
   "cell_type": "code",
   "execution_count": 23,
   "metadata": {},
   "outputs": [
    {
     "name": "stdout",
     "output_type": "stream",
     "text": [
      "[(1, 1), (5, 1), (5, 3), (1, 3)]\n"
     ]
    }
   ],
   "source": [
    "coord = [(1,1), (5,1), (5,3), (1,3)]\n",
    "print(coord)"
   ]
  }
 ],
 "metadata": {
  "kernelspec": {
   "display_name": "Python 3 (ipykernel)",
   "language": "python",
   "name": "python3"
  },
  "language_info": {
   "codemirror_mode": {
    "name": "ipython",
    "version": 3
   },
   "file_extension": ".py",
   "mimetype": "text/x-python",
   "name": "python",
   "nbconvert_exporter": "python",
   "pygments_lexer": "ipython3",
   "version": "3.12.8"
  }
 },
 "nbformat": 4,
 "nbformat_minor": 4
}
