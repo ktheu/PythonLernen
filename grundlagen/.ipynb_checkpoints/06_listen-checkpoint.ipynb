{
 "cells": [
  {
   "cell_type": "markdown",
   "id": "28840670-6e96-4b8b-af75-7491df582c0f",
   "metadata": {},
   "source": [
    "### Listen\n",
    "\n",
    "In einer Liste könnnen wir mehrere Werte abspeichern.\n"
   ]
  },
  {
   "cell_type": "code",
   "execution_count": 106,
   "id": "53a8053c-bcc0-4dc2-802d-16b55147d56b",
   "metadata": {},
   "outputs": [],
   "source": [
    "a = []                           # leere Liste\n",
    "a = [1, 2, 3]                    # Liste mit 3 ints\n",
    "a = ['Montag', 'Dienstag']       # Länge zwei Strings"
   ]
  },
  {
   "cell_type": "markdown",
   "id": "6dda75ec-ebc3-4c4f-9a35-590cc8210b29",
   "metadata": {},
   "source": [
    "##### Indexing  \n",
    "\n",
    "Indexing wie bei Strings\n",
    "\n",
    "<img src='liste1.png' width='350'>\n"
   ]
  },
  {
   "cell_type": "code",
   "execution_count": 111,
   "id": "d176cbc2-b265-48f2-830f-8b37fca71f28",
   "metadata": {},
   "outputs": [
    {
     "name": "stdout",
     "output_type": "stream",
     "text": [
      "7 12 5 5 3\n"
     ]
    }
   ],
   "source": [
    "a = [7,12,1,5,0,3,5]\n",
    "x1 = a[0]          # erstes Element\n",
    "x2 = a[1]          # zweites Element\n",
    "x3 = a[len(a)-1]   # letztes Element\n",
    "x4 = a[-1]         # letztes Element\n",
    "x5 = a[-2]         # vorletztes Element\n",
    "print(x1, x2, x3, x4, x5) "
   ]
  },
  {
   "cell_type": "markdown",
   "id": "b48baed2-e46a-4ec5-a9c6-e504a540a5c8",
   "metadata": {},
   "source": [
    "Wir können über den Index die Elemente der Liste verändern. "
   ]
  },
  {
   "cell_type": "code",
   "execution_count": 112,
   "id": "e50902ba-5e7e-4da6-9791-9a70af5b2249",
   "metadata": {},
   "outputs": [
    {
     "name": "stdout",
     "output_type": "stream",
     "text": [
      "[9, 12, 1, 5, 0, 3, 5]\n"
     ]
    }
   ],
   "source": [
    "a[0] = 9\n",
    "print(a)"
   ]
  },
  {
   "cell_type": "markdown",
   "id": "0daa589b-8181-4ba7-acb7-02e54d90be1a",
   "metadata": {},
   "source": [
    "##### Slicing\n",
    "\n",
    "Der Index der bis-Zahl wird nicht mitgenommen. \n",
    "\n",
    "<img src='slicing.png' width='150'>"
   ]
  },
  {
   "cell_type": "code",
   "execution_count": 113,
   "id": "c79b38ae-ca3b-4e9c-8ad9-cf3e80381abc",
   "metadata": {},
   "outputs": [
    {
     "name": "stdout",
     "output_type": "stream",
     "text": [
      "[0, 1, 2] [5, 6, 7] [2, 3, 4, 5, 6, 7] [0, 1, 2, 3, 4, 5]\n"
     ]
    }
   ],
   "source": [
    "a = [0,1,2,3,4,5,6,7]\n",
    "a1 = a[:3]         # die ersten 3 Elemente  (von Index 0 bis ausschließlich Index 4)\n",
    "a2 = a[-3:]        # die letzten 3 Elemente\n",
    "a3 = a[2:]         # alles außer den ersten beiden Elementen\n",
    "a4 = a[:-2]        # alles außer den letzten beiden Elementen\n",
    "print(a1, a2, a3, a4)"
   ]
  },
  {
   "cell_type": "code",
   "execution_count": null,
   "id": "0e0018e6-2dc8-4080-a956-c522169a57ca",
   "metadata": {},
   "outputs": [],
   "source": [
    "a = [0,1,2,3,4,5,6,7]\n",
    "a1 = a[1:5]        # von Index 1 bis Index 5 (ausschließlich) - die Differenz der Parameter ist die Länge des Resultats\n",
    "print(a1)"
   ]
  },
  {
   "cell_type": "markdown",
   "id": "d03e63c9-4ef1-43ec-b9ad-438952f2ac71",
   "metadata": {},
   "source": [
    "##### Hinzufügen und Entfernen von Elementen\n"
   ]
  },
  {
   "cell_type": "code",
   "execution_count": null,
   "id": "7fcc98a6-8c8d-4340-a0b9-55eebc37fa2d",
   "metadata": {},
   "outputs": [],
   "source": [
    "a = [3,4,5,6,7]\n",
    "a.append(8)                      # hinzufügen\n",
    "print(a)"
   ]
  },
  {
   "cell_type": "code",
   "execution_count": null,
   "id": "a2dd9a29-7652-4ea9-9c72-5c5d6124d853",
   "metadata": {},
   "outputs": [],
   "source": [
    "a = [3,4,5,6,7]\n",
    "x = a.pop()                      # das letzte Element herausnehmen\n",
    "print(x,a)"
   ]
  },
  {
   "cell_type": "markdown",
   "id": "2b6ee168-56dc-45bc-a6a4-cfb72d9bdf3d",
   "metadata": {},
   "source": [
    "##### Ist Element in Liste?"
   ]
  },
  {
   "cell_type": "code",
   "execution_count": null,
   "id": "4b094be8-57a6-4bb4-a474-979af7d731bc",
   "metadata": {},
   "outputs": [],
   "source": [
    "a = [3, 4, 7, 2, 4, 8]\n",
    "print(4 in a)                         # ist Element in Liste?"
   ]
  },
  {
   "cell_type": "markdown",
   "id": "727ae842-966e-406c-aa39-2de2fc799593",
   "metadata": {},
   "source": [
    "##### Sortieren"
   ]
  },
  {
   "cell_type": "code",
   "execution_count": null,
   "id": "72463ad2-c920-4021-b7fa-53e0e772906c",
   "metadata": {},
   "outputs": [],
   "source": [
    "a = [3, 4, 7, 2, 8]\n",
    "a.sort()                               # a wird in-place sortiert            \n",
    "print(a)"
   ]
  },
  {
   "cell_type": "code",
   "execution_count": null,
   "id": "9966d1e2-7451-4558-90e4-9aaac502fe5e",
   "metadata": {},
   "outputs": [],
   "source": [
    "a = [3, 4, 7, 2, 8]\n",
    "a.sort(reverse=True)                   # absteigende Sortierung in-place           \n",
    "print(a)"
   ]
  },
  {
   "cell_type": "markdown",
   "id": "a7fa3328-4e99-4357-9dd4-8b387226629a",
   "metadata": {},
   "source": [
    "##### Alle Elemente einer Liste durchlaufen\n",
    "\n",
    "Zwei Arten, die Elemente einer Liste zu durchlaufen:"
   ]
  },
  {
   "cell_type": "code",
   "execution_count": null,
   "id": "58ee6a7b-3b45-44c0-8db0-eba98a1178e9",
   "metadata": {},
   "outputs": [],
   "source": [
    "# Die Laufvariable i geht über die Indizes der Liste\n",
    "a = [3, 4, 7, 2, 8]\n",
    "for i in range(len(a)):\n",
    "    print(a[i])"
   ]
  },
  {
   "cell_type": "code",
   "execution_count": null,
   "id": "31967bbe-86b5-416a-a4f9-7317ddde11ae",
   "metadata": {},
   "outputs": [],
   "source": [
    "# Die Laufvariable x geht über die Elemente der Liste\n",
    "a = [3, 4, 7, 2, 8]\n",
    "for x in a:\n",
    "    print(x)"
   ]
  },
  {
   "cell_type": "markdown",
   "id": "60647a6d-70ba-4069-ad7a-441b94e5ab60",
   "metadata": {},
   "source": [
    "##### Funktionen für Listen mit Zahlen "
   ]
  },
  {
   "cell_type": "code",
   "execution_count": 1,
   "id": "5b46352e-fc7d-4031-8cd8-4f9faf2e6d6f",
   "metadata": {},
   "outputs": [
    {
     "name": "stdout",
     "output_type": "stream",
     "text": [
      "9\n",
      "-5\n",
      "18\n"
     ]
    }
   ],
   "source": [
    "a = [4, 7, -5, 9, 3]\n",
    "print(max(a))        # Maximum\n",
    "print(min(a))        # Minimum \n",
    "print(sum(a))        # Summe, falls Elemente Zahlen"
   ]
  },
  {
   "cell_type": "markdown",
   "id": "917d7abf-9307-464a-badc-2a82fd3c9479",
   "metadata": {},
   "source": [
    "##### split \n",
    "\n",
    "Mit der Methode *split* können wir einen String in eine Liste seiner mit Leerzeichen getrennten Teile umwandeln. "
   ]
  },
  {
   "cell_type": "code",
   "execution_count": 2,
   "id": "8b419c29-9329-4827-a932-79d9f908da75",
   "metadata": {},
   "outputs": [
    {
     "name": "stdout",
     "output_type": "stream",
     "text": [
      "['Dies', 'ist', 'ein', 'Satz']\n"
     ]
    }
   ],
   "source": [
    "s = 'Dies ist ein Satz'\n",
    "a = s.split()\n",
    "print(a)"
   ]
  },
  {
   "cell_type": "markdown",
   "id": "cd186735-61d3-49e7-8c17-6faa33d0dc2b",
   "metadata": {},
   "source": [
    "##### List-Comprehensions\n",
    "\n",
    "List-Comprehensions sind spezielle Anweisungen, mit denen auf kompakte Art eine Liste erzeugt werden kann.\n"
   ]
  },
  {
   "cell_type": "code",
   "execution_count": 3,
   "id": "5f56d101-8c87-45cf-b845-1aa926708c8a",
   "metadata": {},
   "outputs": [
    {
     "name": "stdout",
     "output_type": "stream",
     "text": [
      "[1, 4, 9, 16, 25, 36, 49, 64, 81]\n"
     ]
    }
   ],
   "source": [
    "# Quadratzahlen ohne Comprehension\n",
    "a = []\n",
    "for x in range(1,10):\n",
    "    a.append(x*x)\n",
    "print(a)"
   ]
  },
  {
   "cell_type": "code",
   "execution_count": 95,
   "id": "b5e1c51f-932a-428b-a405-454aa284983f",
   "metadata": {},
   "outputs": [
    {
     "name": "stdout",
     "output_type": "stream",
     "text": [
      "[1, 4, 9, 16, 25, 36, 49, 64, 81]\n"
     ]
    }
   ],
   "source": [
    "# Quadratzahlen mit Comprehension\n",
    "a = [x*x for x in range(1,10)]\n",
    "print(a)"
   ]
  },
  {
   "cell_type": "markdown",
   "id": "0a678c73-93ac-446d-9415-6e84249f87d5",
   "metadata": {},
   "source": [
    "Wir können an die Elemente, die wir in die Liste übernehmen, eine Bedingung stellen."
   ]
  },
  {
   "cell_type": "code",
   "execution_count": 4,
   "id": "e086fb49-a52c-4a11-836f-70d21af2bcf0",
   "metadata": {},
   "outputs": [
    {
     "name": "stdout",
     "output_type": "stream",
     "text": [
      "[6, 24, 18]\n"
     ]
    }
   ],
   "source": [
    "a = [3, 4, 8, 12, 9, 10, 11]\n",
    "b = [2*x for x in a if x % 3 == 0]    # das Doppelte aller Elemente aus a, die durch 3 teilbar sind\n",
    "print(b)"
   ]
  },
  {
   "cell_type": "markdown",
   "id": "aa4075cf-90f5-453c-9b80-4f3a808becb8",
   "metadata": {},
   "source": [
    "Häufige Anwendung: Einen String mit Zahlen in eine Liste mit Zahlen umwandeln."
   ]
  },
  {
   "cell_type": "code",
   "execution_count": 116,
   "id": "4dbfc460-dee5-41cf-90af-1518a1e2ba9e",
   "metadata": {},
   "outputs": [
    {
     "name": "stdin",
     "output_type": "stream",
     "text": [
      "Bitte mit Leerzeichen getrennt ein paar ganze Zahlen eingeben: 4 54 2 33 23\n"
     ]
    },
    {
     "name": "stdout",
     "output_type": "stream",
     "text": [
      "[4, 54, 2, 33, 23]\n"
     ]
    }
   ],
   "source": [
    "eingabe = input('Bitte mit Leerzeichen getrennt ein paar ganze Zahlen eingeben:')\n",
    "a = [int(x) for x in eingabe.split()]\n",
    "print(a)"
   ]
  }
 ],
 "metadata": {
  "kernelspec": {
   "display_name": "Python 3 (ipykernel)",
   "language": "python",
   "name": "python3"
  },
  "language_info": {
   "codemirror_mode": {
    "name": "ipython",
    "version": 3
   },
   "file_extension": ".py",
   "mimetype": "text/x-python",
   "name": "python",
   "nbconvert_exporter": "python",
   "pygments_lexer": "ipython3",
   "version": "3.12.8"
  }
 },
 "nbformat": 4,
 "nbformat_minor": 5
}
