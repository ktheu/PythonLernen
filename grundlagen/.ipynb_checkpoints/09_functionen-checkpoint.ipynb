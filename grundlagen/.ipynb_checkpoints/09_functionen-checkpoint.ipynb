{
 "cells": [
  {
   "cell_type": "markdown",
   "id": "b5416bed-bc9b-4f13-8051-26995a93b190",
   "metadata": {},
   "source": [
    "### Funktionen\n",
    "\n",
    "In Funktionen fassen wir Codeabschnitte zu einer Einheit zusammen.\n",
    "\n",
    "![](bild1.png)  "
   ]
  },
  {
   "cell_type": "code",
   "execution_count": 13,
   "id": "f9d182bb-3ab2-4c18-ac3b-628654ce9e80",
   "metadata": {},
   "outputs": [],
   "source": [
    "def calc(x, y):\n",
    "    z = x + y\n",
    "    z = 3*z + 1\n",
    "    return z"
   ]
  },
  {
   "cell_type": "code",
   "execution_count": 14,
   "id": "ab3655fc-ec1c-4c99-86fa-17039504b741",
   "metadata": {},
   "outputs": [
    {
     "name": "stdout",
     "output_type": "stream",
     "text": [
      "19\n"
     ]
    }
   ],
   "source": [
    "a = calc(2,4)\n",
    "print(a)"
   ]
  },
  {
   "cell_type": "markdown",
   "id": "3f954184-a590-4519-9d24-b372c9548bf9",
   "metadata": {},
   "source": [
    "\n",
    "\n",
    "In einem *docstring*  können wir beschreiben, wie die Funktion aufgerufen wird und was sie zurückgibt.\n"
   ]
  },
  {
   "cell_type": "code",
   "execution_count": 11,
   "id": "e193797f-260e-4eee-b488-6b5ceebb4ad8",
   "metadata": {},
   "outputs": [],
   "source": [
    "def zeichen(k, s):       \n",
    "    '''\n",
    "    k: positive ganze Zahl, s: String \n",
    "    returns: k mal den String s\n",
    "\n",
    "    >>> zeichen(5, 'x')\n",
    "    'xxxxx'\n",
    "\n",
    "    >>> zeichen(3, 'ha')\n",
    "    'hahaha'\n",
    "    '''\n",
    "    return k * s"
   ]
  },
  {
   "cell_type": "code",
   "execution_count": 12,
   "id": "59d1801d-ff34-411f-851f-c1bd2b29a2f7",
   "metadata": {},
   "outputs": [
    {
     "name": "stdout",
     "output_type": "stream",
     "text": [
      "hahaha\n"
     ]
    }
   ],
   "source": [
    "s = zeichen(3,'ha')\n",
    "print(s)"
   ]
  },
  {
   "cell_type": "code",
   "execution_count": 16,
   "id": "3bcd0bd3-8b66-499d-ac2d-3643b5fb1752",
   "metadata": {},
   "outputs": [],
   "source": [
    "def div(x, y):\n",
    "    '''\n",
    "    x, y: zwei positive Zahlen\n",
    "    returns: die kleinere dividiert durch die größere Zahl\n",
    "\n",
    "    >>> div(5, 10)\n",
    "    0.5\n",
    "\n",
    "    >>> div(8, 2)\n",
    "    0.25\n",
    "\n",
    "    >>> div(4, 4)\n",
    "    1.0\n",
    "    '''\n",
    "    if x < y:\n",
    "        return x/y\n",
    "    else:\n",
    "        return y/x"
   ]
  },
  {
   "cell_type": "code",
   "execution_count": 17,
   "id": "0b0083b8-750b-4db2-8f86-68e931fda4be",
   "metadata": {},
   "outputs": [
    {
     "name": "stdout",
     "output_type": "stream",
     "text": [
      "0.75\n"
     ]
    }
   ],
   "source": [
    "x = div(20,15)\n",
    "print(x)"
   ]
  },
  {
   "cell_type": "code",
   "execution_count": 18,
   "id": "f271244d-bc15-4c69-ada3-016ec72f1d5e",
   "metadata": {},
   "outputs": [],
   "source": [
    "def zeit_in_minuten(stunden, minuten):\n",
    "    ''' returns: die Gesamtzeit in minuten \n",
    "    \n",
    "    >>> zeit_in_minuten(1,30)\n",
    "    90 \n",
    "    >>> zeit_in_minuten(2,15)\n",
    "    135    \n",
    "    '''\n",
    "    return stunden*60 + minuten    "
   ]
  },
  {
   "cell_type": "code",
   "execution_count": 19,
   "id": "7a0566ad-f969-4e34-822f-76562d511adf",
   "metadata": {},
   "outputs": [
    {
     "name": "stdout",
     "output_type": "stream",
     "text": [
      "135\n"
     ]
    }
   ],
   "source": [
    "x = zeit_in_minuten(2,15)\n",
    "print(x)"
   ]
  },
  {
   "cell_type": "code",
   "execution_count": 20,
   "id": "01796f6f-26a8-4efe-80b8-e231f4e5e2a4",
   "metadata": {},
   "outputs": [],
   "source": [
    "def mittelwert(a):\n",
    "    ''' a: Liste mit Zahlen\n",
    "    returns: den Mittelwert der Zahlen\n",
    "    \n",
    "    >>> mittelwert([10, 20])\n",
    "    15.0\n",
    "    '''\n",
    "    return sum(a)/len(a)"
   ]
  },
  {
   "cell_type": "code",
   "execution_count": 21,
   "id": "4ee83333-9c19-401c-b610-64fc025f4b7d",
   "metadata": {},
   "outputs": [
    {
     "name": "stdout",
     "output_type": "stream",
     "text": [
      "15.0\n"
     ]
    }
   ],
   "source": [
    "a = [10, 20]\n",
    "x = mittelwert(a)\n",
    "print(x)"
   ]
  }
 ],
 "metadata": {
  "kernelspec": {
   "display_name": "Python 3 (ipykernel)",
   "language": "python",
   "name": "python3"
  },
  "language_info": {
   "codemirror_mode": {
    "name": "ipython",
    "version": 3
   },
   "file_extension": ".py",
   "mimetype": "text/x-python",
   "name": "python",
   "nbconvert_exporter": "python",
   "pygments_lexer": "ipython3",
   "version": "3.12.8"
  }
 },
 "nbformat": 4,
 "nbformat_minor": 5
}
