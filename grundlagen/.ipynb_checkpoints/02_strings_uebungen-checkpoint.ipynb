{
 "cells": [
  {
   "cell_type": "markdown",
   "id": "01b604a9-4dd6-4b9f-9cc9-045d2d1be143",
   "metadata": {},
   "source": [
    "### Strings (Teil 1), Input, f-Strings - Aufgaben"
   ]
  },
  {
   "cell_type": "code",
   "execution_count": null,
   "id": "73b8ff69-2953-489b-895c-b9d1754614fd",
   "metadata": {},
   "outputs": [],
   "source": [
    "''' A1\n",
    "Erstelle drei Variablen a, b, c mit den Inhalten 'Heute', 'ist', 'Montag'\n",
    "Erstelle dann durch Aneinanderpappen mit a, b, c eine Variable satz mit dem Inhalt 'Heute ist Montag.'\n",
    "Gib die Variable satz aus.\n",
    "\n",
    "Erwartete Ausgabe (Punkt am Ende nicht vergessen):\n",
    "Heute ist Montag.\n",
    "'''\n",
    "#your code"
   ]
  },
  {
   "cell_type": "markdown",
   "id": "38d7a522-2050-49ae-a87c-5e14fa621e89",
   "metadata": {},
   "source": [
    "    Das Leben kommt\n",
    "    auf alle Fälle\n",
    "    aus einer Zelle.\n",
    "    Doch manchmal\n",
    "    endets auch\n",
    "    - bei Strolchen -\n",
    "    in einer solchen.'"
   ]
  },
  {
   "cell_type": "code",
   "execution_count": null,
   "id": "93e9d92d-f62e-49f8-b703-0dc74df3bd0b",
   "metadata": {},
   "outputs": [],
   "source": [
    "''' A2\n",
    "Speichere das Gedicht oben in der Variablen zelle.\n",
    "Gib zelle aus.\n",
    "\n",
    "Erwartete Ausgabe:\n",
    "\n",
    "Das Leben kommt\n",
    "auf alle Fälle\n",
    "aus einer Zelle.\n",
    "Doch manchmal\n",
    "endets auch\n",
    "- bei Strolchen -\n",
    "in einer solchen.\n",
    "'''\n",
    "# your code\n"
   ]
  },
  {
   "cell_type": "code",
   "execution_count": null,
   "id": "79e462d6-50f5-4500-aed5-8e26c65c1401",
   "metadata": {},
   "outputs": [],
   "source": [
    "''' A3\n",
    "Setze a auf 3 und b auf 1.\n",
    "Gib dann mit einem f-String unter Verwendung der \n",
    "Variablen a und b die erwartete Ausgabe aus.\n",
    "\n",
    "Erwartete Ausgabe:\n",
    "Endstand 3:1.\n",
    "'''\n",
    "# your code"
   ]
  },
  {
   "cell_type": "code",
   "execution_count": null,
   "id": "fe836afc-b5ea-4d48-8633-a18b8413b20b",
   "metadata": {},
   "outputs": [],
   "source": [
    "''' A4\n",
    "Lies einen Wochentag für den folgenden Dialog ein.\n",
    "Nutze einen f-String.\n",
    "\n",
    "Beispieldialog:\n",
    "\n",
    "Welcher Tag ist heute? Montag\n",
    "Einen schönen Montag.\n",
    "'''\n",
    "# your code"
   ]
  },
  {
   "cell_type": "code",
   "execution_count": null,
   "id": "08f61114-e93b-4103-8377-4e838faf2475",
   "metadata": {},
   "outputs": [],
   "source": [
    "''' A5\n",
    "Lies zwei ganze Zahlen für folgenden Dialog ein.\n",
    "\n",
    "Beispieldialog:\n",
    "\n",
    "Bitte eine ganze Zahl eingeben: 14\n",
    "Bitte noch eine ganze Zahl eingeben: 15\n",
    "Die Summe von 14 und 15 ist 29.\n",
    "Das Produkt von 14 und 15 ist 210.\n",
    "'''\n",
    "# your code\n"
   ]
  }
 ],
 "metadata": {
  "kernelspec": {
   "display_name": "Python 3 (ipykernel)",
   "language": "python",
   "name": "python3"
  },
  "language_info": {
   "codemirror_mode": {
    "name": "ipython",
    "version": 3
   },
   "file_extension": ".py",
   "mimetype": "text/x-python",
   "name": "python",
   "nbconvert_exporter": "python",
   "pygments_lexer": "ipython3",
   "version": "3.12.8"
  }
 },
 "nbformat": 4,
 "nbformat_minor": 5
}
