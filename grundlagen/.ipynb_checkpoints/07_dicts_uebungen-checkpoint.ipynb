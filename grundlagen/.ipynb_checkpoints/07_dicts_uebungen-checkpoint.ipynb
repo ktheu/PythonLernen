{
 "cells": [
  {
   "cell_type": "markdown",
   "id": "4facc12d-2702-4f2c-9e6d-fa7fa1d3d080",
   "metadata": {},
   "source": [
    "### Dictionaries - Übungen\n"
   ]
  },
  {
   "cell_type": "code",
   "execution_count": null,
   "id": "ebee1071-cb53-4e2a-9742-c8d985b3d457",
   "metadata": {},
   "outputs": [],
   "source": [
    "''' A1\n",
    "Erstelle ein dict m, dass jeder Zahl in Zeile1, die Zahl zuordnet, \n",
    "die unter ihr steht.\n",
    "\n",
    "Zeile1:   3  10  101  25  17\n",
    "         19   4   -4  99  17\n",
    "\n",
    "Gib dann den Wert aus, der dem key 101 zugeordnet ist.\n",
    "\n",
    "Erwartete Ausgabe:\n",
    "-4\n",
    "'''\n",
    "# your code"
   ]
  },
  {
   "cell_type": "code",
   "execution_count": null,
   "id": "88efe70c-b211-4695-9d39-b67c8b62adbb",
   "metadata": {},
   "outputs": [],
   "source": [
    "''' A2\n",
    "Erstelle ein dict m, dass den Ländern 'England', 'Frankreich' und 'Italien'\n",
    "ihre Hauptstädte zuordnet. Gib die Länge von m aus.\n",
    "Gib dann nacheinander die values für die keys\n",
    "'England', 'Frankreich' und 'Italien' aus.\n",
    "\n",
    "Erwartete Ausgabe:\n",
    "3\n",
    "London\n",
    "Paris\n",
    "Rom\n",
    "'''\n",
    "# your code"
   ]
  },
  {
   "cell_type": "code",
   "execution_count": null,
   "id": "891072fc-2d4e-4b2c-a79c-83564a566c92",
   "metadata": {},
   "outputs": [],
   "source": [
    "''' A3\n",
    "Ändere das Zeichen, das der 2 im dict m zugeordnet ist, auf 'k'.\n",
    "Füge ein neues key-value Paar hinzu: Der Zahl 4 soll 'd' zugeordnet werden.\n",
    "Gib m aus.\n",
    "\n",
    "Erwartete Ausgabe:\n",
    "{1: 'a', 2: 'k', 3: 'c', 4: 'd'}\n",
    "'''\n",
    "m = {1: 'a', 2: 'b', 3: 'c'}\n",
    "# your code"
   ]
  },
  {
   "cell_type": "code",
   "execution_count": null,
   "id": "74d61c72-c035-4af7-ad85-9221a53100bd",
   "metadata": {},
   "outputs": [],
   "source": [
    "''' A4\n",
    "Lies in einer Schleife immer wieder ein Wort, dann eine Zahl ein\n",
    "und füge Wort und Zahl als key-value Paar in ein dict m ein.\n",
    "Verlasse die Schleife bei Eingabe von x und gib m aus.\n",
    "\n",
    "Beispieldialog:\n",
    "\n",
    "Bitte erst Wort, dann Zahl eingeben (x = Ende)\n",
    "Wort:  Hallo\n",
    "Zahl:  5\n",
    "Wort:  Montag\n",
    "Zahl:  3\n",
    "Wort:  Dienstag\n",
    "Zahl:  9\n",
    "Wort:  x\n",
    "{'Hallo': 5, 'Montag': 3, 'Dienstag': 9}\n",
    "'''\n",
    "# your code         \n",
    "    \n"
   ]
  },
  {
   "cell_type": "code",
   "execution_count": null,
   "id": "b7a4ff46-523e-40d8-8324-0a6781c7d799",
   "metadata": {},
   "outputs": [],
   "source": [
    "''' A5\n",
    "Lies eine String s ein.\n",
    "Erstelle daraus ein dictionary, das jedem vorkommenden Zeichen den Wert 1 zuordnet. \n",
    "Gib das dict dann aus.\n",
    "\n",
    "Beispieldialoge:\n",
    "\n",
    "Bitte eine String eingeben: Hallo\n",
    "{'H': 1, 'a': 1, 'l': 1, 'o': 1}\n",
    "\n",
    "Bitte eine String eingeben: R2D2\n",
    "{'R': 1, '2': 1, 'D': 1}\n",
    "\n",
    "'''\n",
    "# your code\n",
    " \n"
   ]
  },
  {
   "cell_type": "code",
   "execution_count": null,
   "id": "718bb24a-3c57-4bac-930f-16afc652b03e",
   "metadata": {},
   "outputs": [],
   "source": [
    "''' A6\n",
    "Lies zwei Strings s1 und s2 ein.\n",
    "Erstelle daraus ein dictionary, das jedem Zeichen in s1 und s2 zuordnet, in wievielen Strings es vorkommt (1 oder 2)\n",
    "Gib dann m aus.\n",
    "\n",
    "Beispieldialog:\n",
    "\n",
    "Bitte eine String s1 eingeben: Hallo\n",
    "Bitte eine String s2 eingeben: Mario\n",
    "{'H': 1, 'a': 2, 'l': 1, 'o': 2, 'M': 1, 'r': 1, 'i': 1}\n",
    "\n",
    "'''\n",
    "# your code"
   ]
  }
 ],
 "metadata": {
  "kernelspec": {
   "display_name": "Python 3 (ipykernel)",
   "language": "python",
   "name": "python3"
  },
  "language_info": {
   "codemirror_mode": {
    "name": "ipython",
    "version": 3
   },
   "file_extension": ".py",
   "mimetype": "text/x-python",
   "name": "python",
   "nbconvert_exporter": "python",
   "pygments_lexer": "ipython3",
   "version": "3.12.8"
  }
 },
 "nbformat": 4,
 "nbformat_minor": 5
}
