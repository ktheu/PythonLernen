{
 "cells": [
  {
   "cell_type": "markdown",
   "id": "158a07ee-a0d5-46f2-bb5c-1854f4bc289e",
   "metadata": {},
   "source": [
    "### Funktionen Übungen\n",
    "\n",
    "[Video](https://youtu.be/tbwsrpnwDT8)"
   ]
  },
  {
   "cell_type": "code",
   "execution_count": 1,
   "id": "2aa70f6b-51c3-4316-82b5-81b63368304f",
   "metadata": {},
   "outputs": [],
   "source": [
    "''' A1\n",
    "Schreibe eine Funktion 'gerade' die überprüft, ob eine Zahl gerade ist.\n",
    "\n",
    ">>> gerade(12)\n",
    "True\n",
    ">>> gerade(11)\n",
    "False\n",
    "'''\n",
    "# your code \n"
   ]
  },
  {
   "cell_type": "code",
   "execution_count": 6,
   "id": "0e64b62d-8dad-4f37-95f6-d7a789024457",
   "metadata": {},
   "outputs": [],
   "source": [
    "''' A2\n",
    "Schreibe eine Funktion 'umfang' mit den Parametern breite und hoehe, die den Umfang eines Rechtecks berechnet.\n",
    "\n",
    ">>> umfang(1, 3)\n",
    "8\n",
    ">>> gerade(1, 1)\n",
    "4\n",
    "\n",
    "'''\n",
    "# your code"
   ]
  },
  {
   "cell_type": "code",
   "execution_count": 12,
   "id": "8b3d1d68-a5d9-4fd0-9a9f-786085862f7c",
   "metadata": {},
   "outputs": [],
   "source": [
    "''' A3\n",
    "Schreibe eine Funktion 'tausche' mit einem Parameter t für ein Tuple mit 2 Elementen, die ein Tuple\n",
    "zurückgibt, bei dem die Reihenfolge der Elemente vertauscht ist.\n",
    "\n",
    ">>> tausche((1,4))\n",
    "(4,1)\n",
    ">>> tausche((1,0))\n",
    "(0, 1)\n",
    "'''\n",
    "# your code\n"
   ]
  },
  {
   "cell_type": "code",
   "execution_count": 14,
   "id": "5f244a6a-981d-49c1-a163-6ab5206cd9e8",
   "metadata": {},
   "outputs": [],
   "source": [
    "''' A4\n",
    "Schreibe eine Funktion 'volumen_quader' mit den Parametern breite, hoehe, tiefe,\n",
    "die das Volumen eines Quaders zurückgibt.\n",
    "\n",
    ">>> volumen_quader(2,3,4)\n",
    "24\n",
    "'''\n",
    "# your code"
   ]
  },
  {
   "cell_type": "code",
   "execution_count": 25,
   "id": "0d19b813-add9-4de7-9315-c66625060878",
   "metadata": {},
   "outputs": [],
   "source": [
    "''' A5\n",
    "Schreibe eine Funktion 'celsius_zu_fahrenheit', die Celsius in Fahrenheit umrechnet.\n",
    "Die Formel dafür ist:  F = C * 9/5 + 32.\n",
    "\n",
    ">>> celsius_zu_fahrenheit(0)\n",
    "32.0\n",
    "\n",
    ">>> celsius_zu_fahrenheit(100)\n",
    "212.0\n",
    "'''\n",
    "# your code\n"
   ]
  }
 ],
 "metadata": {
  "kernelspec": {
   "display_name": "Python 3 (ipykernel)",
   "language": "python",
   "name": "python3"
  },
  "language_info": {
   "codemirror_mode": {
    "name": "ipython",
    "version": 3
   },
   "file_extension": ".py",
   "mimetype": "text/x-python",
   "name": "python",
   "nbconvert_exporter": "python",
   "pygments_lexer": "ipython3",
   "version": "3.12.8"
  }
 },
 "nbformat": 4,
 "nbformat_minor": 5
}
