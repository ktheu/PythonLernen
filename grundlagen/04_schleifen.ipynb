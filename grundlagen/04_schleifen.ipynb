{
 "cells": [
  {
   "cell_type": "markdown",
   "id": "0f32291c-a118-433c-865a-8a94137870f6",
   "metadata": {},
   "source": [
    "### Schleifen\n",
    "\n",
    "[Video](https://youtu.be/CJ7HYf3bMA8)\n",
    "\n",
    "#### while-Schleife\n",
    "\n",
    "Der Rumpf der while-Schleife wird solange durchlaufen, bis die while-Bedingung sich zu False auswertet. "
   ]
  },
  {
   "cell_type": "code",
   "execution_count": 1,
   "id": "0ebd87ef-ffed-4f71-822b-a3e77323eaca",
   "metadata": {},
   "outputs": [
    {
     "name": "stdout",
     "output_type": "stream",
     "text": [
      "10\n",
      "8\n",
      "6\n",
      "4\n",
      "End\n"
     ]
    }
   ],
   "source": [
    "x = 10\n",
    "while x >= 4:\n",
    "    print(x)\n",
    "    x -= 2\n",
    "print(\"End\")"
   ]
  },
  {
   "cell_type": "markdown",
   "id": "bc6c5adb-3b46-49c1-84cd-4648053ba062",
   "metadata": {},
   "source": [
    "### Die for-Schleife mit range()\n",
    "\n",
    "Die Funktion range() liefert Aufzählungen von ganzen Zahlen und kann ein, zwei oder drei Parameter erhalten."
   ]
  },
  {
   "cell_type": "code",
   "execution_count": 3,
   "id": "c9502a4a-f411-418a-bc90-68679360ef1d",
   "metadata": {},
   "outputs": [
    {
     "name": "stdout",
     "output_type": "stream",
     "text": [
      "0\n",
      "1\n",
      "2\n",
      "3\n",
      "4\n"
     ]
    }
   ],
   "source": [
    "# der Bereich beginnt bei 0, endet bei 5 (5 ist ausgeschlossen)\n",
    "for k in range(5):\n",
    "    print(k)"
   ]
  },
  {
   "cell_type": "code",
   "execution_count": 4,
   "id": "e3a3bd12-60dc-4143-bcfb-0c66d57dbb0b",
   "metadata": {},
   "outputs": [
    {
     "name": "stdout",
     "output_type": "stream",
     "text": [
      "2\n",
      "3\n",
      "4\n"
     ]
    }
   ],
   "source": [
    "# der Bereich beginnt bei 2, endet bei 5 (5 ist ausgeschlossen)\n",
    "for i in range(2, 5):\n",
    "    print(i)"
   ]
  },
  {
   "cell_type": "code",
   "execution_count": 5,
   "id": "899bc4e6-792f-4004-a462-52ba223e1a04",
   "metadata": {},
   "outputs": [
    {
     "name": "stdout",
     "output_type": "stream",
     "text": [
      "3\n",
      "5\n",
      "7\n"
     ]
    }
   ],
   "source": [
    "# der Bereich beginnt bei 3, endet bei 9 (9 ist ausgeschlossen) mit Schrittweite 2\n",
    "for i in range(3, 9, 2):\n",
    "    print(i)"
   ]
  },
  {
   "cell_type": "code",
   "execution_count": null,
   "id": "1947460d-6c7e-4678-bdc9-7e6d9a2356ff",
   "metadata": {},
   "outputs": [],
   "source": [
    "# der Bereich beginnt bei 5, endet bei -1 (-1 ist ausgeschlossen) mit Schrittweite -1\n",
    "for i in range(5, -1, -1):\n",
    "    print(i)"
   ]
  },
  {
   "cell_type": "code",
   "execution_count": 6,
   "id": "e1de604d-459b-4219-93ae-33e5d85a585b",
   "metadata": {},
   "outputs": [
    {
     "name": "stdout",
     "output_type": "stream",
     "text": [
      "Die Summe aller ungeraden Zahlen von 1 bis 100 ist: 2500\n"
     ]
    }
   ],
   "source": [
    "# Berechne die Summe aller ungeraden Zahlen von 1 bis 100:\n",
    "summe = 0\n",
    "for i in range(1, 100, 2):\n",
    "    summe += i\n",
    "print(f\"Die Summe aller ungeraden Zahlen von 1 bis 100 ist: {summe}\")"
   ]
  },
  {
   "cell_type": "code",
   "execution_count": null,
   "id": "be883d1f-9de4-41bb-b7f5-07ca7f2d9008",
   "metadata": {},
   "outputs": [
    {
     "name": "stdout",
     "output_type": "stream",
     "text": [
      "Multiplikationstabelle für 7:\n",
      " 1 × 7 =  7\n",
      " 2 × 7 = 14\n",
      " 3 × 7 = 21\n",
      " 4 × 7 = 28\n",
      " 5 × 7 = 35\n",
      " 6 × 7 = 42\n",
      " 7 × 7 = 49\n",
      " 8 × 7 = 56\n",
      " 9 × 7 = 63\n",
      "10 × 7 = 70\n"
     ]
    }
   ],
   "source": [
    "# Erstelle für eine Zahl n eine Multiplikationstabelle von 1..10\n",
    "n = int(input('Bitte eine Zahl von 1-10 eingeben'))\n",
    "print(f\"Multiplikationstabelle für {n}:\")\n",
    "for i in range(1, 11):\n",
    "    ergebnis = n * i\n",
    "    print(f\"{i:2} × {n} = {ergebnis:2}\")"
   ]
  },
  {
   "cell_type": "markdown",
   "id": "d70b590a-42a4-46d7-9cd9-a069debf0c20",
   "metadata": {},
   "source": [
    "**Faustregel:** For-Schleifen nutzen wir meist dann, wenn die Anzahl der Schleifendurchgänge bekannt ist, andernfalls nutzen wir while-Schleifen."
   ]
  },
  {
   "cell_type": "markdown",
   "id": "ac9f426d-6584-41ab-aaa5-50dd3417c6f8",
   "metadata": {},
   "source": [
    "### break und continue\n",
    "\n",
    "Mit *break* verlassen wir eine Schleife und setzen den Ablauf hinter der Schleife fort. Mit *continue* hören mit dem laufenden Schleifendurchgang auf und beginnen den nächsten Schleifendurchgang. *break* und *continue* können nur in Schleifen verwendete werden."
   ]
  },
  {
   "cell_type": "code",
   "execution_count": null,
   "id": "052ffe9d-3423-44ef-8245-3f04ec5cb49c",
   "metadata": {},
   "outputs": [],
   "source": [
    "x = 2\n",
    "while True:\n",
    "    print(x)\n",
    "    if x == 4: \n",
    "        break\n",
    "    x+=1\n",
    "print('End')"
   ]
  },
  {
   "cell_type": "code",
   "execution_count": null,
   "id": "14ff2cc6-49fe-4ba4-8a57-87c92a72fb0d",
   "metadata": {},
   "outputs": [],
   "source": [
    "for i in range(8):\n",
    "    if i % 2 == 0: \n",
    "        continue\n",
    "    print(i)\n",
    "    "
   ]
  },
  {
   "cell_type": "code",
   "execution_count": null,
   "id": "dfa46dd4-e458-45e0-8bfd-cfbd82514b03",
   "metadata": {},
   "outputs": [],
   "source": [
    "# Wir beginnen bei 1000 und suchen nach der ersten Zahl, die durch 213 teilbar ist\n",
    "x = 1000\n",
    "while True:  # Endlosschleife\n",
    "    if x % 213 == 0:\n",
    "        print(x)\n",
    "        break  \n",
    "    x+=1"
   ]
  },
  {
   "cell_type": "code",
   "execution_count": null,
   "id": "19a806c4-f3ce-443f-b6c2-b99b0ed9d9c5",
   "metadata": {},
   "outputs": [
    {
     "name": "stdout",
     "output_type": "stream",
     "text": [
      " 5\n",
      " 2\n",
      " 10\n",
      " -3\n",
      " x\n"
     ]
    },
    {
     "name": "stdout",
     "output_type": "stream",
     "text": [
      "Die Summe aller eingegebenen Zahlen ist 14\n"
     ]
    }
   ],
   "source": [
    "# Die Schleife läuft, bis der Benutzer 'x' eingibt\n",
    "print('Gib nacheinander Zahlen ein (x für Ende)')\n",
    "summe = 0\n",
    "while True:\n",
    "    eingabe = input()\n",
    "    if eingabe == 'x':\n",
    "        break\n",
    "    summe = summe + int(eingabe)\n",
    "print(f'Die Summe aller eingegebenen Zahlen ist {summe}')\n",
    "     "
   ]
  },
  {
   "cell_type": "code",
   "execution_count": null,
   "id": "05203ae6-b147-4888-a520-aa531cb12978",
   "metadata": {},
   "outputs": [],
   "source": [
    "# Gibt alle Zahlen von 1 bis 10 aus, außer 3 und 7\n",
    "for i in range(1, 11):\n",
    "    if i == 3 or i == 7:\n",
    "        continue  # Überspringt die Ausgabe für 3 und 7\n",
    "    print(i)"
   ]
  },
  {
   "cell_type": "code",
   "execution_count": null,
   "id": "2f547f7f-7c09-4df6-95fd-aec035c7c6ce",
   "metadata": {},
   "outputs": [],
   "source": []
  }
 ],
 "metadata": {
  "kernelspec": {
   "display_name": "Python 3 (ipykernel)",
   "language": "python",
   "name": "python3"
  },
  "language_info": {
   "codemirror_mode": {
    "name": "ipython",
    "version": 3
   },
   "file_extension": ".py",
   "mimetype": "text/x-python",
   "name": "python",
   "nbconvert_exporter": "python",
   "pygments_lexer": "ipython3",
   "version": "3.12.8"
  }
 },
 "nbformat": 4,
 "nbformat_minor": 5
}
