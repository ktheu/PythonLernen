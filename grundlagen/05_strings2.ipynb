{
 "cells": [
  {
   "cell_type": "markdown",
   "id": "347b6a2d-c7df-4aaa-aaef-0556eecfaefa",
   "metadata": {},
   "source": [
    "### Strings 2\n",
    "\n",
    "##### Leerer String"
   ]
  },
  {
   "cell_type": "code",
   "execution_count": 1,
   "id": "c06e679c-5143-436c-932f-6b08f0e68d52",
   "metadata": {},
   "outputs": [
    {
     "name": "stdout",
     "output_type": "stream",
     "text": [
      "\n",
      "0\n"
     ]
    }
   ],
   "source": [
    "s = ''\n",
    "print(s)\n",
    "print(len(s))"
   ]
  },
  {
   "cell_type": "markdown",
   "id": "c1a38b60-e3e5-4c15-9e31-31bd8f9d5e8a",
   "metadata": {},
   "source": [
    "##### Vervielfachen"
   ]
  },
  {
   "cell_type": "code",
   "execution_count": 3,
   "id": "75f9e75d-1e55-4a1f-bce5-adcd6c06c9bb",
   "metadata": {},
   "outputs": [
    {
     "name": "stdout",
     "output_type": "stream",
     "text": [
      "HaHaHa\n"
     ]
    }
   ],
   "source": [
    "s = 'Ha' \n",
    "s1 = s * 3        # Vervielfachen\n",
    "print(s1)"
   ]
  },
  {
   "cell_type": "markdown",
   "id": "6e9284c6-5a25-4e59-a55b-ae35f70262cc",
   "metadata": {},
   "source": [
    "##### Indexing\n",
    "\n",
    "Jedes Zeichen eines Strings hat zwei Indizes: von vorne gezählt: postiv beginnend bei 0, von hinten gezählt: negativ beginnend bei -1.\n",
    "\n",
    "<img src='habicht.png' width='300'>"
   ]
  },
  {
   "cell_type": "code",
   "execution_count": 4,
   "id": "902b0aad-172a-4c46-bad5-166594d6bb05",
   "metadata": {},
   "outputs": [
    {
     "name": "stdout",
     "output_type": "stream",
     "text": [
      "H a t t h\n"
     ]
    }
   ],
   "source": [
    "s = 'Habicht'\n",
    "c1 = s[0]          # erstes Zeichen\n",
    "c2 = s[1]          # zweites Zeichen\n",
    "c3 = s[len(s)-1]   # letztes Zeichen\n",
    "c4 = s[-1]         # letztes Zeichen\n",
    "c5 = s[-2]         # vorletztes Zeichen\n",
    "print(c1, c2, c3, c4, c5) "
   ]
  },
  {
   "cell_type": "markdown",
   "id": "b1355478-e68a-4944-8f4e-554f642673a5",
   "metadata": {},
   "source": [
    "##### Slicing\n",
    "\n",
    "Teilstrings können wir durch Slicing erzeugen. "
   ]
  },
  {
   "cell_type": "code",
   "execution_count": 5,
   "id": "aba3dc91-1cfc-48d6-be6d-44a76e318a00",
   "metadata": {},
   "outputs": [
    {
     "name": "stdout",
     "output_type": "stream",
     "text": [
      "Hab cht bicht Habic\n"
     ]
    }
   ],
   "source": [
    "s = 'Habicht'\n",
    "s1 = s[:3]         # die ersten 3 Zeichen   \n",
    "s2 = s[-3:]        # die letzten 3 Zeichen\n",
    "s3 = s[2:]         # alles außer den ersten beiden Zeichen\n",
    "s4 = s[:-2]        # alles außer den letzten beiden Zeichen\n",
    "print(s1, s2, s3, s4)"
   ]
  },
  {
   "cell_type": "markdown",
   "id": "5f1e02a4-975d-4809-a16c-27694aecbabb",
   "metadata": {},
   "source": [
    "Der Index der bis-Zahl wird nicht mitgenommen. \n"
   ]
  },
  {
   "cell_type": "code",
   "execution_count": 6,
   "id": "a49e19bd-af7b-4928-a6bd-dd9be63ed81e",
   "metadata": {},
   "outputs": [
    {
     "name": "stdout",
     "output_type": "stream",
     "text": [
      "abic\n"
     ]
    }
   ],
   "source": [
    "s = 'Habicht'\n",
    "s1 = s[1:5]        # von Index 1 bis Index 5 (ausschließlich) - die Differenz der Parameter ist die Länge des Resultats\n",
    "print(s1)"
   ]
  },
  {
   "cell_type": "markdown",
   "id": "f7219a6c-0bcb-492b-8acc-dc9154541e94",
   "metadata": {},
   "source": [
    "##### String-Methoden\n",
    "Eine Übersicht über die wichtigsten String-Methoden findet sich [hier](https://www.w3schools.com/python/python_ref_string.asp)\n",
    "\n",
    "Beispiele:"
   ]
  },
  {
   "cell_type": "code",
   "execution_count": 7,
   "id": "e141ebe4-01c1-4338-a46d-55e4524f7824",
   "metadata": {},
   "outputs": [
    {
     "name": "stdout",
     "output_type": "stream",
     "text": [
      "ABIABIABI abiabiabi\n"
     ]
    }
   ],
   "source": [
    "s = 'Abiabiabi' \n",
    "s1 = s.upper()                 # alles in Großbuchstaben\n",
    "s2 = s.lower()                 # alles in Kleinbuchstaben\n",
    "\n",
    "print(s1, s2) "
   ]
  },
  {
   "cell_type": "code",
   "execution_count": 12,
   "id": "c469b017-e57e-498e-b18b-2e615b258d29",
   "metadata": {},
   "outputs": [
    {
     "name": "stdout",
     "output_type": "stream",
     "text": [
      "2\n"
     ]
    }
   ],
   "source": [
    "s = 'Abiabiabi' \n",
    "k = s.count('abi')             # Anzahl Vorkommen eines Teilstrings\n",
    "print(k)"
   ]
  },
  {
   "cell_type": "code",
   "execution_count": 13,
   "id": "95559239-9343-48cd-a709-569093bcc6bd",
   "metadata": {},
   "outputs": [
    {
     "name": "stdout",
     "output_type": "stream",
     "text": [
      "Abiohaoha\n"
     ]
    }
   ],
   "source": [
    "s1 = s.replace('abi','oha')    # Ersetzen eines Teilstrings\n",
    "print(s1)"
   ]
  },
  {
   "cell_type": "code",
   "execution_count": 16,
   "id": "05cc5252-7c2c-4a86-b896-c5a6de756063",
   "metadata": {},
   "outputs": [
    {
     "name": "stdout",
     "output_type": "stream",
     "text": [
      "True\n"
     ]
    }
   ],
   "source": [
    "s = 'Abiabiabi'  \n",
    "b1 = 'abi' in s                # Abfrage, ob Teilstring vorkommt\n",
    "print(b1)"
   ]
  },
  {
   "cell_type": "code",
   "execution_count": 17,
   "id": "950704a7-347e-4739-b10b-358b6177ee2b",
   "metadata": {},
   "outputs": [
    {
     "name": "stdout",
     "output_type": "stream",
     "text": [
      "True\n"
     ]
    }
   ],
   "source": [
    "s = 'Abiabiabi' \n",
    "b2 = 'aba' not in s            # Abfrage, ob Teilstring nicht vorkommt\n",
    "print(b2)"
   ]
  },
  {
   "cell_type": "markdown",
   "id": "c7ce7b2b-7b5b-4e85-b292-2496779857f8",
   "metadata": {},
   "source": [
    "##### Alle Zeichen eines Strings durchlaufen\n",
    "\n",
    "Zwei Arten, mit einer Schleife alle Zeichen eines Strings zu durchlaufen."
   ]
  },
  {
   "cell_type": "code",
   "execution_count": 18,
   "id": "21149fa9-4568-4a87-9478-3d6418ee4669",
   "metadata": {},
   "outputs": [
    {
     "name": "stdout",
     "output_type": "stream",
     "text": [
      "H\n",
      "a\n",
      "b\n",
      "i\n",
      "c\n",
      "h\n",
      "t\n"
     ]
    }
   ],
   "source": [
    "# Die Laufvariable i geht über die Indizes des Strings\n",
    "s = 'Habicht'\n",
    "for i in range(len(s)):\n",
    "    print(s[i])"
   ]
  },
  {
   "cell_type": "code",
   "execution_count": 19,
   "id": "869b2e80-0239-4b8d-803a-394484a6c4d3",
   "metadata": {},
   "outputs": [
    {
     "name": "stdout",
     "output_type": "stream",
     "text": [
      "H\n",
      "a\n",
      "b\n",
      "i\n",
      "c\n",
      "h\n",
      "t\n"
     ]
    }
   ],
   "source": [
    "# Die Laufvariable c geht über die Zeichen des Strings\n",
    "s = 'Habicht'\n",
    "for c in s:\n",
    "    print(c)"
   ]
  },
  {
   "cell_type": "markdown",
   "id": "cf80912f-3b10-4dcc-a274-04dff8ba3707",
   "metadata": {},
   "source": [
    "##### ord\n",
    "\n",
    "Jedem Zeichen ist mit der Funktion *ord* eine Zahl zugeordnet. Durch diese Zahlen wird eine Ordnung für die Zeichen festgelegt, die mit den Vergleichsoperatoren ausgewertet werden kann."
   ]
  },
  {
   "cell_type": "code",
   "execution_count": 20,
   "id": "fa4b3e73-ec88-4431-9972-00dd008fff2e",
   "metadata": {},
   "outputs": [
    {
     "name": "stdout",
     "output_type": "stream",
     "text": [
      "97\n",
      "98\n",
      "122\n"
     ]
    }
   ],
   "source": [
    "print(ord('a'))\n",
    "print(ord('b'))\n",
    "print(ord('z'))"
   ]
  },
  {
   "cell_type": "code",
   "execution_count": 21,
   "id": "efb2cfe5-6a02-4dc7-b799-d7aae96431a6",
   "metadata": {},
   "outputs": [
    {
     "name": "stdout",
     "output_type": "stream",
     "text": [
      "65\n",
      "66\n",
      "90\n"
     ]
    }
   ],
   "source": [
    "print(ord('A'))\n",
    "print(ord('B'))\n",
    "print(ord('Z'))"
   ]
  },
  {
   "cell_type": "code",
   "execution_count": 22,
   "id": "08ddb8be-83fe-4f84-9fdc-0eb99b7aa308",
   "metadata": {},
   "outputs": [
    {
     "name": "stdout",
     "output_type": "stream",
     "text": [
      "228\n",
      "196\n",
      "223\n",
      "8364\n"
     ]
    }
   ],
   "source": [
    "print(ord('ä'))\n",
    "print(ord('Ä'))\n",
    "print(ord('ß'))\n",
    "print(ord('€'))"
   ]
  },
  {
   "cell_type": "code",
   "execution_count": 29,
   "id": "cddb5a79-caa9-4423-bd49-b19cd2b6c1f9",
   "metadata": {},
   "outputs": [
    {
     "data": {
      "text/plain": [
       "True"
      ]
     },
     "execution_count": 29,
     "metadata": {},
     "output_type": "execute_result"
    }
   ],
   "source": [
    "'a' < 'b'"
   ]
  },
  {
   "cell_type": "markdown",
   "id": "e1b31cbf-2a9c-4bc2-8efb-493be37b4027",
   "metadata": {},
   "source": [
    "Für Strings mit Buchstaben ohne Umlaute ergibt sich dadurch die übliche alphabetische Ordnung."
   ]
  },
  {
   "cell_type": "code",
   "execution_count": 30,
   "id": "a0331ba7-502d-4efb-ac7d-7a5b42bd0b3a",
   "metadata": {},
   "outputs": [
    {
     "data": {
      "text/plain": [
       "True"
      ]
     },
     "execution_count": 30,
     "metadata": {},
     "output_type": "execute_result"
    }
   ],
   "source": [
    "'abc' < 'abd'"
   ]
  },
  {
   "cell_type": "code",
   "execution_count": 31,
   "id": "9c5006ef-84f8-4aad-b1cf-9d1ac6651357",
   "metadata": {},
   "outputs": [
    {
     "data": {
      "text/plain": [
       "False"
      ]
     },
     "execution_count": 31,
     "metadata": {},
     "output_type": "execute_result"
    }
   ],
   "source": [
    "'abcä' < 'abcz'"
   ]
  },
  {
   "cell_type": "markdown",
   "id": "01acf3de-41e4-44da-97d3-ac9ed3e7c4a3",
   "metadata": {},
   "source": [
    "Aber: Kleine Buchstaben haben größere Zahlen zugeordnet als große Buchstaben."
   ]
  },
  {
   "cell_type": "code",
   "execution_count": 32,
   "id": "36039651-248a-4c01-8343-444801b6f020",
   "metadata": {},
   "outputs": [
    {
     "data": {
      "text/plain": [
       "False"
      ]
     },
     "execution_count": 32,
     "metadata": {},
     "output_type": "execute_result"
    }
   ],
   "source": [
    "s1 = 'abc'\n",
    "s2 = 'Abd'\n",
    "s1 < s2"
   ]
  },
  {
   "cell_type": "markdown",
   "id": "46d5063e-2ab1-4a0d-95eb-5afc11f5a048",
   "metadata": {},
   "source": [
    "Die alphabetische Ordnung von Strings ohne Umlaute können wir überprüfen, indem wir \n",
    "die Strings komplett in Kleinbuchstaben oder Großbuchstaben verwandeln.\n"
   ]
  },
  {
   "cell_type": "code",
   "execution_count": 33,
   "id": "55cce529-1f3a-4892-85d8-639c3cfcb40d",
   "metadata": {},
   "outputs": [
    {
     "name": "stdin",
     "output_type": "stream",
     "text": [
      "Bitte eine String eingeben: abc\n",
      "Bitte noch einen String eingeben: Abd\n"
     ]
    },
    {
     "name": "stdout",
     "output_type": "stream",
     "text": [
      "abc kommt alphabetisch vor Abd\n"
     ]
    }
   ],
   "source": [
    "s1 = input('Bitte eine String eingeben:')\n",
    "s2 = input('Bitte noch einen String eingeben:')\n",
    "if s1.lower() < s2.lower():\n",
    "    print(f'{s1} kommt alphabetisch vor {s2}')\n",
    "else:\n",
    "    print(f'{s1} kommt alphabetisch nicht vor {s2}')"
   ]
  },
  {
   "cell_type": "markdown",
   "id": "d6e13d34-48c9-4344-ae77-ec5d28495a25",
   "metadata": {},
   "source": [
    "#### chr\n",
    "\n",
    "Zu einer gegebenen Zahl ermittelt die Funktion *chr* das dazugehörige Zeichen."
   ]
  },
  {
   "cell_type": "code",
   "execution_count": 34,
   "id": "c4620b03-190a-4eb0-880e-43ab3db5afb5",
   "metadata": {},
   "outputs": [
    {
     "name": "stdout",
     "output_type": "stream",
     "text": [
      "A\n",
      "ß\n",
      "€\n"
     ]
    }
   ],
   "source": [
    "print(chr(65))\n",
    "print(chr(223))\n",
    "print(chr(8364))"
   ]
  },
  {
   "cell_type": "code",
   "execution_count": null,
   "id": "5f76c7d5-c394-4003-9006-3c498c7f7a2d",
   "metadata": {},
   "outputs": [],
   "source": []
  }
 ],
 "metadata": {
  "kernelspec": {
   "display_name": "Python 3 (ipykernel)",
   "language": "python",
   "name": "python3"
  },
  "language_info": {
   "codemirror_mode": {
    "name": "ipython",
    "version": 3
   },
   "file_extension": ".py",
   "mimetype": "text/x-python",
   "name": "python",
   "nbconvert_exporter": "python",
   "pygments_lexer": "ipython3",
   "version": "3.12.8"
  }
 },
 "nbformat": 4,
 "nbformat_minor": 5
}
