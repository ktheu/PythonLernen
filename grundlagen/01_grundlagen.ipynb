{
 "cells": [
  {
   "cell_type": "markdown",
   "metadata": {},
   "source": [
    "## Grundlagen\n",
    "\n",
    "[Video](https://youtu.be/P9dbZw4FBgg)"
   ]
  },
  {
   "cell_type": "markdown",
   "metadata": {},
   "source": [
    "### Variablen und Zuweisungen \n",
    "\n",
    "Mit einer Zuweisung ordnen wir einer Variablen einen Wert zu. Zunächst betrachten wir nur ganze Zahlen (int) und Dezimalzahlen (float). Dezimalzahlen werden mit einem Punkt geschrieben, nicht mit einem Komma (Gleitkommazahlen = floating point number).\n"
   ]
  },
  {
   "cell_type": "code",
   "execution_count": 1,
   "metadata": {},
   "outputs": [],
   "source": [
    "k = 8                     # int\n",
    "x = 3.2                   # float   "
   ]
  },
  {
   "cell_type": "markdown",
   "metadata": {},
   "source": [
    "Mit der Funktion *print* können wir die Werte der Variablen ausgeben."
   ]
  },
  {
   "cell_type": "code",
   "execution_count": 2,
   "metadata": {},
   "outputs": [
    {
     "name": "stdout",
     "output_type": "stream",
     "text": [
      "8\n",
      "3.2\n"
     ]
    }
   ],
   "source": [
    "print(k)\n",
    "print(x)"
   ]
  },
  {
   "cell_type": "markdown",
   "metadata": {},
   "source": [
    "*print* kann - mit Komma getrennt - beliebig viele Werte ausgeben. In der Ausgabe werden die Werte durch ein Leerzeichen getrennt."
   ]
  },
  {
   "cell_type": "code",
   "execution_count": 3,
   "metadata": {},
   "outputs": [
    {
     "name": "stdout",
     "output_type": "stream",
     "text": [
      "8 3.2 10\n"
     ]
    }
   ],
   "source": [
    "print(k,x,10)"
   ]
  },
  {
   "cell_type": "markdown",
   "metadata": {},
   "source": [
    "Wir können den Wert von Variablen durch erneute Zuweisung verändern."
   ]
  },
  {
   "cell_type": "code",
   "execution_count": 4,
   "metadata": {},
   "outputs": [
    {
     "name": "stdout",
     "output_type": "stream",
     "text": [
      "5\n"
     ]
    }
   ],
   "source": [
    "x = 5\n",
    "print(x)"
   ]
  },
  {
   "cell_type": "code",
   "execution_count": 5,
   "metadata": {},
   "outputs": [
    {
     "name": "stdout",
     "output_type": "stream",
     "text": [
      "6\n"
     ]
    }
   ],
   "source": [
    "x = x + 1\n",
    "print(x) "
   ]
  },
  {
   "cell_type": "markdown",
   "metadata": {},
   "source": [
    "### Kommentare\n",
    "\n",
    "Kommentare werden nicht ausgeführt. Sie dienen zur Dokumentation.\n",
    "\n"
   ]
  },
  {
   "cell_type": "code",
   "execution_count": null,
   "metadata": {},
   "outputs": [],
   "source": [
    "'''\n",
    "Die ist ein\n",
    "mehrzeiliger Kommentar\n",
    "'''\n",
    "x = 1\n",
    "\n",
    "# dies ist ein einzeiliger Kommentar \n",
    "y = 2\n",
    "z = 3   # auch dies ist ein Kommentar"
   ]
  },
  {
   "cell_type": "markdown",
   "metadata": {},
   "source": [
    "### Variablennamen\n",
    "\n",
    "Variablennamen sind case-sensitiv. Nach mindestens einem führenden Buchstaben oder Unterstrich kann so ziemlich\n",
    "jedes Zeichen folgen. Wir schränken uns freiwillig ein und nehmen in der Regel nur Unterstrich, die Buchstaben des englischen Alphabets und\n",
    "die Ziffern.\n",
    "\n",
    "Wenn es der Lesbarkeit des Programms nicht schadet, erlauben wir uns kurze Variablennamen."
   ]
  },
  {
   "cell_type": "markdown",
   "metadata": {},
   "source": [
    "Ansonsten nehmen wir sprechende Namen, beginnend mit einem kleinen Buchstaben. Zusammengesetze Namen entweder in _camelCase_ oder mit Unterstrich verbunden (snake_case)"
   ]
  },
  {
   "cell_type": "code",
   "execution_count": null,
   "metadata": {},
   "outputs": [],
   "source": [
    "zaehl = 1\n",
    "radius = 2.2\n",
    "anzahlTreffer = 5            # camelCase\n",
    "entfernungZurWand = 3.2      # camelCase\n",
    "anzahl_treffer = 5           # snake_case\n",
    "entfernung_zur_wand = 3.2    # snake_case"
   ]
  },
  {
   "cell_type": "markdown",
   "metadata": {},
   "source": [
    "Für besonders häufig vorkommende Zuweisungen gibt es Kurzformen"
   ]
  },
  {
   "cell_type": "code",
   "execution_count": null,
   "metadata": {},
   "outputs": [],
   "source": [
    "x += 1    # entspricht  x = x + 1\n",
    "x -= 1    # entspricht  x = x - 1\n",
    "x *= 2    # entspricht  x = x * 2 ... usw."
   ]
  },
  {
   "cell_type": "markdown",
   "metadata": {},
   "source": [
    "### Arithmetische Operatoren"
   ]
  },
  {
   "cell_type": "markdown",
   "metadata": {},
   "source": [
    "Grundrechenarten, Exponentation, Modulo-Operator, ganzzahlige Division"
   ]
  },
  {
   "cell_type": "code",
   "execution_count": 6,
   "metadata": {},
   "outputs": [
    {
     "name": "stdout",
     "output_type": "stream",
     "text": [
      "14 8 33 3.6666666666666665 1331 2 3\n"
     ]
    }
   ],
   "source": [
    "x1 = 11 + 3\n",
    "x2 = 11 - 3\n",
    "x3 = 11 * 3\n",
    "x4 = 11 / 3\n",
    "x5 = 11 ** 3           # 11 hoch 3\n",
    "x6 = 11 % 3            # 11 modulo 3 = Rest bei der Division 11 / 3\n",
    "x7 = 11 // 3           # ganzzahlige Division \n",
    "print(x1, x2, x3, x4, x5, x6, x7)"
   ]
  },
  {
   "cell_type": "markdown",
   "metadata": {},
   "source": [
    "Auswertungsreihenfolge: Exponentation vor Punktrechnung vor Strichrechnung. Im Zweifelsfall setzen wir Klammern.\n"
   ]
  }
 ],
 "metadata": {
  "kernelspec": {
   "display_name": "Python 3 (ipykernel)",
   "language": "python",
   "name": "python3"
  },
  "language_info": {
   "codemirror_mode": {
    "name": "ipython",
    "version": 3
   },
   "file_extension": ".py",
   "mimetype": "text/x-python",
   "name": "python",
   "nbconvert_exporter": "python",
   "pygments_lexer": "ipython3",
   "version": "3.12.8"
  }
 },
 "nbformat": 4,
 "nbformat_minor": 4
}
