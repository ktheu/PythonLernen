{
 "cells": [
  {
   "cell_type": "markdown",
   "id": "344526d9-0702-4e47-98ef-c78385432056",
   "metadata": {},
   "source": [
    "### Dateizugriff - Übungen\n",
    "\n",
    "[Video](https://youtu.be/uwjM4wJfY-0)\n"
   ]
  },
  {
   "cell_type": "code",
   "execution_count": null,
   "id": "60d5abf3-38eb-438e-aeda-09922fc3b7e5",
   "metadata": {},
   "outputs": [],
   "source": [
    "''' A1\n",
    "Erstelle eine Datei input1.txt mit dem folgendem Inhalt:\n",
    "\n",
    "7\n",
    "169\n",
    "210\n",
    "203\n",
    "209\n",
    "229\n",
    "175\n",
    "235\n",
    "\n",
    "Die erste Zahl ist die Anzahl der Zeilen, die noch folgen.\n",
    "Lies deren Zahlen in eine Liste data ein und gib data aus.\n",
    "\n",
    "Erwartete Ausgabe:\n",
    "[169, 210, 203, 209, 229, 175, 235]\n",
    "'''\n",
    "# your code "
   ]
  },
  {
   "cell_type": "code",
   "execution_count": null,
   "id": "11f19481-70d8-48ae-a750-9eadc9126d5b",
   "metadata": {},
   "outputs": [],
   "source": [
    "''' A2\n",
    "Erstelle eine Datei input2.txt mit dem folgendem Inhalt:\n",
    "\n",
    "1 1 2 3 4 1 5 1 2 6 4 5 3\n",
    "? 1 ? ? ? ? 1 5 ? 2 ? ? ?\n",
    "\n",
    "Lies Zeile 1 als Liste von Zahlen in Variable a ein.\n",
    "Lies Zeile 2 als Liste von Zahlen in Variable b ein, ersetze dabei ? durch 0.\n",
    "Gib a und b aus.\n",
    "\n",
    "Erwartete Ausgabe:\n",
    "[1, 1, 2, 3, 4, 1, 5, 1, 2, 6, 4, 5, 3]\n",
    "[0, 1, 0, 0, 0, 0, 1, 5, 0, 2, 0, 0, 0]\n",
    "'''\n",
    "# your code"
   ]
  },
  {
   "cell_type": "code",
   "execution_count": null,
   "id": "113ae8bf-9a23-4698-8f5b-94d54aa10714",
   "metadata": {},
   "outputs": [],
   "source": [
    "''' A3\n",
    "Erstelle eine Datei input3.txt mit dem folgendem Inhalt:\n",
    "\n",
    "3\n",
    "Lena 2\n",
    "Malte 3\n",
    "Maike 1\n",
    "\n",
    "Die erste Zahl gibt an, wieviele Datenzeilen folgen.\n",
    "Lies die Daten in eine Liste von Tuples ein und gib die Liste aus.\n",
    "\n",
    "Erwartete Ausgabe:\n",
    "[('Lena', 2), ('Malte', 3), ('Maike', 1)]\n",
    "'''\n",
    "# your code\n"
   ]
  },
  {
   "cell_type": "code",
   "execution_count": 29,
   "id": "4a55439d-0ac4-4842-bfa0-de8538978b52",
   "metadata": {},
   "outputs": [
    {
     "name": "stdout",
     "output_type": "stream",
     "text": [
      "221\n",
      "EinFederchenflogdurchdasLandEinNilpferdschlummerteimSandDieFedersprachIchwillesweckenSieliebteanderezuneckenAufsNilpferdsetztesichdieFederUndstreichelteseindickesLederDasNilpferdsperrteaufdenRachenUndmussteungeheuerlachen\n"
     ]
    }
   ],
   "source": [
    "''' A4\n",
    "Erstelle eine Datei input4.txt mit folgendem Inhalt:\n",
    "\n",
    "Ein Federchen flog durch das Land;\n",
    "Ein Nilpferd schlummerte im Sand.\n",
    "\n",
    "Die Feder sprach: \"Ich will es wecken!\"\n",
    "Sie liebte, andere zu necken.\n",
    "\n",
    "Aufs Nilpferd setzte sich die Feder\n",
    "Und streichelte sein dickes Leder.\n",
    "\n",
    "Das Nilpferd sperrte auf den Rachen\n",
    "Und musste ungeheuer lachen.\n",
    "\n",
    "Lies den gesamten Inhalt der Datei in die Variable text ein.\n",
    "Erstelle einen String text2, der nur die Buchstaben von text enthält, keine Satzzeichen, Leerzeichen oder Zeilenvorschübe.\n",
    "Gib die Länge von text2 aus.\n",
    "Gib text2 aus\n",
    "\n",
    "Erwartete Ausgabe:\n",
    "221\n",
    "EinFederchenflogdurchdasLandEinNilpferdschlummerteimSandDieFedersprachIchwillesweckenSieliebteanderezuneckenAufsNilpferdsetztesichdieFederUndstreichelteseindickesLederDasNilpferdsperrteaufdenRachenUndmussteungeheuerlachen\n",
    "'''\n",
    "f = open('input4.txt',encoding='utf-8')\n",
    "text = f.read()\n",
    "f.close()\n",
    "text2 = ''\n",
    "for c in text:\n",
    "    if c.lower() not in 'abcdefghijklmnopqrstuvwxyzöäüß': continue\n",
    "    text2 += c\n",
    "print(len(text2))\n",
    "print(text2)"
   ]
  },
  {
   "cell_type": "code",
   "execution_count": null,
   "id": "0d6806f4-c133-4cde-b8c1-a816ed8b3f7c",
   "metadata": {},
   "outputs": [],
   "source": [
    "''' A5\n",
    "Lies eine Zahl k zwischen 1 und 20 ein.\n",
    "\n",
    "Gib eine Multiplikationstabelle 1*k .. 20*k in \n",
    "eine Datei ausgabe.txt aus.\n",
    "\n",
    "Beispieldialog:\n",
    "\n",
    "Bitte eine Zahl von 1-20 eingeben:  13\n",
    "Multiplikationstabelle erstellt.\n",
    "\n",
    "Erwarteter Inhalt der Datei:\n",
    "\n",
    "Multiplikationstabelle für 13:\n",
    " 1 × 13 =  13\n",
    " 2 × 13 =  26\n",
    " 3 × 13 =  39\n",
    " 4 × 13 =  52\n",
    " 5 × 13 =  65\n",
    " 6 × 13 =  78\n",
    " 7 × 13 =  91\n",
    " 8 × 13 = 104\n",
    " 9 × 13 = 117\n",
    "10 × 13 = 130\n",
    "11 × 13 = 143\n",
    "12 × 13 = 156\n",
    "13 × 13 = 169\n",
    "14 × 13 = 182\n",
    "15 × 13 = 195\n",
    "16 × 13 = 208\n",
    "17 × 13 = 221\n",
    "18 × 13 = 234\n",
    "19 × 13 = 247\n",
    "20 × 13 = 260\n",
    "'''\n",
    "# your code"
   ]
  }
 ],
 "metadata": {
  "kernelspec": {
   "display_name": "Python 3 (ipykernel)",
   "language": "python",
   "name": "python3"
  },
  "language_info": {
   "codemirror_mode": {
    "name": "ipython",
    "version": 3
   },
   "file_extension": ".py",
   "mimetype": "text/x-python",
   "name": "python",
   "nbconvert_exporter": "python",
   "pygments_lexer": "ipython3",
   "version": "3.12.8"
  }
 },
 "nbformat": 4,
 "nbformat_minor": 5
}
