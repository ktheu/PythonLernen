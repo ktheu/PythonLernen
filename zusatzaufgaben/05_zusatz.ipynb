{
 "cells": [
  {
   "cell_type": "markdown",
   "id": "72b4465f",
   "metadata": {},
   "source": [
    "### Strings2 - Zusatzaufgaben\n",
    "\n",
    "Zusätzliche Übungen zu Strings mit Indexing, Slicing und String-Methoden."
   ]
  },
  {
   "cell_type": "code",
   "execution_count": null,
   "id": "bf2a9a4f",
   "metadata": {},
   "outputs": [],
   "source": [
    "''' Z1\n",
    "Der Anwender gibt einen String ein.\n",
    "Gib den String rückwärts aus.\n",
    "\n",
    "Beispieldialog:\n",
    "\n",
    "Bitte einen String eingeben: Habicht\n",
    "Rückwärts: thcibaH\n",
    "\n",
    "Bitte einen String eingeben: Palindrom\n",
    "Rückwärts: mordnilaP\n",
    "'''\n",
    "# your code"
   ]
  },
  {
   "cell_type": "code",
   "execution_count": null,
   "id": "4d0b0f7b",
   "metadata": {},
   "outputs": [],
   "source": [
    "''' Z2\n",
    "Der Anwender gibt einen String ein.\n",
    "Prüfe, ob es sich um ein Palindrom handelt (vorwärts wie rückwärts gleich).\n",
    "Beachte: Groß- und Kleinschreibung soll ignoriert werden.\n",
    "\n",
    "Beispieldialog:\n",
    "\n",
    "Bitte einen String eingeben: Otto\n",
    "Der String ist ein Palindrom.\n",
    "\n",
    "Bitte einen String eingeben: Anna\n",
    "Der String ist ein Palindrom.\n",
    "\n",
    "Bitte einen String eingeben: Habicht\n",
    "Der String ist kein Palindrom.\n",
    "'''\n",
    "# your code"
   ]
  },
  {
   "cell_type": "code",
   "execution_count": null,
   "id": "8fc132a1",
   "metadata": {},
   "outputs": [],
   "source": [
    "''' Z3\n",
    "Der Anwender gibt einen String ein.\n",
    "Gib den String mit vertauschten Hälften aus.\n",
    "Bei ungerader Länge gehört das mittlere Zeichen zur ersten Hälfte.\n",
    "\n",
    "Beispieldialog:\n",
    "\n",
    "Bitte einen String eingeben: Habicht\n",
    "chtHabi\n",
    "\n",
    "Bitte einen String eingeben: Python\n",
    "honPyt\n",
    "'''\n",
    "# your code"
   ]
  },
  {
   "cell_type": "code",
   "execution_count": null,
   "id": "e26a7728",
   "metadata": {},
   "outputs": [],
   "source": [
    "''' Z4\n",
    "Der Anwender gibt einen String ein.\n",
    "Zähle die Anzahl der Vokale (a, e, i, o, u) im String.\n",
    "Groß- und Kleinschreibung soll nicht unterschieden werden.\n",
    "\n",
    "Beispieldialog:\n",
    "\n",
    "Bitte einen String eingeben: Habicht\n",
    "Der String enthält 2 Vokale.\n",
    "\n",
    "Bitte einen String eingeben: Abenteuer\n",
    "Der String enthält 5 Vokale.\n",
    "'''\n",
    "# your code"
   ]
  },
  {
   "cell_type": "code",
   "execution_count": null,
   "id": "394f63fd",
   "metadata": {},
   "outputs": [],
   "source": [
    "''' Z5\n",
    "Der Anwender gibt einen String ein.\n",
    "Gib jeden zweiten Buchstaben aus (Index 0, 2, 4, 6, ...).\n",
    "\n",
    "Beispieldialog:\n",
    "\n",
    "Bitte einen String eingeben: Habicht\n",
    "Hbch\n",
    "\n",
    "Bitte einen String eingeben: Programmieren\n",
    "Pormern\n",
    "'''\n",
    "# your code"
   ]
  },
  {
   "cell_type": "code",
   "execution_count": null,
   "id": "18137746",
   "metadata": {},
   "outputs": [],
   "source": [
    "''' Z6\n",
    "Der Anwender gibt einen String und ein Zeichen ein.\n",
    "Gib alle Positionen (Indizes) aus, an denen das Zeichen vorkommt.\n",
    "\n",
    "Beispieldialog:\n",
    "\n",
    "Bitte einen String eingeben: Banane\n",
    "Bitte ein Zeichen eingeben: a\n",
    "Das Zeichen 'a' kommt an folgenden Positionen vor: 1 3 5\n",
    "\n",
    "Bitte einen String eingeben: Mississippi\n",
    "Bitte ein Zeichen eingeben: i\n",
    "Das Zeichen 'i' kommt an folgenden Positionen vor: 1 4 7 10\n",
    "'''\n",
    "# your code"
   ]
  },
  {
   "cell_type": "code",
   "execution_count": null,
   "id": "fc9fc268",
   "metadata": {},
   "outputs": [],
   "source": [
    "''' Z7\n",
    "Der Anwender gibt einen String ein.\n",
    "Ersetze alle Vokale (a, e, i, o, u) durch einen Stern (*).\n",
    "Groß- und Kleinschreibung soll beachtet werden.\n",
    "\n",
    "Beispieldialog:\n",
    "\n",
    "Bitte einen String eingeben: Habicht\n",
    "H*b*cht\n",
    "\n",
    "Bitte einen String eingeben: Python ist toll\n",
    "Pyth*n *st t*ll\n",
    "'''\n",
    "# your code"
   ]
  },
  {
   "cell_type": "code",
   "execution_count": null,
   "id": "471ddb71",
   "metadata": {},
   "outputs": [],
   "source": [
    "''' Z8\n",
    "Der Anwender gibt einen String ein.\n",
    "Gib den String pyramidenartig aus: erst 1 Zeichen, dann 2, dann 3, usw.\n",
    "\n",
    "Beispieldialog:\n",
    "\n",
    "Bitte einen String eingeben: Habicht\n",
    "H\n",
    "Ha\n",
    "Hab\n",
    "Habi\n",
    "Habic\n",
    "Habich\n",
    "Habicht\n",
    "'''\n",
    "# your code"
   ]
  },
  {
   "cell_type": "code",
   "execution_count": null,
   "id": "60a53856",
   "metadata": {},
   "outputs": [],
   "source": [
    "''' Z9\n",
    "Der Anwender gibt einen längeren String ein.\n",
    "Finde das am häufigsten vorkommende Zeichen und gib es mit seiner Anzahl aus.\n",
    "Bei Gleichstand genügt ein Zeichen.\n",
    "\n",
    "Beispieldialog:\n",
    "\n",
    "Bitte einen String eingeben: Banane\n",
    "Das häufigste Zeichen ist 'a' mit 2 Vorkommen.\n",
    "\n",
    "Bitte einen String eingeben: Mississippi\n",
    "Das häufigste Zeichen ist 'i' mit 4 Vorkommen.\n",
    "'''\n",
    "# your code"
   ]
  },
  {
   "cell_type": "code",
   "execution_count": null,
   "id": "21696d72",
   "metadata": {},
   "outputs": [],
   "source": [
    "''' Z10\n",
    "Der Anwender gibt zwei Strings ein.\n",
    "Verschränke die beiden Strings: abwechselnd ein Zeichen vom ersten und vom zweiten String.\n",
    "Wenn ein String länger ist, hänge den Rest am Ende an.\n",
    "\n",
    "Beispieldialog:\n",
    "\n",
    "Bitte ersten String eingeben: Hallo\n",
    "Bitte zweiten String eingeben: Welt\n",
    "HWaelllt\n",
    "\n",
    "Bitte ersten String eingeben: AB\n",
    "Bitte zweiten String eingeben: XYZ\n",
    "AXBYZ\n",
    "'''\n",
    "# your code"
   ]
  }
 ],
 "metadata": {
  "kernelspec": {
   "display_name": "Python 3 (ipykernel)",
   "language": "python",
   "name": "python3"
  },
  "language_info": {
   "codemirror_mode": {
    "name": "ipython",
    "version": 3
   },
   "file_extension": ".py",
   "mimetype": "text/x-python",
   "name": "python",
   "nbconvert_exporter": "python",
   "pygments_lexer": "ipython3",
   "version": "3.12.8"
  }
 },
 "nbformat": 4,
 "nbformat_minor": 5
}
